{
 "cells": [
  {
   "cell_type": "markdown",
   "id": "44652a0d",
   "metadata": {},
   "source": [
    "# DNA Toolkit\n",
    "## Bioinformatics in Python: DNA Toolkit. Part 1: Validating and counting nucleotides.\n",
    "link: <https://www.youtube.com/watch?v=Wkx0fI4e0fs&t=213s>"
   ]
  },
  {
   "cell_type": "markdown",
   "id": "799b6c43",
   "metadata": {},
   "source": [
    "The purpose of this tutorial is to make a python program that validates DNA sequence by screening it and find if it contains any unusual nucleotides\n",
    "\n",
    "open sublime text, paste:"
   ]
  },
  {
   "cell_type": "code",
   "execution_count": 1,
   "id": "3cef493c",
   "metadata": {},
   "outputs": [],
   "source": [
    "# DNA Toolkit file\n",
    "\n",
    "Nucleotides = [\"A\", \"C\", \"G\", \"T\"]\n",
    "\n",
    "# Check the sequence to make sure it is a DNA String\n",
    "\n",
    "\n",
    "def validateSeq(dna_seq):\n",
    "    tmpseq = dna_seq.upper()\n",
    "    for nuc in tmpseq:\n",
    "        if nuc not in Nucleotides:\n",
    "            return False\n",
    "    return tmpseq"
   ]
  },
  {
   "cell_type": "markdown",
   "id": "d617ad4d",
   "metadata": {},
   "source": [
    "save it as ```DNA_Toolkit_file.py```\n",
    "\n",
    "this program convert the input DNA sequence to uppercase letters, screen the sequence for the nucleotides listed in the ```Nucleotide``` variable, return the sequence in upper case letters if it passes the test or return ```False``` if even one nucleotide did not pass\n",
    "\n",
    "let’s test it, create a new file in sublime text called ```main.py```, type:"
   ]
  },
  {
   "cell_type": "code",
   "execution_count": 3,
   "id": "0783b552",
   "metadata": {},
   "outputs": [
    {
     "name": "stdout",
     "output_type": "stream",
     "text": [
      "ATTCGAT\n"
     ]
    }
   ],
   "source": [
    "# Import everything from DNA_Toolkit_file.py\n",
    "from DNA_Toolkit_file import *\n",
    "\n",
    "# Creating a random DNA sequence for testing:\n",
    "rndDNAStr = 'attcgat'\n",
    "\n",
    "#print the results\n",
    "print(validateSeq(rndDNAStr))"
   ]
  },
  {
   "cell_type": "markdown",
   "id": "8aee6aa1",
   "metadata": {},
   "source": [
    "Press ```cmd+B``` to run the code\n",
    "\n",
    "Let’s generate a random DNA string, in the ```main.py``` file, type"
   ]
  },
  {
   "cell_type": "code",
   "execution_count": 4,
   "id": "d16b17d5",
   "metadata": {},
   "outputs": [
    {
     "name": "stdout",
     "output_type": "stream",
     "text": [
      "TCGTCGACTAGATAGTATCG\n"
     ]
    }
   ],
   "source": [
    "# Import everything from DNA_Toolkit_file.py\n",
    "from DNA_Toolkit_file import *\n",
    "# import the random package to generate random variables\n",
    "import random\n",
    "\n",
    "# Creating a random DNA sequence for testing:\n",
    "randDNAStr = ''.join([random.choice(Nucleotides)\n",
    "                      for nuc in range(20)])\n",
    "#print the results\n",
    "print(validateSeq(randDNAStr))"
   ]
  },
  {
   "cell_type": "markdown",
   "id": "ee546687",
   "metadata": {},
   "source": [
    "Press ```cmd+B``` to run the code, observe that every time you run it, it gives a new sequence, you can also change the number in “range” to get a different length\n",
    "\n",
    "Now let’s add a new function to the DNA_Toolkit_file.py which counts the frequency of each nucleotide, in the ```DNA_Toolkit_file.py``` file, type:"
   ]
  },
  {
   "cell_type": "code",
   "execution_count": 5,
   "id": "a2e32fb5",
   "metadata": {},
   "outputs": [],
   "source": [
    "# DNA Toolkit file\n",
    "\n",
    "Nucleotides = [\"A\", \"C\", \"G\", \"T\"]\n",
    "\n",
    "# Check the sequence to make sure it is a DNA String\n",
    "\n",
    "\n",
    "def validateSeq(dna_seq):\n",
    "    tmpseq = dna_seq.upper()\n",
    "    for nuc in tmpseq:\n",
    "        if nuc not in Nucleotides:\n",
    "            return False\n",
    "    return tmpseq\n",
    "\n",
    "def countNucFrequency(seq):\n",
    "    tmpFreqDict = {\"A\": 0, \"C\": 0, \"G\": 0, \"T\": 0}\n",
    "    for nuc in seq:\n",
    "        tmpFreqDict[nuc] += 1\n",
    "    return tmpFreqDict"
   ]
  },
  {
   "cell_type": "markdown",
   "id": "73e7b976",
   "metadata": {},
   "source": [
    "Save it and go to ```main.py``` and type: "
   ]
  },
  {
   "cell_type": "code",
   "execution_count": 6,
   "id": "9b6d7ead",
   "metadata": {},
   "outputs": [
    {
     "name": "stdout",
     "output_type": "stream",
     "text": [
      "CGGTATAAACATACAAGGTGAAATACGAGGTGTTGTAGATCGTGCATGCC\n",
      "{'C': 8, 'G': 14, 'T': 12, 'A': 16}\n"
     ]
    }
   ],
   "source": [
    "# Import everything from DNA_Toolkit_file.py\n",
    "from DNA_Toolkit_file import *\n",
    "# import the random package to generate random variables\n",
    "import random\n",
    "\n",
    "# Creating a random DNA sequence for testing:\n",
    "randDNAStr = ''.join([random.choice(Nucleotides)\n",
    "                      for nuc in range(50)])\n",
    "# print the results\n",
    "print(validateSeq(randDNAStr))\n",
    "print(countNucFrequency(randDNAStr))"
   ]
  },
  {
   "cell_type": "markdown",
   "id": "a51834ac",
   "metadata": {},
   "source": [
    "Press ```cmd+B``` to run the code\n",
    "\n",
    "Save the validated DNA sequence in a variable and let the countNucFrequency function run on this new variable, type in ```main.py```:"
   ]
  },
  {
   "cell_type": "code",
   "execution_count": 8,
   "id": "31e97c95",
   "metadata": {},
   "outputs": [
    {
     "name": "stdout",
     "output_type": "stream",
     "text": [
      "GATCCACAACTGTGAGGGCAAACTTACAAGATGCAAAATAGAGCTAAGTG\n",
      "{'G': 12, 'A': 20, 'T': 9, 'C': 9}\n"
     ]
    }
   ],
   "source": [
    "# Import everything from DNA_Toolkit_file.py\n",
    "from DNA_Toolkit_file import *\n",
    "# import the random package to generate random variables\n",
    "import random\n",
    "\n",
    "# Creating a random DNA sequence for testing:\n",
    "randDNAStr = ''.join([random.choice(Nucleotides)\n",
    "                      for nuc in range(50)])\n",
    "\n",
    "# save the validated sequence as a new variable\n",
    "DNAStr = validateSeq(randDNAStr)\n",
    "# print the results\n",
    "print(validateSeq(randDNAStr))\n",
    "print(countNucFrequency(DNAStr))"
   ]
  },
  {
   "cell_type": "markdown",
   "id": "627af355",
   "metadata": {},
   "source": [
    "Optional: use the collections and count in python instead of the countNucFrequency function, in the ```DNA_Toolkit_file.py``` file, type:"
   ]
  },
  {
   "cell_type": "code",
   "execution_count": 9,
   "id": "3bf64c5d",
   "metadata": {},
   "outputs": [],
   "source": [
    "# DNA Toolkit file\n",
    "import collections\n",
    "\n",
    "Nucleotides = [\"A\", \"C\", \"G\", \"T\"]\n",
    "\n",
    "# Check the sequence to make sure it is a DNA String\n",
    "\n",
    "\n",
    "def validateSeq(dna_seq):\n",
    "    tmpseq = dna_seq.upper()\n",
    "    for nuc in tmpseq:\n",
    "        if nuc not in Nucleotides:\n",
    "            return False\n",
    "    return tmpseq\n",
    "\n",
    "\n",
    "def countNucFrequency(seq):\n",
    "    #tmpFreqDict = {\"A\": 0, \"C\": 0, \"G\": 0, \"T\": 0}\n",
    "    # for nuc in seq:\n",
    "        #tmpFreqDict[nuc] += 1\n",
    "    # return tmpFreqDict\n",
    "    return dict(collections.Counter(seq))"
   ]
  },
  {
   "cell_type": "markdown",
   "id": "fbe8d48b",
   "metadata": {},
   "source": [
    "## Bioinformatics in Python: DNA Toolkit. Part 2: Transcription, Reverse Complement.\n",
    "\n",
    "link: <https://www.youtube.com/watch?v=h1aP9HCFu6Y>\n",
    "\n",
    "Add a function to transcripe the sequence, in the ```DNA_Toolkit_file.py``` file, type:"
   ]
  },
  {
   "cell_type": "code",
   "execution_count": 10,
   "id": "e498afc5",
   "metadata": {},
   "outputs": [],
   "source": [
    "# DNA Toolkit file\n",
    "import collections\n",
    "\n",
    "Nucleotides = [\"A\", \"C\", \"G\", \"T\"]\n",
    "\n",
    "# Check the sequence to make sure it is a DNA String\n",
    "\n",
    "\n",
    "def validateSeq(dna_seq):\n",
    "    tmpseq = dna_seq.upper()\n",
    "    for nuc in tmpseq:\n",
    "        if nuc not in Nucleotides:\n",
    "            return False\n",
    "    return tmpseq\n",
    "\n",
    "\n",
    "def countNucFrequency(seq):\n",
    "    #tmpFreqDict = {\"A\": 0, \"C\": 0, \"G\": 0, \"T\": 0}\n",
    "    # for nuc in seq:\n",
    "        #tmpFreqDict[nuc] += 1\n",
    "    # return tmpFreqDict\n",
    "    return dict(collections.Counter(seq))\n",
    "\n",
    "\n",
    "def transcription(seq):\n",
    "    \"\"\"DNA -> RNA Transcription. Replacing Thymine with Uracil\"\"\"\n",
    "    return seq.replace(\"T\", \"U\")"
   ]
  },
  {
   "cell_type": "markdown",
   "id": "c5d4c341",
   "metadata": {},
   "source": [
    "in ```main.py```, type:"
   ]
  },
  {
   "cell_type": "code",
   "execution_count": 12,
   "id": "96bb910b",
   "metadata": {},
   "outputs": [
    {
     "name": "stdout",
     "output_type": "stream",
     "text": [
      "CGAACTACAGTCGTAAGAGTCTCCTTCGTAGCTACTTCCGAGTACTTCAT\n",
      "{'C': 14, 'G': 9, 'A': 12, 'T': 15}\n",
      "CGAACUACAGUCGUAAGAGUCUCCUUCGUAGCUACUUCCGAGUACUUCAU\n"
     ]
    }
   ],
   "source": [
    "# Import everything from DNA_Toolkit_file.py\n",
    "from DNA_Toolkit_file import *\n",
    "# import the random package to generate random variables\n",
    "import random\n",
    "\n",
    "# Creating a random DNA sequence for testing:\n",
    "randDNAStr = ''.join([random.choice(Nucleotides)\n",
    "                      for nuc in range(50)])\n",
    "# print the results\n",
    "print(validateSeq(randDNAStr))\n",
    "print(countNucFrequency(randDNAStr))\n",
    "print(transcription(randDNAStr))"
   ]
  },
  {
   "cell_type": "markdown",
   "id": "a2ecd82d",
   "metadata": {},
   "source": [
    "So far so good, the last three lines in the main.py tells the program to print the DNA sequence, the count of each nucleotide and the transcribed sequence. Let’s make the program annotate each one of these, in ```main.py```, type:"
   ]
  },
  {
   "cell_type": "code",
   "execution_count": 13,
   "id": "ff921bbc",
   "metadata": {},
   "outputs": [
    {
     "name": "stdout",
     "output_type": "stream",
     "text": [
      "\n",
      "Sequence: (DNAStr)\n",
      "\n",
      "[1] + Sequence Length: 50\n",
      "\n",
      "[2] + Nucleotide Frequency: {'A': 20, 'C': 11, 'G': 14, 'T': 5}\n",
      "\n",
      "[3] + DNA/RNA Transcription: AACGAGGGAUCCGUGUUCAAAACUACAGCACAAAGAGGGAGACACAGACG\n",
      "\n"
     ]
    }
   ],
   "source": [
    "# Import everything from DNA_Toolkit_file.py\n",
    "from DNA_Toolkit_file import *\n",
    "\n",
    "# import the random package to generate random variables\n",
    "import random\n",
    "\n",
    "# Creating a random DNA sequence for testing:\n",
    "DNAStr = ''.join([random.choice(Nucleotides)\n",
    "                  for nuc in range(50)])\n",
    "# print the results\n",
    "print(f'\\nSequence: (DNAStr)\\n')\n",
    "print(f'[1] + Sequence Length: {len(DNAStr)}\\n')\n",
    "print(f'[2] + Nucleotide Frequency: {countNucFrequency(DNAStr)}\\n')\n",
    "print(f'[3] + DNA/RNA Transcription: {transcription(DNAStr)}\\n')"
   ]
  },
  {
   "cell_type": "markdown",
   "id": "91689258",
   "metadata": {},
   "source": [
    "Now, we will do another function for making the reverse complementary strand for the DNA\n",
    "\n",
    "in the ```DNA_Toolkit_file.py``` file, type:"
   ]
  },
  {
   "cell_type": "code",
   "execution_count": 15,
   "id": "40fcda6d",
   "metadata": {},
   "outputs": [],
   "source": [
    "# DNA Toolkit file\n",
    "import collections\n",
    "\n",
    "Nucleotides = [\"A\", \"C\", \"G\", \"T\"]\n",
    "DNA_ReverseComplement={'A':'T','T':'A','G':'C','C':'G'}\n",
    "\n",
    "\n",
    "# Check the sequence to make sure it is a DNA String\n",
    "\n",
    "\n",
    "def validateSeq(dna_seq):\n",
    "    tmpseq = dna_seq.upper()\n",
    "    for nuc in tmpseq:\n",
    "        if nuc not in Nucleotides:\n",
    "            return False\n",
    "    return tmpseq\n",
    "\n",
    "\n",
    "def countNucFrequency(seq):\n",
    "    #tmpFreqDict = {\"A\": 0, \"C\": 0, \"G\": 0, \"T\": 0}\n",
    "    # for nuc in seq:\n",
    "        #tmpFreqDict[nuc] += 1\n",
    "    # return tmpFreqDict\n",
    "    return dict(collections.Counter(seq))\n",
    "\n",
    "\n",
    "def transcription(seq):\n",
    "    \"\"\"DNA -> RNA Transcription. Replacing Thymine with Uracil\"\"\"\n",
    "    return seq.replace(\"T\", \"U\")\n",
    "\n",
    "\n",
    "def reverse_complement(seq):\n",
    "    \"\"\"Swapping adenine with thymine and guanine with cytosine. Reversing newly generated string\"\"\"\n",
    "    return ''.join([DNA_ReverseComplement[nuc] for nuc in seq])[::-1]"
   ]
  },
  {
   "cell_type": "markdown",
   "id": "1a8a360f",
   "metadata": {},
   "source": [
    "Go to ```main.py``` and type:"
   ]
  },
  {
   "cell_type": "code",
   "execution_count": 17,
   "id": "ab923e0f",
   "metadata": {},
   "outputs": [
    {
     "name": "stdout",
     "output_type": "stream",
     "text": [
      "\n",
      "Sequence: (DNAStr)\n",
      "\n",
      "[1] + Sequence Length: 50\n",
      "\n",
      "[2] + Nucleotide Frequency: {'A': 10, 'T': 14, 'C': 18, 'G': 8}\n",
      "\n",
      "[3] + DNA/RNA Transcription: AAAUCUCGAUGCAGCCCACGAACCCUCUCUCUUGUGCGUCCAUCACUUGU\n",
      "\n",
      "[4] + DNA String + Reverse Complement:\n",
      "5' AAATCTCGATGCAGCCCACGAACCCTCTCTCTTGTGCGTCCATCACTTGT 3'\n",
      "   ||||||||||||||||||||||||||||||||||||||||||||||||||\n",
      "3' TTTAGAGCTACGTCGGGTGCTTGGGAGAGAGAACACGCAGGTAGTGAACA 5'\n",
      "\n"
     ]
    }
   ],
   "source": [
    "# Import everything from DNA_Toolkit_file.py\n",
    "from DNA_Toolkit_file import *\n",
    "\n",
    "# import the random package to generate random variables\n",
    "import random\n",
    "\n",
    "# Creating a random DNA sequence for testing:\n",
    "DNAStr = ''.join([random.choice(Nucleotides)\n",
    "                  for nuc in range(50)])\n",
    "# print the results\n",
    "print(f'\\nSequence: (DNAStr)\\n')\n",
    "print(f'[1] + Sequence Length: {len(DNAStr)}\\n')\n",
    "print(f'[2] + Nucleotide Frequency: {countNucFrequency(DNAStr)}\\n')\n",
    "print(f'[3] + DNA/RNA Transcription: {transcription(DNAStr)}\\n')\n",
    "\n",
    "print(f\"[4] + DNA String + Reverse Complement:\\n5' {DNAStr} 3'\")\n",
    "\n",
    "print(f\"   {''.join(['|' for c in range(len(DNAStr))])}\")\n",
    "\n",
    "print(f\"3' {reverse_complement(DNAStr)[::-1]} 5'\\n\")"
   ]
  },
  {
   "cell_type": "markdown",
   "id": "d5339b01",
   "metadata": {},
   "source": [
    "Clean up a little by cutting the sequences from the DNA_Toolkit_file.py and paste them in a new file called ```sequences.py```"
   ]
  },
  {
   "cell_type": "markdown",
   "id": "08dee06c",
   "metadata": {},
   "source": [
    "Nucleotides = [\"A\", \"C\", \"G\", \"T\"]\n",
    "DNA_ReverseComplement = {'A': 'T', 'T': 'A', 'G': 'C', 'C': 'G'}\n",
    "\n",
    "Import this file in DNA_Toolkit_file.py instead of the sequences lines:"
   ]
  },
  {
   "cell_type": "code",
   "execution_count": 20,
   "id": "68e86120",
   "metadata": {},
   "outputs": [],
   "source": [
    "# DNA Toolkit file\n",
    "import collections\n",
    "from sequences import *\n",
    "\n",
    "# Check the sequence to make sure it is a DNA String\n",
    "\n",
    "\n",
    "def validateSeq(dna_seq):\n",
    "    tmpseq = dna_seq.upper()\n",
    "    for nuc in tmpseq:\n",
    "        if nuc not in Nucleotides:\n",
    "            return False\n",
    "    return tmpseq\n",
    "\n",
    "\n",
    "def countNucFrequency(seq):\n",
    "    #tmpFreqDict = {\"A\": 0, \"C\": 0, \"G\": 0, \"T\": 0}\n",
    "    # for nuc in seq:\n",
    "        #tmpFreqDict[nuc] += 1\n",
    "    # return tmpFreqDict\n",
    "    return dict(collections.Counter(seq))\n",
    "\n",
    "\n",
    "def transcription(seq):\n",
    "    \"\"\"DNA -> RNA Transcription. Replacing Thymine with Uracil\"\"\"\n",
    "    return seq.replace(\"T\", \"U\")\n",
    "\n",
    "\n",
    "def reverse_complement(seq):\n",
    "    \"\"\"Swapping adenine with thymine and guanine with cytosine. Reversing newly generated string\"\"\"\n",
    "    return ''.join([DNA_ReverseComplement[nuc] for nuc in seq])[::-1]"
   ]
  },
  {
   "cell_type": "markdown",
   "id": "d16226e1",
   "metadata": {},
   "source": [
    "Create a utilities file to color the nucleotides for better presentation, create a new file called utilities.py and copy-paste the following in it:"
   ]
  },
  {
   "cell_type": "code",
   "execution_count": 21,
   "id": "f1045391",
   "metadata": {},
   "outputs": [],
   "source": [
    "def colored(seq):\n",
    "    bcolors = {\n",
    "        'A': '\\033[92m',\n",
    "        'C': '\\033[94m',\n",
    "        'G': '\\033[93m',\n",
    "        'T': '\\033[91m',\n",
    "        'U': '\\033[91m',\n",
    "        'reset': '\\033[0;0m'\n",
    "    }\n",
    "\n",
    "    tmpStr = \"\"\n",
    "\n",
    "    for nuc in seq:\n",
    "        if nuc in bcolors:\n",
    "            tmpStr += bcolors[nuc] + nuc\n",
    "        else:\n",
    "            tmpStr += bcolors['reset'] + nuc\n",
    "\n",
    "    return tmpStr + '\\033[0;0m'"
   ]
  },
  {
   "cell_type": "markdown",
   "id": "a30f9ef3",
   "metadata": {},
   "source": [
    "Now edit main.py to be like follows:"
   ]
  },
  {
   "cell_type": "code",
   "execution_count": 23,
   "id": "a5bee832",
   "metadata": {},
   "outputs": [
    {
     "name": "stdout",
     "output_type": "stream",
     "text": [
      "{'G': 14, 'A': 15, 'T': 9, 'C': 12}\n",
      "\n",
      "Sequence: \u001b[93mG\u001b[92mA\u001b[93mG\u001b[91mT\u001b[94mC\u001b[92mA\u001b[92mA\u001b[92mA\u001b[93mG\u001b[92mA\u001b[94mC\u001b[92mA\u001b[93mG\u001b[92mA\u001b[93mG\u001b[92mA\u001b[93mG\u001b[93mG\u001b[91mT\u001b[91mT\u001b[92mA\u001b[91mT\u001b[93mG\u001b[93mG\u001b[94mC\u001b[91mT\u001b[92mA\u001b[92mA\u001b[94mC\u001b[91mT\u001b[93mG\u001b[94mC\u001b[94mC\u001b[92mA\u001b[92mA\u001b[92mA\u001b[94mC\u001b[94mC\u001b[91mT\u001b[91mT\u001b[94mC\u001b[93mG\u001b[93mG\u001b[93mG\u001b[94mC\u001b[94mC\u001b[93mG\u001b[94mC\u001b[92mA\u001b[91mT\u001b[0;0m\n",
      "\n",
      "[1] + Sequence Length: 50\n",
      "\n",
      "\u001b[0;0m[\u001b[0;0m2\u001b[0;0m]\u001b[0;0m \u001b[0;0m+\u001b[0;0m \u001b[0;0mN\u001b[0;0mu\u001b[0;0mc\u001b[0;0ml\u001b[0;0me\u001b[0;0mo\u001b[0;0mt\u001b[0;0mi\u001b[0;0md\u001b[0;0me\u001b[0;0m \u001b[0;0mF\u001b[0;0mr\u001b[0;0me\u001b[0;0mq\u001b[0;0mu\u001b[0;0me\u001b[0;0mn\u001b[0;0mc\u001b[0;0my\u001b[0;0m:\u001b[0;0m \u001b[0;0m{\u001b[0;0m'\u001b[93mG\u001b[0;0m'\u001b[0;0m:\u001b[0;0m \u001b[0;0m1\u001b[0;0m4\u001b[0;0m,\u001b[0;0m \u001b[0;0m'\u001b[92mA\u001b[0;0m'\u001b[0;0m:\u001b[0;0m \u001b[0;0m1\u001b[0;0m5\u001b[0;0m,\u001b[0;0m \u001b[0;0m'\u001b[91mT\u001b[0;0m'\u001b[0;0m:\u001b[0;0m \u001b[0;0m9\u001b[0;0m,\u001b[0;0m \u001b[0;0m'\u001b[94mC\u001b[0;0m'\u001b[0;0m:\u001b[0;0m \u001b[0;0m1\u001b[0;0m2\u001b[0;0m}\u001b[0;0m\n",
      "\u001b[0;0m\n",
      "[3] + DNA/RNA Transcription: \u001b[93mG\u001b[92mA\u001b[93mG\u001b[91mU\u001b[94mC\u001b[92mA\u001b[92mA\u001b[92mA\u001b[93mG\u001b[92mA\u001b[94mC\u001b[92mA\u001b[93mG\u001b[92mA\u001b[93mG\u001b[92mA\u001b[93mG\u001b[93mG\u001b[91mU\u001b[91mU\u001b[92mA\u001b[91mU\u001b[93mG\u001b[93mG\u001b[94mC\u001b[91mU\u001b[92mA\u001b[92mA\u001b[94mC\u001b[91mU\u001b[93mG\u001b[94mC\u001b[94mC\u001b[92mA\u001b[92mA\u001b[92mA\u001b[94mC\u001b[94mC\u001b[91mU\u001b[91mU\u001b[94mC\u001b[93mG\u001b[93mG\u001b[93mG\u001b[94mC\u001b[94mC\u001b[93mG\u001b[94mC\u001b[92mA\u001b[91mU\u001b[0;0m\n",
      "\n",
      "[4] + DNA String + Reverse Complement:\n",
      "5' \u001b[93mG\u001b[92mA\u001b[93mG\u001b[91mT\u001b[94mC\u001b[92mA\u001b[92mA\u001b[92mA\u001b[93mG\u001b[92mA\u001b[94mC\u001b[92mA\u001b[93mG\u001b[92mA\u001b[93mG\u001b[92mA\u001b[93mG\u001b[93mG\u001b[91mT\u001b[91mT\u001b[92mA\u001b[91mT\u001b[93mG\u001b[93mG\u001b[94mC\u001b[91mT\u001b[92mA\u001b[92mA\u001b[94mC\u001b[91mT\u001b[93mG\u001b[94mC\u001b[94mC\u001b[92mA\u001b[92mA\u001b[92mA\u001b[94mC\u001b[94mC\u001b[91mT\u001b[91mT\u001b[94mC\u001b[93mG\u001b[93mG\u001b[93mG\u001b[94mC\u001b[94mC\u001b[93mG\u001b[94mC\u001b[92mA\u001b[91mT\u001b[0;0m 3'\n",
      "   ||||||||||||||||||||||||||||||||||||||||||||||||||\n",
      "3' \u001b[92mA\u001b[91mT\u001b[93mG\u001b[94mC\u001b[93mG\u001b[93mG\u001b[94mC\u001b[94mC\u001b[94mC\u001b[93mG\u001b[92mA\u001b[92mA\u001b[93mG\u001b[93mG\u001b[91mT\u001b[91mT\u001b[91mT\u001b[93mG\u001b[93mG\u001b[94mC\u001b[92mA\u001b[93mG\u001b[91mT\u001b[91mT\u001b[92mA\u001b[93mG\u001b[94mC\u001b[94mC\u001b[92mA\u001b[91mT\u001b[92mA\u001b[92mA\u001b[94mC\u001b[94mC\u001b[91mT\u001b[94mC\u001b[91mT\u001b[94mC\u001b[91mT\u001b[93mG\u001b[91mT\u001b[94mC\u001b[91mT\u001b[91mT\u001b[91mT\u001b[93mG\u001b[92mA\u001b[94mC\u001b[91mT\u001b[94mC\u001b[0;0m 5'\n",
      "\n"
     ]
    }
   ],
   "source": [
    "# Import everything from DNA_Toolkit_file.py\n",
    "from DNA_Toolkit_file import *\n",
    "from utilities import colored\n",
    "\n",
    "# import the random package to generate random variables\n",
    "import random\n",
    "\n",
    "# Creating a random DNA sequence for testing:\n",
    "DNAStr = ''.join([random.choice(Nucleotides)\n",
    "                  for nuc in range(50)])\n",
    "# print the results\n",
    "print(countNucFrequency(DNAStr))\n",
    "\n",
    "print(f'\\nSequence: {colored(DNAStr)}\\n')\n",
    "print(f'[1] + Sequence Length: {len(DNAStr)}\\n')\n",
    "print(colored(f'[2] + Nucleotide Frequency: {countNucFrequency(DNAStr)}\\n'))\n",
    "\n",
    "print(f'[3] + DNA/RNA Transcription: {colored(transcription(DNAStr))}\\n')\n",
    "\n",
    "print(f\"[4] + DNA String + Reverse Complement:\\n5' {colored(DNAStr)} 3'\")\n",
    "print(f\"   {''.join(['|' for c in range(len(DNAStr))])}\")\n",
    "print(f\"3' {colored(reverse_complement(DNAStr))} 5'\\n\")"
   ]
  },
  {
   "cell_type": "markdown",
   "id": "b1676c89",
   "metadata": {},
   "source": [
    "The syblime editor doesn’t support these colors so run the script in terminal to see the results."
   ]
  },
  {
   "cell_type": "markdown",
   "id": "549b231c",
   "metadata": {},
   "source": [
    "## Bioinformatics in Python: DNA Toolkit. Part 3: GC Content Calculation.\n",
    "\n",
    "link:<https://www.youtube.com/watch?v=7k9nCLrHipQ>\n",
    "\n",
    "First, we are going to do the complement strand of the DNA using a pythonic function as an alternative way.  Go to DNA_Toolkit_file.py and type:"
   ]
  },
  {
   "cell_type": "code",
   "execution_count": 25,
   "id": "14495e19",
   "metadata": {},
   "outputs": [],
   "source": [
    "# DNA Toolkit file\n",
    "import collections\n",
    "from sequences import *\n",
    "\n",
    "# Check the sequence to make sure it is a DNA String\n",
    "\n",
    "\n",
    "def validateSeq(dna_seq):\n",
    "    tmpseq = dna_seq.upper()\n",
    "    for nuc in tmpseq:\n",
    "        if nuc not in Nucleotides:\n",
    "            return False\n",
    "    return tmpseq\n",
    "\n",
    "\n",
    "def countNucFrequency(seq):\n",
    "    #tmpFreqDict = {\"A\": 0, \"C\": 0, \"G\": 0, \"T\": 0}\n",
    "    # for nuc in seq:\n",
    "        #tmpFreqDict[nuc] += 1\n",
    "    # return tmpFreqDict\n",
    "    return dict(collections.Counter(seq))\n",
    "\n",
    "\n",
    "def transcription(seq):\n",
    "    \"\"\"DNA -> RNA Transcription. Replacing Thymine with Uracil\"\"\"\n",
    "    return seq.replace(\"T\", \"U\")\n",
    "\n",
    "\n",
    "def reverse_complement(seq):\n",
    "    \"\"\"Swapping adenine with thymine and guanine with cytosine. Reversing newly generated string\"\"\"\n",
    "    # return ''.join([DNA_ReverseComplement[nuc] for nuc in seq])\n",
    "    # Pythonic approach. A little bit faster solution.\n",
    "    mapping = str.maketrans('ATCG', 'TAGC')\n",
    "    return seq.translate(mapping)[::-1]"
   ]
  },
  {
   "cell_type": "markdown",
   "id": "f20d19e3",
   "metadata": {},
   "source": [
    "Calculate GC content. Go to DNA_Toolkit_file.py, type:"
   ]
  },
  {
   "cell_type": "code",
   "execution_count": 27,
   "id": "0c9492f6",
   "metadata": {},
   "outputs": [],
   "source": [
    "# DNA Toolkit file\n",
    "import collections\n",
    "from sequences import *\n",
    "\n",
    "# Check the sequence to make sure it is a DNA String\n",
    "\n",
    "\n",
    "def validateSeq(dna_seq):\n",
    "    tmpseq = dna_seq.upper()\n",
    "    for nuc in tmpseq:\n",
    "        if nuc not in Nucleotides:\n",
    "            return False\n",
    "    return tmpseq\n",
    "\n",
    "\n",
    "def countNucFrequency(seq):\n",
    "    #tmpFreqDict = {\"A\": 0, \"C\": 0, \"G\": 0, \"T\": 0}\n",
    "    # for nuc in seq:\n",
    "        #tmpFreqDict[nuc] += 1\n",
    "    # return tmpFreqDict\n",
    "    return dict(collections.Counter(seq))\n",
    "\n",
    "\n",
    "def transcription(seq):\n",
    "    \"\"\"DNA -> RNA Transcription. Replacing Thymine with Uracil\"\"\"\n",
    "    return seq.replace(\"T\", \"U\")\n",
    "\n",
    "\n",
    "def reverse_complement(seq):\n",
    "    \"\"\"Swapping adenine with thymine and guanine with cytosine. Reversing newly generated string\"\"\"\n",
    "    # return ''.join([DNA_ReverseComplement[nuc] for nuc in seq])\n",
    "    # Pythonic approach. A little bit faster solution.\n",
    "    mapping = str.maketrans('ATCG', 'TAGC')\n",
    "    return seq.translate(mapping)[::-1]\n",
    "\n",
    "\n",
    "def gc_content(seq):\n",
    "    \"\"\"GC Content in a DNA/RNA sequence\"\"\"\n",
    "    return round((seq.count('C') + seq.count('G')) / len(seq) * 100)"
   ]
  },
  {
   "cell_type": "markdown",
   "id": "4c92c922",
   "metadata": {},
   "source": [
    "- Go to main.py, type:"
   ]
  },
  {
   "cell_type": "code",
   "execution_count": 29,
   "id": "4d5b5dd7",
   "metadata": {},
   "outputs": [
    {
     "name": "stdout",
     "output_type": "stream",
     "text": [
      "{'C': 11, 'T': 17, 'G': 13, 'A': 9}\n",
      "\n",
      "Sequence: \u001b[94mC\u001b[91mT\u001b[93mG\u001b[93mG\u001b[93mG\u001b[91mT\u001b[94mC\u001b[94mC\u001b[93mG\u001b[93mG\u001b[91mT\u001b[92mA\u001b[91mT\u001b[91mT\u001b[93mG\u001b[92mA\u001b[93mG\u001b[94mC\u001b[91mT\u001b[92mA\u001b[92mA\u001b[93mG\u001b[94mC\u001b[94mC\u001b[93mG\u001b[94mC\u001b[91mT\u001b[94mC\u001b[91mT\u001b[94mC\u001b[92mA\u001b[93mG\u001b[92mA\u001b[92mA\u001b[93mG\u001b[91mT\u001b[93mG\u001b[91mT\u001b[91mT\u001b[91mT\u001b[92mA\u001b[93mG\u001b[91mT\u001b[91mT\u001b[91mT\u001b[92mA\u001b[94mC\u001b[91mT\u001b[91mT\u001b[94mC\u001b[0;0m\n",
      "\n",
      "[1] + Sequence Length: 50\n",
      "\n",
      "\u001b[0;0m[\u001b[0;0m2\u001b[0;0m]\u001b[0;0m \u001b[0;0m+\u001b[0;0m \u001b[0;0mN\u001b[0;0mu\u001b[0;0mc\u001b[0;0ml\u001b[0;0me\u001b[0;0mo\u001b[0;0mt\u001b[0;0mi\u001b[0;0md\u001b[0;0me\u001b[0;0m \u001b[0;0mF\u001b[0;0mr\u001b[0;0me\u001b[0;0mq\u001b[0;0mu\u001b[0;0me\u001b[0;0mn\u001b[0;0mc\u001b[0;0my\u001b[0;0m:\u001b[0;0m \u001b[0;0m{\u001b[0;0m'\u001b[94mC\u001b[0;0m'\u001b[0;0m:\u001b[0;0m \u001b[0;0m1\u001b[0;0m1\u001b[0;0m,\u001b[0;0m \u001b[0;0m'\u001b[91mT\u001b[0;0m'\u001b[0;0m:\u001b[0;0m \u001b[0;0m1\u001b[0;0m7\u001b[0;0m,\u001b[0;0m \u001b[0;0m'\u001b[93mG\u001b[0;0m'\u001b[0;0m:\u001b[0;0m \u001b[0;0m1\u001b[0;0m3\u001b[0;0m,\u001b[0;0m \u001b[0;0m'\u001b[92mA\u001b[0;0m'\u001b[0;0m:\u001b[0;0m \u001b[0;0m9\u001b[0;0m}\u001b[0;0m\n",
      "\u001b[0;0m\n",
      "[3] + DNA/RNA Transcription: \u001b[94mC\u001b[91mU\u001b[93mG\u001b[93mG\u001b[93mG\u001b[91mU\u001b[94mC\u001b[94mC\u001b[93mG\u001b[93mG\u001b[91mU\u001b[92mA\u001b[91mU\u001b[91mU\u001b[93mG\u001b[92mA\u001b[93mG\u001b[94mC\u001b[91mU\u001b[92mA\u001b[92mA\u001b[93mG\u001b[94mC\u001b[94mC\u001b[93mG\u001b[94mC\u001b[91mU\u001b[94mC\u001b[91mU\u001b[94mC\u001b[92mA\u001b[93mG\u001b[92mA\u001b[92mA\u001b[93mG\u001b[91mU\u001b[93mG\u001b[91mU\u001b[91mU\u001b[91mU\u001b[92mA\u001b[93mG\u001b[91mU\u001b[91mU\u001b[91mU\u001b[92mA\u001b[94mC\u001b[91mU\u001b[91mU\u001b[94mC\u001b[0;0m\n",
      "\n",
      "[4] + DNA String + Reverse Complement:\n",
      "5' \u001b[94mC\u001b[91mT\u001b[93mG\u001b[93mG\u001b[93mG\u001b[91mT\u001b[94mC\u001b[94mC\u001b[93mG\u001b[93mG\u001b[91mT\u001b[92mA\u001b[91mT\u001b[91mT\u001b[93mG\u001b[92mA\u001b[93mG\u001b[94mC\u001b[91mT\u001b[92mA\u001b[92mA\u001b[93mG\u001b[94mC\u001b[94mC\u001b[93mG\u001b[94mC\u001b[91mT\u001b[94mC\u001b[91mT\u001b[94mC\u001b[92mA\u001b[93mG\u001b[92mA\u001b[92mA\u001b[93mG\u001b[91mT\u001b[93mG\u001b[91mT\u001b[91mT\u001b[91mT\u001b[92mA\u001b[93mG\u001b[91mT\u001b[91mT\u001b[91mT\u001b[92mA\u001b[94mC\u001b[91mT\u001b[91mT\u001b[94mC\u001b[0;0m 3'\n",
      "   ||||||||||||||||||||||||||||||||||||||||||||||||||\n",
      "3' \u001b[93mG\u001b[92mA\u001b[92mA\u001b[93mG\u001b[91mT\u001b[92mA\u001b[92mA\u001b[92mA\u001b[94mC\u001b[91mT\u001b[92mA\u001b[92mA\u001b[92mA\u001b[94mC\u001b[92mA\u001b[94mC\u001b[91mT\u001b[91mT\u001b[94mC\u001b[91mT\u001b[93mG\u001b[92mA\u001b[93mG\u001b[92mA\u001b[93mG\u001b[94mC\u001b[93mG\u001b[93mG\u001b[94mC\u001b[91mT\u001b[91mT\u001b[92mA\u001b[93mG\u001b[94mC\u001b[91mT\u001b[94mC\u001b[92mA\u001b[92mA\u001b[91mT\u001b[92mA\u001b[94mC\u001b[94mC\u001b[93mG\u001b[93mG\u001b[92mA\u001b[94mC\u001b[94mC\u001b[94mC\u001b[92mA\u001b[93mG\u001b[0;0m 5'\n",
      "\n",
      "[5] + GC Content: 48%\n",
      "\n"
     ]
    }
   ],
   "source": [
    "# Import everything from DNA_Toolkit_file.py\n",
    "from DNA_Toolkit_file import *\n",
    "from utilities import colored\n",
    "\n",
    "# import the random package to generate random variables\n",
    "import random\n",
    "\n",
    "# Creating a random DNA sequence for testing:\n",
    "DNAStr = ''.join([random.choice(Nucleotides)\n",
    "                  for nuc in range(50)])\n",
    "# print the results\n",
    "print(countNucFrequency(DNAStr))\n",
    "\n",
    "print(f'\\nSequence: {colored(DNAStr)}\\n')\n",
    "print(f'[1] + Sequence Length: {len(DNAStr)}\\n')\n",
    "print(colored(f'[2] + Nucleotide Frequency: {countNucFrequency(DNAStr)}\\n'))\n",
    "\n",
    "print(f'[3] + DNA/RNA Transcription: {colored(transcription(DNAStr))}\\n')\n",
    "\n",
    "print(f\"[4] + DNA String + Reverse Complement:\\n5' {colored(DNAStr)} 3'\")\n",
    "print(f\"   {''.join(['|' for c in range(len(DNAStr))])}\")\n",
    "print(f\"3' {colored(reverse_complement(DNAStr))} 5'\\n\")\n",
    "print(f'[5] + GC Content: {gc_content(DNAStr)}%\\n')"
   ]
  },
  {
   "cell_type": "markdown",
   "id": "0619ca64",
   "metadata": {},
   "source": [
    "- GC content calculator online <http://www.endmemo.com/bio/gc.php>  \n",
    "  \n",
    "- Calculating GC content in a sub-section of the DNA string. In the DNA_Toolkit_file.py, type:"
   ]
  },
  {
   "cell_type": "code",
   "execution_count": 31,
   "id": "7821b70c",
   "metadata": {},
   "outputs": [],
   "source": [
    "# DNA Toolkit file\n",
    "import collections\n",
    "from sequences import *\n",
    "\n",
    "# Check the sequence to make sure it is a DNA String\n",
    "\n",
    "\n",
    "def validateSeq(dna_seq):\n",
    "    tmpseq = dna_seq.upper()\n",
    "    for nuc in tmpseq:\n",
    "        if nuc not in Nucleotides:\n",
    "            return False\n",
    "    return tmpseq\n",
    "\n",
    "\n",
    "def countNucFrequency(seq):\n",
    "    #tmpFreqDict = {\"A\": 0, \"C\": 0, \"G\": 0, \"T\": 0}\n",
    "    # for nuc in seq:\n",
    "        #tmpFreqDict[nuc] += 1\n",
    "    # return tmpFreqDict\n",
    "    return dict(collections.Counter(seq))\n",
    "\n",
    "\n",
    "def transcription(seq):\n",
    "    \"\"\"DNA -> RNA Transcription. Replacing Thymine with Uracil\"\"\"\n",
    "    return seq.replace(\"T\", \"U\")\n",
    "\n",
    "\n",
    "def reverse_complement(seq):\n",
    "    \"\"\"Swapping adenine with thymine and guanine with cytosine. Reversing newly generated string\"\"\"\n",
    "    # return ''.join([DNA_ReverseComplement[nuc] for nuc in seq])\n",
    "    # Pythonic approach. A little bit faster solution.\n",
    "    mapping = str.maketrans('ATCG', 'TAGC')\n",
    "    return seq.translate(mapping)[::-1]\n",
    "\n",
    "\n",
    "def gc_content(seq):\n",
    "    \"\"\"GC Content in a DNA/RNA sequence\"\"\"\n",
    "    return round((seq.count('C') + seq.count('G')) / len(seq) * 100)\n",
    "\n",
    "\n",
    "def gc_content_subsec(seq, k=20):\n",
    "    \"\"\"GC Content in a DNA/RNA sub-sequence length k. k=20 by default\"\"\"\n",
    "    res = []\n",
    "    for i in range(0, len(seq) - k + 1, k):\n",
    "        subseq = seq[i:i + k]\n",
    "        res.append(gc_content(subseq))\n",
    "    return res"
   ]
  },
  {
   "cell_type": "markdown",
   "id": "27b2f37d",
   "metadata": {},
   "source": [
    "What does the final function mean? It calculates the GC content in a sub section of the DNA sequence. We made a loop. We told the function to cut the DNA sequence `len(seq)` into `k+1` sections and to jump by `k` and for each section `seq[i:i+k]` get the `gc_content` by the previously defined function.  \n",
    "  \n",
    "In main.py, type:"
   ]
  },
  {
   "cell_type": "code",
   "execution_count": 33,
   "id": "ecb11516",
   "metadata": {},
   "outputs": [
    {
     "name": "stdout",
     "output_type": "stream",
     "text": [
      "{'G': 11, 'T': 13, 'C': 15, 'A': 11}\n",
      "\n",
      "Sequence: \u001b[93mG\u001b[91mT\u001b[94mC\u001b[93mG\u001b[91mT\u001b[93mG\u001b[94mC\u001b[92mA\u001b[92mA\u001b[94mC\u001b[93mG\u001b[91mT\u001b[93mG\u001b[91mT\u001b[94mC\u001b[94mC\u001b[93mG\u001b[94mC\u001b[92mA\u001b[94mC\u001b[94mC\u001b[91mT\u001b[91mT\u001b[91mT\u001b[94mC\u001b[91mT\u001b[92mA\u001b[93mG\u001b[94mC\u001b[92mA\u001b[92mA\u001b[94mC\u001b[93mG\u001b[92mA\u001b[92mA\u001b[92mA\u001b[92mA\u001b[91mT\u001b[91mT\u001b[91mT\u001b[93mG\u001b[94mC\u001b[94mC\u001b[94mC\u001b[94mC\u001b[92mA\u001b[93mG\u001b[91mT\u001b[93mG\u001b[91mT\u001b[0;0m\n",
      "\n",
      "[1] + Sequence Length: 50\n",
      "\n",
      "\u001b[0;0m[\u001b[0;0m2\u001b[0;0m]\u001b[0;0m \u001b[0;0m+\u001b[0;0m \u001b[0;0mN\u001b[0;0mu\u001b[0;0mc\u001b[0;0ml\u001b[0;0me\u001b[0;0mo\u001b[0;0mt\u001b[0;0mi\u001b[0;0md\u001b[0;0me\u001b[0;0m \u001b[0;0mF\u001b[0;0mr\u001b[0;0me\u001b[0;0mq\u001b[0;0mu\u001b[0;0me\u001b[0;0mn\u001b[0;0mc\u001b[0;0my\u001b[0;0m:\u001b[0;0m \u001b[0;0m{\u001b[0;0m'\u001b[93mG\u001b[0;0m'\u001b[0;0m:\u001b[0;0m \u001b[0;0m1\u001b[0;0m1\u001b[0;0m,\u001b[0;0m \u001b[0;0m'\u001b[91mT\u001b[0;0m'\u001b[0;0m:\u001b[0;0m \u001b[0;0m1\u001b[0;0m3\u001b[0;0m,\u001b[0;0m \u001b[0;0m'\u001b[94mC\u001b[0;0m'\u001b[0;0m:\u001b[0;0m \u001b[0;0m1\u001b[0;0m5\u001b[0;0m,\u001b[0;0m \u001b[0;0m'\u001b[92mA\u001b[0;0m'\u001b[0;0m:\u001b[0;0m \u001b[0;0m1\u001b[0;0m1\u001b[0;0m}\u001b[0;0m\n",
      "\u001b[0;0m\n",
      "[3] + DNA/RNA Transcription: \u001b[93mG\u001b[91mU\u001b[94mC\u001b[93mG\u001b[91mU\u001b[93mG\u001b[94mC\u001b[92mA\u001b[92mA\u001b[94mC\u001b[93mG\u001b[91mU\u001b[93mG\u001b[91mU\u001b[94mC\u001b[94mC\u001b[93mG\u001b[94mC\u001b[92mA\u001b[94mC\u001b[94mC\u001b[91mU\u001b[91mU\u001b[91mU\u001b[94mC\u001b[91mU\u001b[92mA\u001b[93mG\u001b[94mC\u001b[92mA\u001b[92mA\u001b[94mC\u001b[93mG\u001b[92mA\u001b[92mA\u001b[92mA\u001b[92mA\u001b[91mU\u001b[91mU\u001b[91mU\u001b[93mG\u001b[94mC\u001b[94mC\u001b[94mC\u001b[94mC\u001b[92mA\u001b[93mG\u001b[91mU\u001b[93mG\u001b[91mU\u001b[0;0m\n",
      "\n",
      "[4] + DNA String + Reverse Complement:\n",
      "5' \u001b[93mG\u001b[91mT\u001b[94mC\u001b[93mG\u001b[91mT\u001b[93mG\u001b[94mC\u001b[92mA\u001b[92mA\u001b[94mC\u001b[93mG\u001b[91mT\u001b[93mG\u001b[91mT\u001b[94mC\u001b[94mC\u001b[93mG\u001b[94mC\u001b[92mA\u001b[94mC\u001b[94mC\u001b[91mT\u001b[91mT\u001b[91mT\u001b[94mC\u001b[91mT\u001b[92mA\u001b[93mG\u001b[94mC\u001b[92mA\u001b[92mA\u001b[94mC\u001b[93mG\u001b[92mA\u001b[92mA\u001b[92mA\u001b[92mA\u001b[91mT\u001b[91mT\u001b[91mT\u001b[93mG\u001b[94mC\u001b[94mC\u001b[94mC\u001b[94mC\u001b[92mA\u001b[93mG\u001b[91mT\u001b[93mG\u001b[91mT\u001b[0;0m 3'\n",
      "   ||||||||||||||||||||||||||||||||||||||||||||||||||\n",
      "3' \u001b[92mA\u001b[94mC\u001b[92mA\u001b[94mC\u001b[91mT\u001b[93mG\u001b[93mG\u001b[93mG\u001b[93mG\u001b[94mC\u001b[92mA\u001b[92mA\u001b[92mA\u001b[91mT\u001b[91mT\u001b[91mT\u001b[91mT\u001b[94mC\u001b[93mG\u001b[91mT\u001b[91mT\u001b[93mG\u001b[94mC\u001b[91mT\u001b[92mA\u001b[93mG\u001b[92mA\u001b[92mA\u001b[92mA\u001b[93mG\u001b[93mG\u001b[91mT\u001b[93mG\u001b[94mC\u001b[93mG\u001b[93mG\u001b[92mA\u001b[94mC\u001b[92mA\u001b[94mC\u001b[93mG\u001b[91mT\u001b[91mT\u001b[93mG\u001b[94mC\u001b[92mA\u001b[94mC\u001b[93mG\u001b[92mA\u001b[94mC\u001b[0;0m 5'\n",
      "\n",
      "[5] + GC Content: 52%\n",
      "\n",
      "[6] + GC Content in Subsection k=5: [60, 60, 60, 80, 40, 40, 40, 0, 100, 40]\n",
      "\n"
     ]
    }
   ],
   "source": [
    "# Import everything from DNA_Toolkit_file.py\n",
    "from DNA_Toolkit_file import *\n",
    "from utilities import colored\n",
    "\n",
    "# import the random package to generate random variables\n",
    "import random\n",
    "\n",
    "# Creating a random DNA sequence for testing:\n",
    "DNAStr = ''.join([random.choice(Nucleotides)\n",
    "                  for nuc in range(50)])\n",
    "# print the results\n",
    "print(countNucFrequency(DNAStr))\n",
    "\n",
    "print(f'\\nSequence: {colored(DNAStr)}\\n')\n",
    "print(f'[1] + Sequence Length: {len(DNAStr)}\\n')\n",
    "print(colored(f'[2] + Nucleotide Frequency: {countNucFrequency(DNAStr)}\\n'))\n",
    "\n",
    "print(f'[3] + DNA/RNA Transcription: {colored(transcription(DNAStr))}\\n')\n",
    "\n",
    "print(f\"[4] + DNA String + Reverse Complement:\\n5' {colored(DNAStr)} 3'\")\n",
    "print(f\"   {''.join(['|' for c in range(len(DNAStr))])}\")\n",
    "print(f\"3' {colored(reverse_complement(DNAStr))} 5'\\n\")\n",
    "print(f'[5] + GC Content: {gc_content(DNAStr)}%\\n')\n",
    "print(\n",
    "    f'[6] + GC Content in Subsection k=5: {gc_content_subsec(DNAStr, k=5)}\\n')"
   ]
  },
  {
   "cell_type": "markdown",
   "id": "ced12acc",
   "metadata": {},
   "source": [
    "## Bioinformatics in Python: DNA Toolkit. Part 4: Translation, Codon Usage.\n",
    "link: <https://www.youtube.com/watch?v=J72gVimVadQ>  \n",
    "\n",
    "Go to sequences.py, type:"
   ]
  },
  {
   "cell_type": "code",
   "execution_count": 35,
   "id": "bd2e52e5",
   "metadata": {},
   "outputs": [],
   "source": [
    "Nucleotides = [\"A\", \"C\", \"G\", \"T\"]\n",
    "DNA_ReverseComplement = {'A': 'T', 'T': 'A', 'G': 'C', 'C': 'G'}\n",
    "DNA_Codons = {\n",
    "    # 'M' - START, '_' - STOP\n",
    "    \"GCT\": \"A\", \"GCC\": \"A\", \"GCA\": \"A\", \"GCG\": \"A\",\n",
    "    \"TGT\": \"C\", \"TGC\": \"C\",\n",
    "    \"GAT\": \"D\", \"GAC\": \"D\",\n",
    "    \"GAA\": \"E\", \"GAG\": \"E\",\n",
    "    \"TTT\": \"F\", \"TTC\": \"F\",\n",
    "    \"GGT\": \"G\", \"GGC\": \"G\", \"GGA\": \"G\", \"GGG\": \"G\",\n",
    "    \"CAT\": \"H\", \"CAC\": \"H\",\n",
    "    \"ATA\": \"I\", \"ATT\": \"I\", \"ATC\": \"I\",\n",
    "    \"AAA\": \"K\", \"AAG\": \"K\",\n",
    "    \"TTA\": \"L\", \"TTG\": \"L\", \"CTT\": \"L\", \"CTC\": \"L\", \"CTA\": \"L\", \"CTG\": \"L\",\n",
    "    \"ATG\": \"M\",\n",
    "    \"AAT\": \"N\", \"AAC\": \"N\",\n",
    "    \"CCT\": \"P\", \"CCC\": \"P\", \"CCA\": \"P\", \"CCG\": \"P\",\n",
    "    \"CAA\": \"Q\", \"CAG\": \"Q\",\n",
    "    \"CGT\": \"R\", \"CGC\": \"R\", \"CGA\": \"R\", \"CGG\": \"R\", \"AGA\": \"R\", \"AGG\": \"R\",\n",
    "    \"TCT\": \"S\", \"TCC\": \"S\", \"TCA\": \"S\", \"TCG\": \"S\", \"AGT\": \"S\", \"AGC\": \"S\",\n",
    "    \"ACT\": \"T\", \"ACC\": \"T\", \"ACA\": \"T\", \"ACG\": \"T\",\n",
    "    \"GTT\": \"V\", \"GTC\": \"V\", \"GTA\": \"V\", \"GTG\": \"V\",\n",
    "    \"TGG\": \"W\",\n",
    "    \"TAT\": \"Y\", \"TAC\": \"Y\",\n",
    "    \"TAA\": \"_\", \"TAG\": \"_\", \"TGA\": \"_\"\n",
    "}"
   ]
  },
  {
   "cell_type": "markdown",
   "id": "65b67d1c",
   "metadata": {},
   "source": [
    "Go to DNA_Toolkit_file.py, type:  "
   ]
  },
  {
   "cell_type": "code",
   "execution_count": 37,
   "id": "4d3aebe9",
   "metadata": {},
   "outputs": [],
   "source": [
    "# DNA Toolkit file\n",
    "import collections\n",
    "from sequences import *\n",
    "\n",
    "# Check the sequence to make sure it is a DNA String\n",
    "\n",
    "\n",
    "def validateSeq(dna_seq):\n",
    "    tmpseq = dna_seq.upper()\n",
    "    for nuc in tmpseq:\n",
    "        if nuc not in Nucleotides:\n",
    "            return False\n",
    "    return tmpseq\n",
    "\n",
    "\n",
    "def countNucFrequency(seq):\n",
    "    #tmpFreqDict = {\"A\": 0, \"C\": 0, \"G\": 0, \"T\": 0}\n",
    "    # for nuc in seq:\n",
    "        #tmpFreqDict[nuc] += 1\n",
    "    # return tmpFreqDict\n",
    "    return dict(collections.Counter(seq))\n",
    "\n",
    "\n",
    "def transcription(seq):\n",
    "    \"\"\"DNA -> RNA Transcription. Replacing Thymine with Uracil\"\"\"\n",
    "    return seq.replace(\"T\", \"U\")\n",
    "\n",
    "\n",
    "def reverse_complement(seq):\n",
    "    \"\"\"Swapping adenine with thymine and guanine with cytosine. Reversing newly generated string\"\"\"\n",
    "    # return ''.join([DNA_ReverseComplement[nuc] for nuc in seq])\n",
    "    # Pythonic approach. A little bit faster solution.\n",
    "    mapping = str.maketrans('ATCG', 'TAGC')\n",
    "    return seq.translate(mapping)[::-1]\n",
    "\n",
    "\n",
    "def gc_content(seq):\n",
    "    \"\"\"GC Content in a DNA/RNA sequence\"\"\"\n",
    "    return round((seq.count('C') + seq.count('G')) / len(seq) * 100)\n",
    "\n",
    "\n",
    "def gc_content_subsec(seq, k=20):\n",
    "    \"\"\"GC Content in a DNA/RNA sub-sequence length k. k=20 by default\"\"\"\n",
    "    res = []\n",
    "    for i in range(0, len(seq) - k + 1, k):\n",
    "        subseq = seq[i:i + k]\n",
    "        res.append(gc_content(subseq))\n",
    "    return res\n",
    "\n",
    "def translate_seq(seq, init_pos=0):\n",
    "    \"\"\"Translates a DNA sequence into an aminoacid sequence\"\"\"\n",
    "    return [DNA_Codons[seq[pos:pos + 3]] for pos in range(init_pos, len(seq) - 2, 3)]"
   ]
  },
  {
   "cell_type": "markdown",
   "id": "35188039",
   "metadata": {},
   "source": [
    "The number `3` in the code tells the program to jump 3 nucleotides then read the codon and substitute it with the amino acid in the dictionary.  Note that this function takes 2 inputs: the sequence `seq` and the start position to read in the sequence `init_pos=0` as it depends on the chosen open reading frame.  The `init_pos=0~ specifies a default value of zero if none is entered which is useful to avoid getting an error.  \n",
    "Go to main.py, type:"
   ]
  },
  {
   "cell_type": "code",
   "execution_count": 39,
   "id": "63ecd9d0",
   "metadata": {},
   "outputs": [
    {
     "name": "stdout",
     "output_type": "stream",
     "text": [
      "{'C': 15, 'T': 16, 'A': 11, 'G': 8}\n",
      "\n",
      "Sequence: \u001b[94mC\u001b[94mC\u001b[91mT\u001b[94mC\u001b[94mC\u001b[94mC\u001b[92mA\u001b[92mA\u001b[92mA\u001b[94mC\u001b[91mT\u001b[94mC\u001b[91mT\u001b[91mT\u001b[94mC\u001b[91mT\u001b[91mT\u001b[94mC\u001b[92mA\u001b[93mG\u001b[93mG\u001b[93mG\u001b[93mG\u001b[92mA\u001b[91mT\u001b[92mA\u001b[94mC\u001b[91mT\u001b[92mA\u001b[93mG\u001b[91mT\u001b[92mA\u001b[91mT\u001b[94mC\u001b[91mT\u001b[94mC\u001b[94mC\u001b[91mT\u001b[92mA\u001b[91mT\u001b[93mG\u001b[92mA\u001b[93mG\u001b[94mC\u001b[91mT\u001b[93mG\u001b[94mC\u001b[91mT\u001b[91mT\u001b[92mA\u001b[0;0m\n",
      "\n",
      "[1] + Sequence Length: 50\n",
      "\n",
      "\u001b[0;0m[\u001b[0;0m2\u001b[0;0m]\u001b[0;0m \u001b[0;0m+\u001b[0;0m \u001b[0;0mN\u001b[0;0mu\u001b[0;0mc\u001b[0;0ml\u001b[0;0me\u001b[0;0mo\u001b[0;0mt\u001b[0;0mi\u001b[0;0md\u001b[0;0me\u001b[0;0m \u001b[0;0mF\u001b[0;0mr\u001b[0;0me\u001b[0;0mq\u001b[0;0mu\u001b[0;0me\u001b[0;0mn\u001b[0;0mc\u001b[0;0my\u001b[0;0m:\u001b[0;0m \u001b[0;0m{\u001b[0;0m'\u001b[94mC\u001b[0;0m'\u001b[0;0m:\u001b[0;0m \u001b[0;0m1\u001b[0;0m5\u001b[0;0m,\u001b[0;0m \u001b[0;0m'\u001b[91mT\u001b[0;0m'\u001b[0;0m:\u001b[0;0m \u001b[0;0m1\u001b[0;0m6\u001b[0;0m,\u001b[0;0m \u001b[0;0m'\u001b[92mA\u001b[0;0m'\u001b[0;0m:\u001b[0;0m \u001b[0;0m1\u001b[0;0m1\u001b[0;0m,\u001b[0;0m \u001b[0;0m'\u001b[93mG\u001b[0;0m'\u001b[0;0m:\u001b[0;0m \u001b[0;0m8\u001b[0;0m}\u001b[0;0m\n",
      "\u001b[0;0m\n",
      "[3] + DNA/RNA Transcription: \u001b[94mC\u001b[94mC\u001b[91mU\u001b[94mC\u001b[94mC\u001b[94mC\u001b[92mA\u001b[92mA\u001b[92mA\u001b[94mC\u001b[91mU\u001b[94mC\u001b[91mU\u001b[91mU\u001b[94mC\u001b[91mU\u001b[91mU\u001b[94mC\u001b[92mA\u001b[93mG\u001b[93mG\u001b[93mG\u001b[93mG\u001b[92mA\u001b[91mU\u001b[92mA\u001b[94mC\u001b[91mU\u001b[92mA\u001b[93mG\u001b[91mU\u001b[92mA\u001b[91mU\u001b[94mC\u001b[91mU\u001b[94mC\u001b[94mC\u001b[91mU\u001b[92mA\u001b[91mU\u001b[93mG\u001b[92mA\u001b[93mG\u001b[94mC\u001b[91mU\u001b[93mG\u001b[94mC\u001b[91mU\u001b[91mU\u001b[92mA\u001b[0;0m\n",
      "\n",
      "[4] + DNA String + Reverse Complement:\n",
      "5' \u001b[94mC\u001b[94mC\u001b[91mT\u001b[94mC\u001b[94mC\u001b[94mC\u001b[92mA\u001b[92mA\u001b[92mA\u001b[94mC\u001b[91mT\u001b[94mC\u001b[91mT\u001b[91mT\u001b[94mC\u001b[91mT\u001b[91mT\u001b[94mC\u001b[92mA\u001b[93mG\u001b[93mG\u001b[93mG\u001b[93mG\u001b[92mA\u001b[91mT\u001b[92mA\u001b[94mC\u001b[91mT\u001b[92mA\u001b[93mG\u001b[91mT\u001b[92mA\u001b[91mT\u001b[94mC\u001b[91mT\u001b[94mC\u001b[94mC\u001b[91mT\u001b[92mA\u001b[91mT\u001b[93mG\u001b[92mA\u001b[93mG\u001b[94mC\u001b[91mT\u001b[93mG\u001b[94mC\u001b[91mT\u001b[91mT\u001b[92mA\u001b[0;0m 3'\n",
      "   ||||||||||||||||||||||||||||||||||||||||||||||||||\n",
      "3' \u001b[91mT\u001b[92mA\u001b[92mA\u001b[93mG\u001b[94mC\u001b[92mA\u001b[93mG\u001b[94mC\u001b[91mT\u001b[94mC\u001b[92mA\u001b[91mT\u001b[92mA\u001b[93mG\u001b[93mG\u001b[92mA\u001b[93mG\u001b[92mA\u001b[91mT\u001b[92mA\u001b[94mC\u001b[91mT\u001b[92mA\u001b[93mG\u001b[91mT\u001b[92mA\u001b[91mT\u001b[94mC\u001b[94mC\u001b[94mC\u001b[94mC\u001b[91mT\u001b[93mG\u001b[92mA\u001b[92mA\u001b[93mG\u001b[92mA\u001b[92mA\u001b[93mG\u001b[92mA\u001b[93mG\u001b[91mT\u001b[91mT\u001b[91mT\u001b[93mG\u001b[93mG\u001b[93mG\u001b[92mA\u001b[93mG\u001b[93mG\u001b[0;0m 5'\n",
      "\n",
      "[5] + GC Content: 46%\n",
      "\n",
      "[6] + GC Content in Subsection k=5: [80, 40, 40, 40, 60, 40, 20, 40, 60, 40]\n",
      "\n",
      "[7] + Aminoacids Sequence from DNA: ['P', 'P', 'K', 'L', 'F', 'F', 'R', 'G', 'Y', '_', 'Y', 'L', 'L', '_', 'A', 'A']\n",
      "\n"
     ]
    }
   ],
   "source": [
    "# Import everything from DNA_Toolkit_file.py\n",
    "from DNA_Toolkit_file import *\n",
    "from utilities import colored\n",
    "\n",
    "# import the random package to generate random variables\n",
    "import random\n",
    "\n",
    "# Creating a random DNA sequence for testing:\n",
    "DNAStr = ''.join([random.choice(Nucleotides)\n",
    "                  for nuc in range(50)])\n",
    "# print the results\n",
    "print(countNucFrequency(DNAStr))\n",
    "\n",
    "print(f'\\nSequence: {colored(DNAStr)}\\n')\n",
    "print(f'[1] + Sequence Length: {len(DNAStr)}\\n')\n",
    "print(colored(f'[2] + Nucleotide Frequency: {countNucFrequency(DNAStr)}\\n'))\n",
    "\n",
    "print(f'[3] + DNA/RNA Transcription: {colored(transcription(DNAStr))}\\n')\n",
    "\n",
    "print(f\"[4] + DNA String + Reverse Complement:\\n5' {colored(DNAStr)} 3'\")\n",
    "print(f\"   {''.join(['|' for c in range(len(DNAStr))])}\")\n",
    "print(f\"3' {colored(reverse_complement(DNAStr))} 5'\\n\")\n",
    "print(f'[5] + GC Content: {gc_content(DNAStr)}%\\n')\n",
    "print(\n",
    "    f'[6] + GC Content in Subsection k=5: {gc_content_subsec(DNAStr, k=5)}\\n')\n",
    "print(\n",
    "    f'[7] + Aminoacids Sequence from DNA: {translate_seq(DNAStr, 0)}\\n')"
   ]
  },
  {
   "cell_type": "markdown",
   "id": "a5b74e99",
   "metadata": {},
   "source": [
    "Now we will add another function called codon_usage which is a statistical function to count a particular amino acid.  \n",
    "In DNA_Toolkit_file.py, type: "
   ]
  },
  {
   "cell_type": "code",
   "execution_count": 41,
   "id": "fec2a3a2",
   "metadata": {},
   "outputs": [],
   "source": [
    "# DNA Toolkit file\n",
    "import collections\n",
    "from sequences import *\n",
    "\n",
    "# Check the sequence to make sure it is a DNA String\n",
    "\n",
    "\n",
    "def validateSeq(dna_seq):\n",
    "    tmpseq = dna_seq.upper()\n",
    "    for nuc in tmpseq:\n",
    "        if nuc not in Nucleotides:\n",
    "            return False\n",
    "    return tmpseq\n",
    "\n",
    "\n",
    "def countNucFrequency(seq):\n",
    "    #tmpFreqDict = {\"A\": 0, \"C\": 0, \"G\": 0, \"T\": 0}\n",
    "    # for nuc in seq:\n",
    "        #tmpFreqDict[nuc] += 1\n",
    "    # return tmpFreqDict\n",
    "    return dict(collections.Counter(seq))\n",
    "\n",
    "\n",
    "def transcription(seq):\n",
    "    \"\"\"DNA -> RNA Transcription. Replacing Thymine with Uracil\"\"\"\n",
    "    return seq.replace(\"T\", \"U\")\n",
    "\n",
    "\n",
    "def reverse_complement(seq):\n",
    "    \"\"\"Swapping adenine with thymine and guanine with cytosine. Reversing newly generated string\"\"\"\n",
    "    # return ''.join([DNA_ReverseComplement[nuc] for nuc in seq])\n",
    "    # Pythonic approach. A little bit faster solution.\n",
    "    mapping = str.maketrans('ATCG', 'TAGC')\n",
    "    return seq.translate(mapping)[::-1]\n",
    "\n",
    "\n",
    "def gc_content(seq):\n",
    "    \"\"\"GC Content in a DNA/RNA sequence\"\"\"\n",
    "    return round((seq.count('C') + seq.count('G')) / len(seq) * 100)\n",
    "\n",
    "\n",
    "def codon_usage(seq, aminoacid):\n",
    "    \"\"\"Provides the frequency of each codon encoding a given aminoacid in a DNA sequence\"\"\"\n",
    "    tmpList = []\n",
    "    for i in range(0, len(seq) - 2, 3):\n",
    "        if DNA_Codons[seq[i:i + 3]] == aminoacid:\n",
    "            tmpList.append(seq[i:i + 3])\n",
    "\n",
    "    freqDict = dict(Counter(tmpList))\n",
    "    totalWight = sum(freqDict.values())\n",
    "    for seq in freqDict:\n",
    "        freqDict[seq] = round(freqDict[seq] / totalWight, 2)\n",
    "    return freqDict\n",
    "\n",
    "\n",
    "def gc_content_subsec(seq, k=20):\n",
    "    \"\"\"GC Content in a DNA/RNA sub-sequence length k. k=20 by default\"\"\"\n",
    "    res = []\n",
    "    for i in range(0, len(seq) - k + 1, k):\n",
    "        subseq = seq[i:i + k]\n",
    "        res.append(gc_content(subseq))\n",
    "    return res\n",
    "\n",
    "\n",
    "def translate_seq(seq, init_pos=0):\n",
    "    \"\"\"Translates a DNA sequence into an aminoacid sequence\"\"\"\n",
    "    return [DNA_Codons[seq[pos:pos + 3]] for pos in range(init_pos, len(seq) - 2, 3)]\n",
    "\n",
    "def codon_usage(seq, aminoacid):\n",
    "    \"\"\"Provides the frequency of each codon encoding a given aminoacid in a DNA sequence\"\"\"\n",
    "    tmpList = []\n",
    "    for i in range(0, len(seq) - 2, 3):\n",
    "        if DNA_Codons[seq[i:i + 3]] == aminoacid:\n",
    "            tmpList.append(seq[i:i + 3])\n",
    "\n",
    "    freqDict = dict(Counter(tmpList))\n",
    "    totalWight = sum(freqDict.values())\n",
    "    for seq in freqDict:\n",
    "        freqDict[seq] = round(freqDict[seq] / totalWight, 2)\n",
    "    return freqDict"
   ]
  },
  {
   "cell_type": "markdown",
   "id": "83362576",
   "metadata": {},
   "source": [
    "In main.py, type:"
   ]
  },
  {
   "cell_type": "code",
   "execution_count": 43,
   "id": "64aeca3a",
   "metadata": {},
   "outputs": [
    {
     "name": "stdout",
     "output_type": "stream",
     "text": [
      "{'G': 16, 'A': 12, 'C': 12, 'T': 10}\n",
      "\n",
      "Sequence: \u001b[93mG\u001b[92mA\u001b[94mC\u001b[92mA\u001b[91mT\u001b[93mG\u001b[92mA\u001b[91mT\u001b[94mC\u001b[91mT\u001b[93mG\u001b[93mG\u001b[93mG\u001b[91mT\u001b[94mC\u001b[94mC\u001b[93mG\u001b[93mG\u001b[94mC\u001b[93mG\u001b[92mA\u001b[94mC\u001b[92mA\u001b[92mA\u001b[93mG\u001b[92mA\u001b[93mG\u001b[94mC\u001b[91mT\u001b[93mG\u001b[93mG\u001b[93mG\u001b[94mC\u001b[94mC\u001b[94mC\u001b[91mT\u001b[93mG\u001b[91mT\u001b[92mA\u001b[92mA\u001b[91mT\u001b[92mA\u001b[93mG\u001b[91mT\u001b[91mT\u001b[92mA\u001b[92mA\u001b[94mC\u001b[94mC\u001b[93mG\u001b[0;0m\n",
      "\n",
      "[1] + Sequence Length: 50\n",
      "\n",
      "\u001b[0;0m[\u001b[0;0m2\u001b[0;0m]\u001b[0;0m \u001b[0;0m+\u001b[0;0m \u001b[0;0mN\u001b[0;0mu\u001b[0;0mc\u001b[0;0ml\u001b[0;0me\u001b[0;0mo\u001b[0;0mt\u001b[0;0mi\u001b[0;0md\u001b[0;0me\u001b[0;0m \u001b[0;0mF\u001b[0;0mr\u001b[0;0me\u001b[0;0mq\u001b[0;0mu\u001b[0;0me\u001b[0;0mn\u001b[0;0mc\u001b[0;0my\u001b[0;0m:\u001b[0;0m \u001b[0;0m{\u001b[0;0m'\u001b[93mG\u001b[0;0m'\u001b[0;0m:\u001b[0;0m \u001b[0;0m1\u001b[0;0m6\u001b[0;0m,\u001b[0;0m \u001b[0;0m'\u001b[92mA\u001b[0;0m'\u001b[0;0m:\u001b[0;0m \u001b[0;0m1\u001b[0;0m2\u001b[0;0m,\u001b[0;0m \u001b[0;0m'\u001b[94mC\u001b[0;0m'\u001b[0;0m:\u001b[0;0m \u001b[0;0m1\u001b[0;0m2\u001b[0;0m,\u001b[0;0m \u001b[0;0m'\u001b[91mT\u001b[0;0m'\u001b[0;0m:\u001b[0;0m \u001b[0;0m1\u001b[0;0m0\u001b[0;0m}\u001b[0;0m\n",
      "\u001b[0;0m\n",
      "[3] + DNA/RNA Transcription: \u001b[93mG\u001b[92mA\u001b[94mC\u001b[92mA\u001b[91mU\u001b[93mG\u001b[92mA\u001b[91mU\u001b[94mC\u001b[91mU\u001b[93mG\u001b[93mG\u001b[93mG\u001b[91mU\u001b[94mC\u001b[94mC\u001b[93mG\u001b[93mG\u001b[94mC\u001b[93mG\u001b[92mA\u001b[94mC\u001b[92mA\u001b[92mA\u001b[93mG\u001b[92mA\u001b[93mG\u001b[94mC\u001b[91mU\u001b[93mG\u001b[93mG\u001b[93mG\u001b[94mC\u001b[94mC\u001b[94mC\u001b[91mU\u001b[93mG\u001b[91mU\u001b[92mA\u001b[92mA\u001b[91mU\u001b[92mA\u001b[93mG\u001b[91mU\u001b[91mU\u001b[92mA\u001b[92mA\u001b[94mC\u001b[94mC\u001b[93mG\u001b[0;0m\n",
      "\n",
      "[4] + DNA String + Reverse Complement:\n",
      "5' \u001b[93mG\u001b[92mA\u001b[94mC\u001b[92mA\u001b[91mT\u001b[93mG\u001b[92mA\u001b[91mT\u001b[94mC\u001b[91mT\u001b[93mG\u001b[93mG\u001b[93mG\u001b[91mT\u001b[94mC\u001b[94mC\u001b[93mG\u001b[93mG\u001b[94mC\u001b[93mG\u001b[92mA\u001b[94mC\u001b[92mA\u001b[92mA\u001b[93mG\u001b[92mA\u001b[93mG\u001b[94mC\u001b[91mT\u001b[93mG\u001b[93mG\u001b[93mG\u001b[94mC\u001b[94mC\u001b[94mC\u001b[91mT\u001b[93mG\u001b[91mT\u001b[92mA\u001b[92mA\u001b[91mT\u001b[92mA\u001b[93mG\u001b[91mT\u001b[91mT\u001b[92mA\u001b[92mA\u001b[94mC\u001b[94mC\u001b[93mG\u001b[0;0m 3'\n",
      "   ||||||||||||||||||||||||||||||||||||||||||||||||||\n",
      "3' \u001b[94mC\u001b[93mG\u001b[93mG\u001b[91mT\u001b[91mT\u001b[92mA\u001b[92mA\u001b[94mC\u001b[91mT\u001b[92mA\u001b[91mT\u001b[91mT\u001b[92mA\u001b[94mC\u001b[92mA\u001b[93mG\u001b[93mG\u001b[93mG\u001b[94mC\u001b[94mC\u001b[94mC\u001b[92mA\u001b[93mG\u001b[94mC\u001b[91mT\u001b[94mC\u001b[91mT\u001b[91mT\u001b[93mG\u001b[91mT\u001b[94mC\u001b[93mG\u001b[94mC\u001b[94mC\u001b[93mG\u001b[93mG\u001b[92mA\u001b[94mC\u001b[94mC\u001b[94mC\u001b[92mA\u001b[93mG\u001b[92mA\u001b[91mT\u001b[94mC\u001b[92mA\u001b[91mT\u001b[93mG\u001b[91mT\u001b[94mC\u001b[0;0m 5'\n",
      "\n",
      "[5] + GC Content: 56%\n",
      "\n",
      "[6] + GC Content in Subsection k=5: [40, 40, 80, 100, 40, 60, 100, 20, 20, 60]\n",
      "\n",
      "[7] + Aminoacids Sequence from DNA: ['D', 'M', 'I', 'W', 'V', 'R', 'R', 'Q', 'E', 'L', 'G', 'P', 'V', 'I', 'V', 'N']\n",
      "\n",
      "[8] + Codon frequency (L): {'CTG': 1.0}\n",
      "\n"
     ]
    }
   ],
   "source": [
    "# Import everything from DNA_Toolkit_file.py\n",
    "from DNA_Toolkit_file import *\n",
    "from utilities import colored\n",
    "\n",
    "# import the random package to generate random variables\n",
    "import random\n",
    "\n",
    "# Creating a random DNA sequence for testing:\n",
    "DNAStr = ''.join([random.choice(Nucleotides)\n",
    "                  for nuc in range(50)])\n",
    "# print the results\n",
    "print(countNucFrequency(DNAStr))\n",
    "\n",
    "print(f'\\nSequence: {colored(DNAStr)}\\n')\n",
    "print(f'[1] + Sequence Length: {len(DNAStr)}\\n')\n",
    "print(colored(f'[2] + Nucleotide Frequency: {countNucFrequency(DNAStr)}\\n'))\n",
    "\n",
    "print(f'[3] + DNA/RNA Transcription: {colored(transcription(DNAStr))}\\n')\n",
    "\n",
    "print(f\"[4] + DNA String + Reverse Complement:\\n5' {colored(DNAStr)} 3'\")\n",
    "\n",
    "print(f\"   {''.join(['|' for c in range(len(DNAStr))])}\")\n",
    "print(f\"3' {colored(reverse_complement(DNAStr))} 5'\\n\")\n",
    "print(f'[5] + GC Content: {gc_content(DNAStr)}%\\n')\n",
    "print(\n",
    "    f'[6] + GC Content in Subsection k=5: {gc_content_subsec(DNAStr, k=5)}\\n')\n",
    "print(\n",
    "    f'[7] + Aminoacids Sequence from DNA: {translate_seq(DNAStr, 0)}\\n')\n",
    "print(\n",
    "    f'[8] + Codon frequency (L): {codon_usage(DNAStr, \"L\")}\\n')"
   ]
  },
  {
   "cell_type": "markdown",
   "id": "d2c7fe63",
   "metadata": {},
   "source": [
    "## Bioinformatics in Python: DNA Toolkit. Part 5: Open Reading Frames.\n",
    "link:<https://www.youtube.com/watch?v=8xDdJl9dYHg>\n",
    "\n",
    "In DNA_Toolkit_file.py, type:"
   ]
  },
  {
   "cell_type": "code",
   "execution_count": 44,
   "id": "1ea5a072",
   "metadata": {},
   "outputs": [],
   "source": [
    "# DNA Toolkit file\n",
    "import collections\n",
    "from sequences import *\n",
    "\n",
    "# Check the sequence to make sure it is a DNA String\n",
    "\n",
    "\n",
    "def validateSeq(dna_seq):\n",
    "    tmpseq = dna_seq.upper()\n",
    "    for nuc in tmpseq:\n",
    "        if nuc not in Nucleotides:\n",
    "            return False\n",
    "    return tmpseq\n",
    "\n",
    "\n",
    "def countNucFrequency(seq):\n",
    "    #tmpFreqDict = {\"A\": 0, \"C\": 0, \"G\": 0, \"T\": 0}\n",
    "    # for nuc in seq:\n",
    "        #tmpFreqDict[nuc] += 1\n",
    "    # return tmpFreqDict\n",
    "    return dict(collections.Counter(seq))\n",
    "\n",
    "\n",
    "def transcription(seq):\n",
    "    \"\"\"DNA -> RNA Transcription. Replacing Thymine with Uracil\"\"\"\n",
    "    return seq.replace(\"T\", \"U\")\n",
    "\n",
    "\n",
    "def reverse_complement(seq):\n",
    "    \"\"\"Swapping adenine with thymine and guanine with cytosine. Reversing newly generated string\"\"\"\n",
    "    # return ''.join([DNA_ReverseComplement[nuc] for nuc in seq])\n",
    "    # Pythonic approach. A little bit faster solution.\n",
    "    mapping = str.maketrans('ATCG', 'TAGC')\n",
    "    return seq.translate(mapping)[::-1]\n",
    "\n",
    "\n",
    "def gc_content(seq):\n",
    "    \"\"\"GC Content in a DNA/RNA sequence\"\"\"\n",
    "    return round((seq.count('C') + seq.count('G')) / len(seq) * 100)\n",
    "\n",
    "\n",
    "def codon_usage(seq, aminoacid):\n",
    "    \"\"\"Provides the frequency of each codon encoding a given aminoacid in a DNA sequence\"\"\"\n",
    "    tmpList = []\n",
    "    for i in range(0, len(seq) - 2, 3):\n",
    "        if DNA_Codons[seq[i:i + 3]] == aminoacid:\n",
    "            tmpList.append(seq[i:i + 3])\n",
    "\n",
    "    freqDict = dict(Counter(tmpList))\n",
    "    totalWight = sum(freqDict.values())\n",
    "    for seq in freqDict:\n",
    "        freqDict[seq] = round(freqDict[seq] / totalWight, 2)\n",
    "    return freqDict\n",
    "\n",
    "\n",
    "def gc_content_subsec(seq, k=20):\n",
    "    \"\"\"GC Content in a DNA/RNA sub-sequence length k. k=20 by default\"\"\"\n",
    "    res = []\n",
    "    for i in range(0, len(seq) - k + 1, k):\n",
    "        subseq = seq[i:i + k]\n",
    "        res.append(gc_content(subseq))\n",
    "    return res\n",
    "\n",
    "\n",
    "def translate_seq(seq, init_pos=0):\n",
    "    \"\"\"Translates a DNA sequence into an aminoacid sequence\"\"\"\n",
    "    return [DNA_Codons[seq[pos:pos + 3]] for pos in range(init_pos, len(seq) - 2, 3)]\n",
    "\n",
    "\n",
    "def codon_usage(seq, aminoacid):\n",
    "    \"\"\"Provides the frequency of each codon encoding a given aminoacid in a DNA sequence\"\"\"\n",
    "    tmpList = []\n",
    "    for i in range(0, len(seq) - 2, 3):\n",
    "        if DNA_Codons[seq[i:i + 3]] == aminoacid:\n",
    "            tmpList.append(seq[i:i + 3])\n",
    "\n",
    "    freqDict = dict(Counter(tmpList))\n",
    "    totalWight = sum(freqDict.values())\n",
    "    for seq in freqDict:\n",
    "        freqDict[seq] = round(freqDict[seq] / totalWight, 2)\n",
    "    return freqDict\n",
    "\n",
    "\n",
    "def gene_reading_frame(seq):\n",
    "    \"\"\"Generates the six reading frames of a DNA sequence, including the reverse complement\"\"\"\n",
    "    frames = []\n",
    "    frames.append(translate_seq(seq, 0))\n",
    "    frames.append(translate_seq(seq, 1))\n",
    "    frames.append(translate_seq(seq, 2))\n",
    "    frames.append(translate_seq(reverse_complement(seq), 0))\n",
    "    frames.append(translate_seq(reverse_complement(seq), 1))\n",
    "    frames.append(translate_seq(reverse_complement(seq), 2))\n",
    "    return frames"
   ]
  },
  {
   "cell_type": "markdown",
   "id": "4d01242b",
   "metadata": {},
   "source": [
    "In main.py, type:"
   ]
  },
  {
   "cell_type": "code",
   "execution_count": 46,
   "id": "48d0f3dc",
   "metadata": {},
   "outputs": [
    {
     "name": "stdout",
     "output_type": "stream",
     "text": [
      "{'G': 15, 'C': 8, 'A': 10, 'T': 17}\n",
      "\n",
      "Sequence: \u001b[93mG\u001b[93mG\u001b[94mC\u001b[92mA\u001b[91mT\u001b[93mG\u001b[94mC\u001b[92mA\u001b[91mT\u001b[94mC\u001b[92mA\u001b[91mT\u001b[94mC\u001b[92mA\u001b[91mT\u001b[92mA\u001b[93mG\u001b[93mG\u001b[92mA\u001b[93mG\u001b[91mT\u001b[93mG\u001b[93mG\u001b[93mG\u001b[91mT\u001b[91mT\u001b[91mT\u001b[94mC\u001b[93mG\u001b[93mG\u001b[92mA\u001b[91mT\u001b[94mC\u001b[91mT\u001b[92mA\u001b[93mG\u001b[91mT\u001b[91mT\u001b[92mA\u001b[91mT\u001b[92mA\u001b[93mG\u001b[91mT\u001b[94mC\u001b[93mG\u001b[91mT\u001b[93mG\u001b[91mT\u001b[91mT\u001b[94mC\u001b[0;0m\n",
      "\n",
      "[1] + Sequence Length: 50\n",
      "\n",
      "\u001b[0;0m[\u001b[0;0m2\u001b[0;0m]\u001b[0;0m \u001b[0;0m+\u001b[0;0m \u001b[0;0mN\u001b[0;0mu\u001b[0;0mc\u001b[0;0ml\u001b[0;0me\u001b[0;0mo\u001b[0;0mt\u001b[0;0mi\u001b[0;0md\u001b[0;0me\u001b[0;0m \u001b[0;0mF\u001b[0;0mr\u001b[0;0me\u001b[0;0mq\u001b[0;0mu\u001b[0;0me\u001b[0;0mn\u001b[0;0mc\u001b[0;0my\u001b[0;0m:\u001b[0;0m \u001b[0;0m{\u001b[0;0m'\u001b[93mG\u001b[0;0m'\u001b[0;0m:\u001b[0;0m \u001b[0;0m1\u001b[0;0m5\u001b[0;0m,\u001b[0;0m \u001b[0;0m'\u001b[94mC\u001b[0;0m'\u001b[0;0m:\u001b[0;0m \u001b[0;0m8\u001b[0;0m,\u001b[0;0m \u001b[0;0m'\u001b[92mA\u001b[0;0m'\u001b[0;0m:\u001b[0;0m \u001b[0;0m1\u001b[0;0m0\u001b[0;0m,\u001b[0;0m \u001b[0;0m'\u001b[91mT\u001b[0;0m'\u001b[0;0m:\u001b[0;0m \u001b[0;0m1\u001b[0;0m7\u001b[0;0m}\u001b[0;0m\n",
      "\u001b[0;0m\n",
      "[3] + DNA/RNA Transcription: \u001b[93mG\u001b[93mG\u001b[94mC\u001b[92mA\u001b[91mU\u001b[93mG\u001b[94mC\u001b[92mA\u001b[91mU\u001b[94mC\u001b[92mA\u001b[91mU\u001b[94mC\u001b[92mA\u001b[91mU\u001b[92mA\u001b[93mG\u001b[93mG\u001b[92mA\u001b[93mG\u001b[91mU\u001b[93mG\u001b[93mG\u001b[93mG\u001b[91mU\u001b[91mU\u001b[91mU\u001b[94mC\u001b[93mG\u001b[93mG\u001b[92mA\u001b[91mU\u001b[94mC\u001b[91mU\u001b[92mA\u001b[93mG\u001b[91mU\u001b[91mU\u001b[92mA\u001b[91mU\u001b[92mA\u001b[93mG\u001b[91mU\u001b[94mC\u001b[93mG\u001b[91mU\u001b[93mG\u001b[91mU\u001b[91mU\u001b[94mC\u001b[0;0m\n",
      "\n",
      "[4] + DNA String + Reverse Complement:\n",
      "5' \u001b[93mG\u001b[93mG\u001b[94mC\u001b[92mA\u001b[91mT\u001b[93mG\u001b[94mC\u001b[92mA\u001b[91mT\u001b[94mC\u001b[92mA\u001b[91mT\u001b[94mC\u001b[92mA\u001b[91mT\u001b[92mA\u001b[93mG\u001b[93mG\u001b[92mA\u001b[93mG\u001b[91mT\u001b[93mG\u001b[93mG\u001b[93mG\u001b[91mT\u001b[91mT\u001b[91mT\u001b[94mC\u001b[93mG\u001b[93mG\u001b[92mA\u001b[91mT\u001b[94mC\u001b[91mT\u001b[92mA\u001b[93mG\u001b[91mT\u001b[91mT\u001b[92mA\u001b[91mT\u001b[92mA\u001b[93mG\u001b[91mT\u001b[94mC\u001b[93mG\u001b[91mT\u001b[93mG\u001b[91mT\u001b[91mT\u001b[94mC\u001b[0;0m 3'\n",
      "   ||||||||||||||||||||||||||||||||||||||||||||||||||\n",
      "3' \u001b[93mG\u001b[92mA\u001b[92mA\u001b[94mC\u001b[92mA\u001b[94mC\u001b[93mG\u001b[92mA\u001b[94mC\u001b[91mT\u001b[92mA\u001b[91mT\u001b[92mA\u001b[92mA\u001b[94mC\u001b[91mT\u001b[92mA\u001b[93mG\u001b[92mA\u001b[91mT\u001b[94mC\u001b[94mC\u001b[93mG\u001b[92mA\u001b[92mA\u001b[92mA\u001b[94mC\u001b[94mC\u001b[94mC\u001b[92mA\u001b[94mC\u001b[91mT\u001b[94mC\u001b[94mC\u001b[91mT\u001b[92mA\u001b[91mT\u001b[93mG\u001b[92mA\u001b[91mT\u001b[93mG\u001b[92mA\u001b[91mT\u001b[93mG\u001b[94mC\u001b[92mA\u001b[91mT\u001b[93mG\u001b[94mC\u001b[94mC\u001b[0;0m 5'\n",
      "\n",
      "[5] + GC Content: 46%\n",
      "\n",
      "[6] + GC Content in Subsection k=5: [60, 60, 20, 60, 60, 60, 20, 20, 60, 40]\n",
      "\n",
      "[7] + Aminoacids Sequence from DNA: ['G', 'M', 'H', 'H', 'H', 'R', 'S', 'G', 'F', 'R', 'I', '_', 'L', '_', 'S', 'C']\n",
      "\n",
      "[8] + Codon frequency (L): {'TTA': 1.0}\n",
      "\n",
      "[9] + Reading_frames:\n",
      "['G', 'M', 'H', 'H', 'H', 'R', 'S', 'G', 'F', 'R', 'I', '_', 'L', '_', 'S', 'C']\n",
      "['A', 'C', 'I', 'I', 'I', 'G', 'V', 'G', 'F', 'G', 'S', 'S', 'Y', 'S', 'R', 'V']\n",
      "['H', 'A', 'S', 'S', '_', 'E', 'W', 'V', 'S', 'D', 'L', 'V', 'I', 'V', 'V', 'F']\n",
      "['E', 'H', 'D', 'Y', 'N', '_', 'I', 'R', 'N', 'P', 'L', 'L', '_', '_', 'C', 'M']\n",
      "['N', 'T', 'T', 'I', 'T', 'R', 'S', 'E', 'T', 'H', 'S', 'Y', 'D', 'D', 'A', 'C']\n",
      "['T', 'R', 'L', '_', 'L', 'D', 'P', 'K', 'P', 'T', 'P', 'M', 'M', 'M', 'H', 'A']\n"
     ]
    }
   ],
   "source": [
    "# Import everything from DNA_Toolkit_file.py\n",
    "from DNA_Toolkit_file import *\n",
    "from utilities import colored\n",
    "\n",
    "# import the random package to generate random variables\n",
    "import random\n",
    "\n",
    "# Creating a random DNA sequence for testing:\n",
    "DNAStr = ''.join([random.choice(Nucleotides)\n",
    "                  for nuc in range(50)])\n",
    "# print the results\n",
    "print(countNucFrequency(DNAStr))\n",
    "\n",
    "print(f'\\nSequence: {colored(DNAStr)}\\n')\n",
    "print(f'[1] + Sequence Length: {len(DNAStr)}\\n')\n",
    "print(colored(f'[2] + Nucleotide Frequency: {countNucFrequency(DNAStr)}\\n'))\n",
    "\n",
    "print(f'[3] + DNA/RNA Transcription: {colored(transcription(DNAStr))}\\n')\n",
    "\n",
    "print(f\"[4] + DNA String + Reverse Complement:\\n5' {colored(DNAStr)} 3'\")\n",
    "\n",
    "print(f\"   {''.join(['|' for c in range(len(DNAStr))])}\")\n",
    "print(f\"3' {colored(reverse_complement(DNAStr))} 5'\\n\")\n",
    "print(f'[5] + GC Content: {gc_content(DNAStr)}%\\n')\n",
    "print(\n",
    "    f'[6] + GC Content in Subsection k=5: {gc_content_subsec(DNAStr, k=5)}\\n')\n",
    "print(\n",
    "    f'[7] + Aminoacids Sequence from DNA: {translate_seq(DNAStr, 0)}\\n')\n",
    "print(\n",
    "    f'[8] + Codon frequency (L): {codon_usage(DNAStr, \"L\")}\\n')\n",
    "print('[9] + Reading_frames:')\n",
    "for frame in gene_reading_frame(DNAStr):\n",
    "    print(frame)"
   ]
  },
  {
   "cell_type": "markdown",
   "id": "f78de66f",
   "metadata": {},
   "source": [
    "## Bioinformatics in Python: DNA Toolkit. Part 6: Protein search in a reading frame.\n",
    "link:<https://www.youtube.com/watch?v=Vi9wv6b3deU>  \n",
    "\n",
    "Create a function to scan a reading frame.  \n",
    "In the DNA_Toolkit_file.py, add the following function: "
   ]
  },
  {
   "cell_type": "code",
   "execution_count": 48,
   "id": "e229529a",
   "metadata": {},
   "outputs": [],
   "source": [
    "def proteins_from_rf(aa_seq):\n",
    "    \"\"\"Compute all possible proteins in an aminoacid seq and return a list of possible proteins\"\"\"\n",
    "    current_prot = []\n",
    "    proteins = []\n",
    "    for aa in aa_seq:\n",
    "        if aa == \"_\":\n",
    "            # STOP accumulating amino acids if _ - STOP was found\n",
    "            if current_prot:\n",
    "                for p in current_prot:\n",
    "                    proteins.append(p)\n",
    "                current_prot = []\n",
    "        else:\n",
    "            # START accumulating amino acids if M - START was found\n",
    "            if aa == \"M\":\n",
    "                current_prot.append(\"\")\n",
    "            for i in range(len(current_prot)):\n",
    "                current_prot[i] += aa\n",
    "    return proteins"
   ]
  },
  {
   "cell_type": "markdown",
   "id": "a4b563dc",
   "metadata": {},
   "source": [
    "Create a new file called `protein_test.py`, type: "
   ]
  },
  {
   "cell_type": "code",
   "execution_count": 50,
   "id": "f703d2f9",
   "metadata": {},
   "outputs": [
    {
     "name": "stdout",
     "output_type": "stream",
     "text": [
      "['MCVSISVAMTSASE', 'MTSASE']\n"
     ]
    }
   ],
   "source": [
    "# Import everything from DNA_Toolkit_file.py\n",
    "from DNA_Toolkit_file import *\n",
    "\n",
    "test_aa = ['R', 'M', 'C', 'V', 'S', 'I', 'S', 'V', 'A', 'M', 'T', 'S', 'A', 'S', 'E',\n",
    "           '_', 'A', 'F', 'V', 'Y', 'R', 'S', 'L', '_', 'H', 'Q', 'P', 'R', 'L', 'L', 'S', 'R']\n",
    "\n",
    "print(proteins_from_rf(test_aa))"
   ]
  }
 ],
 "metadata": {
  "kernelspec": {
   "display_name": "Python 3 (ipykernel)",
   "language": "python",
   "name": "python3"
  },
  "language_info": {
   "codemirror_mode": {
    "name": "ipython",
    "version": 3
   },
   "file_extension": ".py",
   "mimetype": "text/x-python",
   "name": "python",
   "nbconvert_exporter": "python",
   "pygments_lexer": "ipython3",
   "version": "3.8.5"
  }
 },
 "nbformat": 4,
 "nbformat_minor": 5
}
