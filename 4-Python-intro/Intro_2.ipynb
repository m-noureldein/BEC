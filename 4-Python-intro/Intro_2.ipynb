{
 "cells": [
  {
   "cell_type": "markdown",
   "id": "55322c1a",
   "metadata": {},
   "source": [
    "# Introduction to Python\n",
    "## Python Tutorial for Beginners 2: Strings - Working with Textual Data\n",
    "link: <https://www.youtube.com/watch?v=k9TUPpGqYTo>  Create a new file in VScode, type:"
   ]
  },
  {
   "cell_type": "code",
   "execution_count": 2,
   "id": "ce0b1a6a",
   "metadata": {},
   "outputs": [
    {
     "name": "stdout",
     "output_type": "stream",
     "text": [
      "Mohamed's World\n"
     ]
    }
   ],
   "source": [
    "message = 'Mohamed\\'s World'\n",
    "\n",
    "print(message)"
   ]
  },
  {
   "cell_type": "markdown",
   "id": "bcf90950",
   "metadata": {},
   "source": [
    "Observe that we escaped `'` in `Mohamed's` by using the `\\` alternatively we can use double quotes to enclose the message `\" \"`.  type:"
   ]
  },
  {
   "cell_type": "code",
   "execution_count": 3,
   "id": "349bb2e0",
   "metadata": {},
   "outputs": [
    {
     "name": "stdout",
     "output_type": "stream",
     "text": [
      "Mohamed's World\n"
     ]
    }
   ],
   "source": [
    "message = \"Mohamed's World\"\n",
    "\n",
    "print(message)"
   ]
  },
  {
   "cell_type": "code",
   "execution_count": 40,
   "id": "9a4b63b2",
   "metadata": {},
   "outputs": [
    {
     "name": "stdout",
     "output_type": "stream",
     "text": [
      "Bioinformatics is an exciting area\n",
      "of science\n"
     ]
    }
   ],
   "source": [
    "#for multiple line strings, use triple quotes `\"\"\" \"\"\"` e.g. \n",
    "\n",
    "message = \"\"\"Bioinformatics is an exciting area\n",
    "of science\"\"\"\n",
    "\n",
    "print(message)"
   ]
  },
  {
   "cell_type": "markdown",
   "id": "865494d4",
   "metadata": {},
   "source": [
    "Use `len` to print the length of the message not the message itself e.g. "
   ]
  },
  {
   "cell_type": "code",
   "execution_count": 7,
   "id": "25b38b87",
   "metadata": {},
   "outputs": [
    {
     "name": "stdout",
     "output_type": "stream",
     "text": [
      "45\n"
     ]
    }
   ],
   "source": [
    "message = \"\"\"Bioinformatics is an exciting area\n",
    "of science\"\"\"\n",
    "\n",
    "print(len(message))"
   ]
  },
  {
   "cell_type": "markdown",
   "id": "8d55f92d",
   "metadata": {},
   "source": [
    "We can subset our string by specifing the number for the character we want to recall (N.B. counting starts at 0) e.g.  "
   ]
  },
  {
   "cell_type": "code",
   "execution_count": 9,
   "id": "398d2932",
   "metadata": {},
   "outputs": [
    {
     "name": "stdout",
     "output_type": "stream",
     "text": [
      "B\n"
     ]
    }
   ],
   "source": [
    "message = \"\"\"Bioinformatics is an exciting area\n",
    "of science\"\"\"\n",
    "\n",
    "print(message[0])"
   ]
  },
  {
   "cell_type": "markdown",
   "id": "9a4ff50f",
   "metadata": {},
   "source": [
    "To access a range of characters use: "
   ]
  },
  {
   "cell_type": "code",
   "execution_count": 11,
   "id": "c4c8b770",
   "metadata": {},
   "outputs": [
    {
     "name": "stdout",
     "output_type": "stream",
     "text": [
      "Bioinforma\n"
     ]
    }
   ],
   "source": [
    "message = \"\"\"Bioinformatics is an exciting area\n",
    "of science\"\"\"\n",
    "\n",
    "print(message[0:10])"
   ]
  },
  {
   "cell_type": "markdown",
   "id": "a44d63ba",
   "metadata": {},
   "source": [
    "Remember that the first index is always included while the last one is not.  \n",
    "It gets the same if we did not specify the first index (i.e. it assumes that it is the very begining) e.g.  "
   ]
  },
  {
   "cell_type": "code",
   "execution_count": 13,
   "id": "0521d611",
   "metadata": {},
   "outputs": [
    {
     "name": "stdout",
     "output_type": "stream",
     "text": [
      "Bioinforma\n"
     ]
    }
   ],
   "source": [
    "message = \"\"\"Bioinformatics is an exciting area\n",
    "of science\"\"\"\n",
    "\n",
    "print(message[:10])"
   ]
  },
  {
   "cell_type": "markdown",
   "id": "f4c3f97e",
   "metadata": {},
   "source": [
    "The same happens if you leave the end index blank e.g. "
   ]
  },
  {
   "cell_type": "code",
   "execution_count": 15,
   "id": "a296d69e",
   "metadata": {},
   "outputs": [
    {
     "name": "stdout",
     "output_type": "stream",
     "text": [
      " science\n"
     ]
    }
   ],
   "source": [
    "message = \"\"\"Bioinformatics is an exciting area\n",
    "of science\"\"\"\n",
    "\n",
    "print(message[37:])"
   ]
  },
  {
   "cell_type": "markdown",
   "id": "e6bc43a3",
   "metadata": {},
   "source": [
    "We can print the message all in lower case by using the following:  "
   ]
  },
  {
   "cell_type": "code",
   "execution_count": 17,
   "id": "12898422",
   "metadata": {},
   "outputs": [
    {
     "name": "stdout",
     "output_type": "stream",
     "text": [
      "bioinformatics is an exciting area\n",
      "of science\n"
     ]
    }
   ],
   "source": [
    "message = \"\"\"Bioinformatics is an exciting area\n",
    "of science\"\"\"\n",
    "\n",
    "print(message.lower())"
   ]
  },
  {
   "cell_type": "markdown",
   "id": "62a07b34",
   "metadata": {},
   "source": [
    "We can count the number of a character in a string if we do:"
   ]
  },
  {
   "cell_type": "code",
   "execution_count": 19,
   "id": "585275af",
   "metadata": {},
   "outputs": [
    {
     "name": "stdout",
     "output_type": "stream",
     "text": [
      "7\n"
     ]
    }
   ],
   "source": [
    "message = \"\"\"Bioinformatics is an exciting area\n",
    "of science\"\"\"\n",
    "\n",
    "print(message.count('i'))"
   ]
  },
  {
   "cell_type": "markdown",
   "id": "1bcb7017",
   "metadata": {},
   "source": [
    "This will give the count of the `i` character in the string.  \n",
    "If we want to know the index of a character, we can use: "
   ]
  },
  {
   "cell_type": "code",
   "execution_count": 21,
   "id": "ced09021",
   "metadata": {},
   "outputs": [
    {
     "name": "stdout",
     "output_type": "stream",
     "text": [
      "15\n"
     ]
    }
   ],
   "source": [
    "message = \"\"\"Bioinformatics is an exciting area\n",
    "of science\"\"\"\n",
    "\n",
    "print(message.find('is'))"
   ]
  },
  {
   "cell_type": "markdown",
   "id": "ada24533",
   "metadata": {},
   "source": [
    "We can replace some characters with other characters e.g. let's replace `is` with `are`. Do it as follows:  "
   ]
  },
  {
   "cell_type": "code",
   "execution_count": 23,
   "id": "3f8a400f",
   "metadata": {},
   "outputs": [
    {
     "name": "stdout",
     "output_type": "stream",
     "text": [
      "Bioinformatics are an exciting area\n",
      "of science \n"
     ]
    }
   ],
   "source": [
    "message = \"\"\"Bioinformatics is an exciting area\n",
    "of science \"\"\"\n",
    "\n",
    "new_message = message.replace('is', 'are')\n",
    "\n",
    "print(new_message)"
   ]
  },
  {
   "cell_type": "markdown",
   "id": "bfa0c544",
   "metadata": {},
   "source": [
    "Concatenate strings, we can do that by typing: "
   ]
  },
  {
   "cell_type": "code",
   "execution_count": 25,
   "id": "280dd5b3",
   "metadata": {},
   "outputs": [
    {
     "name": "stdout",
     "output_type": "stream",
     "text": [
      "Bioinformaticsrocks\n"
     ]
    }
   ],
   "source": [
    "first = \"Bioinformatics\"\n",
    "second = \"rocks\"\n",
    "\n",
    "message = first+second\n",
    "\n",
    "print(message)"
   ]
  },
  {
   "cell_type": "markdown",
   "id": "657d26d1",
   "metadata": {},
   "source": [
    "but this prints the message without spaces! so do the following: "
   ]
  },
  {
   "cell_type": "code",
   "execution_count": 27,
   "id": "6dfe4c8a",
   "metadata": {},
   "outputs": [
    {
     "name": "stdout",
     "output_type": "stream",
     "text": [
      "Bioinformatics rocks\n"
     ]
    }
   ],
   "source": [
    "first = \"Bioinformatics\"\n",
    "second = \"rocks\"\n",
    "\n",
    "message = first+' ' + second\n",
    "\n",
    "print(message)"
   ]
  },
  {
   "cell_type": "markdown",
   "id": "b9fe3919",
   "metadata": {},
   "source": [
    "adding with `+` is not perfect. We can use `formatted strings` to write the sequence as we want it to appear. We can do that by:  "
   ]
  },
  {
   "cell_type": "code",
   "execution_count": 29,
   "id": "ae2ce470",
   "metadata": {},
   "outputs": [
    {
     "name": "stdout",
     "output_type": "stream",
     "text": [
      "Bioinformatics rocks, right?\n"
     ]
    }
   ],
   "source": [
    "first = \"Bioinformatics\"\n",
    "second = \"rocks\"\n",
    "\n",
    "message = '{} {}, right?'.format(first, second)\n",
    "\n",
    "print(message)"
   ]
  },
  {
   "cell_type": "markdown",
   "id": "97f62018",
   "metadata": {},
   "source": [
    "note that `{}` is a place holder. An easier aternative is to use the `f string` by typing:"
   ]
  },
  {
   "cell_type": "code",
   "execution_count": 31,
   "id": "0d6b8f4d",
   "metadata": {},
   "outputs": [
    {
     "name": "stdout",
     "output_type": "stream",
     "text": [
      "Bioinformatics rocks, right?\n"
     ]
    }
   ],
   "source": [
    "first = \"Bioinformatics\"\n",
    "second = \"rocks\"\n",
    "\n",
    "message = f'{first} {second}, right?'\n",
    "\n",
    "print(message)"
   ]
  },
  {
   "cell_type": "markdown",
   "id": "3e1e2c8a",
   "metadata": {},
   "source": [
    "You can even write codes in the placeholder. try:  "
   ]
  },
  {
   "cell_type": "code",
   "execution_count": 33,
   "id": "1c5c6bc9",
   "metadata": {},
   "outputs": [
    {
     "name": "stdout",
     "output_type": "stream",
     "text": [
      "Bioinformatics ROCKS, right?\n"
     ]
    }
   ],
   "source": [
    "first = \"Bioinformatics\"\n",
    "second = \"rocks\"\n",
    "\n",
    "message = f'{first} {second.upper()}, right?'\n",
    "\n",
    "print(message)"
   ]
  },
  {
   "cell_type": "markdown",
   "id": "98a8c7e6",
   "metadata": {},
   "source": [
    "To get an idea on the `methods` that we can use for our strings, just type: `print(dir(message))` and it will give you the whole list:  "
   ]
  },
  {
   "cell_type": "code",
   "execution_count": 36,
   "id": "78da4e06",
   "metadata": {},
   "outputs": [
    {
     "data": {
      "text/plain": [
       "['__add__',\n",
       " '__class__',\n",
       " '__contains__',\n",
       " '__delattr__',\n",
       " '__dir__',\n",
       " '__doc__',\n",
       " '__eq__',\n",
       " '__format__',\n",
       " '__ge__',\n",
       " '__getattribute__',\n",
       " '__getitem__',\n",
       " '__getnewargs__',\n",
       " '__gt__',\n",
       " '__hash__',\n",
       " '__init__',\n",
       " '__init_subclass__',\n",
       " '__iter__',\n",
       " '__le__',\n",
       " '__len__',\n",
       " '__lt__',\n",
       " '__mod__',\n",
       " '__mul__',\n",
       " '__ne__',\n",
       " '__new__',\n",
       " '__reduce__',\n",
       " '__reduce_ex__',\n",
       " '__repr__',\n",
       " '__rmod__',\n",
       " '__rmul__',\n",
       " '__setattr__',\n",
       " '__sizeof__',\n",
       " '__str__',\n",
       " '__subclasshook__',\n",
       " 'capitalize',\n",
       " 'casefold',\n",
       " 'center',\n",
       " 'count',\n",
       " 'encode',\n",
       " 'endswith',\n",
       " 'expandtabs',\n",
       " 'find',\n",
       " 'format',\n",
       " 'format_map',\n",
       " 'index',\n",
       " 'isalnum',\n",
       " 'isalpha',\n",
       " 'isascii',\n",
       " 'isdecimal',\n",
       " 'isdigit',\n",
       " 'isidentifier',\n",
       " 'islower',\n",
       " 'isnumeric',\n",
       " 'isprintable',\n",
       " 'isspace',\n",
       " 'istitle',\n",
       " 'isupper',\n",
       " 'join',\n",
       " 'ljust',\n",
       " 'lower',\n",
       " 'lstrip',\n",
       " 'maketrans',\n",
       " 'partition',\n",
       " 'replace',\n",
       " 'rfind',\n",
       " 'rindex',\n",
       " 'rjust',\n",
       " 'rpartition',\n",
       " 'rsplit',\n",
       " 'rstrip',\n",
       " 'split',\n",
       " 'splitlines',\n",
       " 'startswith',\n",
       " 'strip',\n",
       " 'swapcase',\n",
       " 'title',\n",
       " 'translate',\n",
       " 'upper',\n",
       " 'zfill']"
      ]
     },
     "execution_count": 36,
     "metadata": {},
     "output_type": "execute_result"
    }
   ],
   "source": [
    "['__add__', '__class__', '__contains__', '__delattr__', '__dir__', '__doc__', '__eq__', '__format__', '__ge__', '__getattribute__', '__getitem__', '__getnewargs__', '__gt__', '__hash__', '__init__', '__init_subclass__', '__iter__', '__le__', '__len__', '__lt__', '__mod__', '__mul__', '__ne__', '__new__', '__reduce__', '__reduce_ex__', '__repr__', '__rmod__', '__rmul__', '__setattr__', '__sizeof__', '__str__', '__subclasshook__', 'capitalize', 'casefold', 'center', 'count', 'encode', 'endswith', 'expandtabs', 'find', 'format', 'format_map', 'index', 'isalnum', 'isalpha', 'isascii', 'isdecimal', 'isdigit', 'isidentifier', 'islower', 'isnumeric', 'isprintable', 'isspace', 'istitle', 'isupper', 'join', 'ljust', 'lower', 'lstrip', 'maketrans', 'partition', 'replace', 'rfind', 'rindex', 'rjust', 'rpartition', 'rsplit', 'rstrip', 'split', 'splitlines', 'startswith', 'strip', 'swapcase', 'title', 'translate', 'upper', 'zfill']"
   ]
  },
  {
   "cell_type": "markdown",
   "id": "a171140a",
   "metadata": {},
   "source": [
    "Also, typing `print(help(str))` will give you the help and `print(help(str.lower))` gives you instructions on what this `method` do.  "
   ]
  },
  {
   "cell_type": "markdown",
   "id": "1ace3d27",
   "metadata": {},
   "source": [
    "## Python Tutorial for Beginners 3: Integers and Floats - Working with Numeric Data  \n",
    "link: <https://www.youtube.com/watch?v=khKv-8q7YmY>  \n",
    "An integer is a whole number while a float is a decimal number.  \n",
    "1- know the type of a varibale.  "
   ]
  },
  {
   "cell_type": "code",
   "execution_count": 41,
   "id": "46c9eef5",
   "metadata": {},
   "outputs": [
    {
     "name": "stdout",
     "output_type": "stream",
     "text": [
      "<class 'int'>\n"
     ]
    }
   ],
   "source": [
    "num = 6\n",
    "\n",
    "print(type(num))"
   ]
  },
  {
   "cell_type": "markdown",
   "id": "e9747802",
   "metadata": {},
   "source": [
    "2- Run basic arithmatics: "
   ]
  },
  {
   "cell_type": "code",
   "execution_count": 42,
   "id": "fca4520d",
   "metadata": {},
   "outputs": [
    {
     "name": "stdout",
     "output_type": "stream",
     "text": [
      "9\n",
      "-1\n",
      "20\n",
      "16\n",
      "0.8\n",
      "0\n",
      "1\n"
     ]
    }
   ],
   "source": [
    "print(4+5)\n",
    "print(4-5)\n",
    "print(4 * 5)\n",
    "print(4 ** 2) # exponent\n",
    "print(4/5)\n",
    "print(4//5) # drop the decimal in division\n",
    "print(4%3) # give the reminder after division"
   ]
  },
  {
   "cell_type": "markdown",
   "id": "8845e457",
   "metadata": {},
   "source": [
    "The operation `print(5%2)` is commonly used to tell if a number is even or odd.  \n",
    "3- Order of arithmatic operations in python follows `BOMDAS` and we can pritorize with brackets  "
   ]
  },
  {
   "cell_type": "code",
   "execution_count": 43,
   "id": "68f521a6",
   "metadata": {},
   "outputs": [
    {
     "name": "stdout",
     "output_type": "stream",
     "text": [
      "13\n",
      "25\n"
     ]
    }
   ],
   "source": [
    "print(5 * 2 + 3)\n",
    "print(5*(2+3))"
   ]
  },
  {
   "cell_type": "markdown",
   "id": "3215f8a2",
   "metadata": {},
   "source": [
    "4- Increment numbers. If we want to increment our number by 1, we can use  "
   ]
  },
  {
   "cell_type": "code",
   "execution_count": 44,
   "id": "a4c176fa",
   "metadata": {},
   "outputs": [
    {
     "name": "stdout",
     "output_type": "stream",
     "text": [
      "2\n"
     ]
    }
   ],
   "source": [
    "num = 1\n",
    "num = num + 1\n",
    "print(num)"
   ]
  },
  {
   "cell_type": "code",
   "execution_count": 45,
   "id": "45a8577e",
   "metadata": {},
   "outputs": [
    {
     "name": "stdout",
     "output_type": "stream",
     "text": [
      "2\n"
     ]
    }
   ],
   "source": [
    "num = 1\n",
    "num += 1\n",
    "print(num)"
   ]
  },
  {
   "cell_type": "markdown",
   "id": "00d3d979",
   "metadata": {},
   "source": [
    "it works with `+` and other operators as well.  \n",
    "5- Other numerical functions include   \n",
    "a- `absolute` which gives the absolute value i.e. removes the negative sign. Try `print(abs(-4))`  \n",
    "b- `round` which removes decimals. try `print(round(-4.59))`. Also we cann use it and specify number of decimals that we want to round to. try `print(round(-4.59))`.  \n",
    "6- Comparing numbers `Booleans`. Try:  "
   ]
  },
  {
   "cell_type": "code",
   "execution_count": 46,
   "id": "00cb9d7a",
   "metadata": {},
   "outputs": [
    {
     "name": "stdout",
     "output_type": "stream",
     "text": [
      "False\n",
      "True\n",
      "True\n",
      "False\n",
      "True\n",
      "False\n"
     ]
    }
   ],
   "source": [
    "num1 = 5\n",
    "num2 = 6\n",
    "print(num1 == num2)  # test if the are equal\n",
    "print(num1 != num2)  # test if the are not equal\n",
    "print(num1 < num2)  # test if  num1 is smaller than num2\n",
    "print(num1 > num2)  # test if  num1 is greater than num2\n",
    "print(num1 <= num2)  # test if  num1 is smaller than or equal num2\n",
    "print(num1 >= num2)  # test if  num1 is greater than or equalnum2"
   ]
  },
  {
   "cell_type": "markdown",
   "id": "aed88766",
   "metadata": {},
   "source": [
    "7- Be aware about the type of data you are dealing with. If you write numbers as strings in python, it will deal with them as strings e.g.  "
   ]
  },
  {
   "cell_type": "code",
   "execution_count": 47,
   "id": "1a778d4f",
   "metadata": {},
   "outputs": [
    {
     "name": "stdout",
     "output_type": "stream",
     "text": [
      "100200\n"
     ]
    }
   ],
   "source": [
    "num1 = '100'\n",
    "num2 = '200'\n",
    "\n",
    "print(num1+num2)"
   ]
  },
  {
   "cell_type": "markdown",
   "id": "0c68b5e9",
   "metadata": {},
   "source": [
    "The output will be `100200` as it is adding them as strings not as numbers. You can convert them to numbers by `casting`. try:  "
   ]
  },
  {
   "cell_type": "code",
   "execution_count": 48,
   "id": "aeb3f142",
   "metadata": {},
   "outputs": [
    {
     "name": "stdout",
     "output_type": "stream",
     "text": [
      "300\n"
     ]
    }
   ],
   "source": [
    "num1 = '100'\n",
    "num2 = '200'\n",
    "\n",
    "num1 = int(num1)\n",
    "num2 = int(num2)\n",
    "\n",
    "print(num1+num2)"
   ]
  },
  {
   "cell_type": "markdown",
   "id": "13d07ad6",
   "metadata": {},
   "source": [
    "## Python Tutorial for Beginners 4: Lists, Tuples, and Sets  \n",
    "link:<https://www.youtube.com/watch?v=W8KRzm-HUcc&list=PL-osiE80TeTskrapNbzXhwoFUiLCjGgY7&index=4>  "
   ]
  },
  {
   "cell_type": "code",
   "execution_count": 55,
   "id": "73bdaedc",
   "metadata": {},
   "outputs": [],
   "source": [
    "# 1- make a list by using `[]` and separate by `,` e.g.\n",
    "colors = ['blue', 'red', 'green', 'yellow']"
   ]
  },
  {
   "cell_type": "code",
   "execution_count": 56,
   "id": "919bfb40",
   "metadata": {},
   "outputs": [
    {
     "name": "stdout",
     "output_type": "stream",
     "text": [
      "['blue', 'red', 'green', 'yellow']\n"
     ]
    }
   ],
   "source": [
    "# 2- print the list.  \n",
    "print(colors)  "
   ]
  },
  {
   "cell_type": "code",
   "execution_count": 57,
   "id": "20826b80",
   "metadata": {},
   "outputs": [
    {
     "name": "stdout",
     "output_type": "stream",
     "text": [
      "4\n"
     ]
    }
   ],
   "source": [
    "# 3- print the length of the list.  \n",
    "print(len(colors))"
   ]
  },
  {
   "cell_type": "code",
   "execution_count": 58,
   "id": "52ad90e0",
   "metadata": {},
   "outputs": [
    {
     "name": "stdout",
     "output_type": "stream",
     "text": [
      "red\n"
     ]
    }
   ],
   "source": [
    "# 4- print a certain item for the list by refering to its index using `[]`. N.B. indexes start at 0.  \n",
    "print(colors[1]) #prints the second item. "
   ]
  },
  {
   "cell_type": "code",
   "execution_count": 59,
   "id": "bcdea2bf",
   "metadata": {},
   "outputs": [
    {
     "name": "stdout",
     "output_type": "stream",
     "text": [
      "yellow\n"
     ]
    }
   ],
   "source": [
    "# 5- We can use negative indexes which starts from the end of the list i.e. to get the last item, type:  \n",
    "print(colors[-1])  "
   ]
  },
  {
   "cell_type": "code",
   "execution_count": 60,
   "id": "ed24b71a",
   "metadata": {},
   "outputs": [
    {
     "name": "stdout",
     "output_type": "stream",
     "text": [
      "['blue', 'red']\n",
      "['blue', 'red']\n"
     ]
    }
   ],
   "source": [
    "# 6- print multiple items by using `[:]`. N.B. the first index is included while the last is not.  \n",
    "print(colors[0:2]) \n",
    "\n",
    "# we get the same results if we type:  \n",
    "print(colors[:2]) # as it assumes we start at the begining. The same goes if we leave the last index empty, it goes all the way to the end. "
   ]
  },
  {
   "cell_type": "code",
   "execution_count": 61,
   "id": "5ada381b",
   "metadata": {},
   "outputs": [
    {
     "name": "stdout",
     "output_type": "stream",
     "text": [
      "['blue', 'red', 'green', 'yellow', 'black']\n"
     ]
    }
   ],
   "source": [
    "# 7- Add items to the list by using `.append`. \n",
    "colors = ['blue', 'red', 'green', 'yellow']\n",
    "colors.append('black')\n",
    "print(colors)"
   ]
  },
  {
   "cell_type": "code",
   "execution_count": 62,
   "id": "df7784ae",
   "metadata": {},
   "outputs": [
    {
     "name": "stdout",
     "output_type": "stream",
     "text": [
      "['black', 'blue', 'red', 'green', 'yellow']\n"
     ]
    }
   ],
   "source": [
    "# 8- to append an item to the list in a specific position (not at the end like in the previous example), use `.insert` and specify the index.  \n",
    "colors = ['blue', 'red', 'green', 'yellow']\n",
    "colors.insert(0, 'black')\n",
    "print(colors)"
   ]
  },
  {
   "cell_type": "code",
   "execution_count": 52,
   "id": "ee8b7279",
   "metadata": {},
   "outputs": [
    {
     "name": "stdout",
     "output_type": "stream",
     "text": [
      "[['violet', 'pink'], 'blue', 'red', 'green', 'yellow']\n",
      "['violet', 'pink']\n",
      "['blue', 'red', 'green', 'yellow', 'violet', 'pink']\n"
     ]
    }
   ],
   "source": [
    "# 9- Add items using `.extend`. To see the difference between this method and `.insert` or '.append`, try:  \n",
    "colors = ['blue', 'red', 'green', 'yellow']\n",
    "colors2 = ['violet', 'pink']\n",
    "colors.insert(0, colors2)\n",
    "print(colors) \n",
    "\n",
    "# This will insert the entire second list in the begining of the first list so it is a list inside a list. \n",
    "# This means that the second list is the first item in the new appended list. Try:  \n",
    "colors = ['blue', 'red', 'green', 'yellow']\n",
    "colors2 = ['violet', 'pink']\n",
    "colors.insert(0, colors2)\n",
    "print(colors[0])\n",
    "\n",
    "# This will print the whole second list. The method `.extend` adds the items to the list, try:  \n",
    "colors = ['blue', 'red', 'green', 'yellow']\n",
    "colors2 = ['violet', 'pink']\n",
    "colors.extend(colors2)\n",
    "print(colors)"
   ]
  },
  {
   "cell_type": "code",
   "execution_count": 53,
   "id": "516c63c1",
   "metadata": {},
   "outputs": [
    {
     "name": "stdout",
     "output_type": "stream",
     "text": [
      "['blue', 'green', 'yellow']\n",
      "['blue', 'red', 'green']\n",
      "['blue', 'red', 'green']\n",
      "yellow\n"
     ]
    }
   ],
   "source": [
    "# 10- remove items from the list using `.remove`.  \n",
    "colors = ['blue', 'red', 'green', 'yellow']\n",
    "colors.remove('red')\n",
    "print(colors)\n",
    "\n",
    "# You can also use `.pop` which removes the last item by default.  \n",
    "colors = ['blue', 'red', 'green', 'yellow']\n",
    "colors.pop()\n",
    "print(colors)\n",
    "\n",
    "# `.pop` can also return the item it removed, try:  \n",
    "colors = ['blue', 'red', 'green', 'yellow']\n",
    "popped = colors.pop()\n",
    "\n",
    "print(colors)\n",
    "print(popped)"
   ]
  },
  {
   "cell_type": "code",
   "execution_count": 54,
   "id": "470d6ac5",
   "metadata": {},
   "outputs": [
    {
     "name": "stdout",
     "output_type": "stream",
     "text": [
      "['yellow', 'green', 'red', 'blue']\n"
     ]
    }
   ],
   "source": [
    "# 11- Reverse the list using `.reverse`.  \n",
    "colors = ['blue', 'red', 'green', 'yellow']\n",
    "colors.reverse()\n",
    "print(colors)"
   ]
  },
  {
   "cell_type": "code",
   "execution_count": 63,
   "id": "56d6d617",
   "metadata": {},
   "outputs": [
    {
     "name": "stdout",
     "output_type": "stream",
     "text": [
      "['blue', 'green', 'red', 'yellow']\n",
      "[2, 4, 5, 7, 8]\n",
      "[8, 7, 5, 4, 2]\n",
      "['blue', 'red', 'green', 'yellow']\n",
      "['blue', 'green', 'red', 'yellow']\n"
     ]
    }
   ],
   "source": [
    "# 12- Sort the list using `.sort`. It sorts the list alphabetically.  \n",
    "colors = ['blue', 'red', 'green', 'yellow']\n",
    "colors.sort()\n",
    "print(colors)\n",
    " \n",
    "# If we have numbers, it will sort it in ascending order.  \n",
    "nums = [4, 2, 7, 8, 5]\n",
    "nums.sort()\n",
    "print(nums)\n",
    " \n",
    "# If we want to sort in a descending order, pass `reverse` argument.  \n",
    "nums = [4, 2, 7, 8, 5]\n",
    "nums.sort(reverse=True)\n",
    "print(nums)\n",
    " \n",
    "# This function alters the original list. If we want a sorted version without altering the original list, try:  \n",
    "colors = ['blue', 'red', 'green', 'yellow']\n",
    "sorted_colors = sorted(colors)\n",
    "print(colors)\n",
    "print(sorted_colors)"
   ]
  },
  {
   "cell_type": "code",
   "execution_count": 64,
   "id": "a326f6a2",
   "metadata": {},
   "outputs": [
    {
     "name": "stdout",
     "output_type": "stream",
     "text": [
      "2\n"
     ]
    }
   ],
   "source": [
    "# 13- Get the minimum, maximum or sum of values in a list using `min`, `max` or `sum`.  \n",
    "nums = [4, 2, 7, 8, 5]\n",
    "print(min(nums))"
   ]
  },
  {
   "cell_type": "code",
   "execution_count": 65,
   "id": "b35b4044",
   "metadata": {},
   "outputs": [
    {
     "name": "stdout",
     "output_type": "stream",
     "text": [
      "1\n"
     ]
    }
   ],
   "source": [
    "# 14- Find the index of a certain item in a list.  \n",
    "colors = ['blue', 'red', 'green', 'yellow']\n",
    "print(colors.index('red'))\n",
    "# If the item is not on the list, it will give an error."
   ]
  },
  {
   "cell_type": "code",
   "execution_count": 66,
   "id": "c8ac92ca",
   "metadata": {},
   "outputs": [
    {
     "name": "stdout",
     "output_type": "stream",
     "text": [
      "False\n",
      "True\n",
      "blue\n",
      "red\n",
      "green\n",
      "yellow\n",
      "(0, 'blue')\n",
      "(1, 'red')\n",
      "(2, 'green')\n",
      "(3, 'yellow')\n",
      "(1, 'blue')\n",
      "(2, 'red')\n",
      "(3, 'green')\n",
      "(4, 'yellow')\n"
     ]
    }
   ],
   "source": [
    "# 15- If we want to check if a certain item is present or not in the list.  \n",
    "colors = ['blue', 'red', 'green', 'yellow']\n",
    "print('black' in colors)\n",
    "print('red' in colors)\n",
    " \n",
    "# It eill give you `False` and `True` respectively. We can use `in` in conditionals, try:  \n",
    "colors = ['blue', 'red', 'green', 'yellow']\n",
    "\n",
    "for item in colors:\n",
    "    print(item)\n",
    "\n",
    "# It will print all the items on new lines by default. N.B. notice the indentations. To get the items with its respective indices, try:  \n",
    "colors = ['blue', 'red', 'green', 'yellow']\n",
    "\n",
    "for item in enumerate(colors):\n",
    "    print(item)\n",
    " \n",
    "# This will return the color and its index. Again, the indices here starts at 0. If we want  it to start at 1 instead, try:  \n",
    "colors = ['blue', 'red', 'green', 'yellow']\n",
    "\n",
    "for item in enumerate(colors, start=1):\n",
    "    print(item)"
   ]
  },
  {
   "cell_type": "code",
   "execution_count": 67,
   "id": "5f11a09b",
   "metadata": {},
   "outputs": [
    {
     "ename": "SyntaxError",
     "evalue": "invalid syntax (3316991307.py, line 6)",
     "output_type": "error",
     "traceback": [
      "\u001b[0;36m  Input \u001b[0;32mIn [67]\u001b[0;36m\u001b[0m\n\u001b[0;31m    16- split a list by using `.split` and specify the separator. Try:\u001b[0m\n\u001b[0m              ^\u001b[0m\n\u001b[0;31mSyntaxError\u001b[0m\u001b[0;31m:\u001b[0m invalid syntax\n"
     ]
    }
   ],
   "source": [
    "# 16- Change the separator using `.join`.  \n",
    "colors = ['blue', 'red', 'green', 'yellow']\n",
    "colors_str = ' :'.join(colors)\n",
    "print(colors_str)"
   ]
  },
  {
   "cell_type": "code",
   "execution_count": 68,
   "id": "3f3b0441",
   "metadata": {},
   "outputs": [
    {
     "name": "stdout",
     "output_type": "stream",
     "text": [
      "['blue', 'red', 'green', 'yellow']\n"
     ]
    }
   ],
   "source": [
    "# 17- split a list by using `.split` and specify the separator. Try:  \n",
    "colors = ['blue', 'red', 'green', 'yellow']\n",
    "colors_str = ' :'.join(colors)\n",
    "new_colors = colors_str.split(' :')\n",
    "print(new_colors)"
   ]
  },
  {
   "cell_type": "code",
   "execution_count": 69,
   "id": "496c9d28",
   "metadata": {},
   "outputs": [
    {
     "name": "stdout",
     "output_type": "stream",
     "text": [
      "['blue', 'red', 'green', 'yellow']\n",
      "['blue', 'red', 'green', 'yellow']\n",
      "['white', 'red', 'green', 'yellow']\n",
      "['white', 'red', 'green', 'yellow']\n",
      "('blue', 'red', 'green', 'yellow')\n",
      "('blue', 'red', 'green', 'yellow')\n"
     ]
    },
    {
     "ename": "TypeError",
     "evalue": "'tuple' object does not support item assignment",
     "output_type": "error",
     "traceback": [
      "\u001b[0;31m---------------------------------------------------------------------------\u001b[0m",
      "\u001b[0;31mTypeError\u001b[0m                                 Traceback (most recent call last)",
      "Input \u001b[0;32mIn [69]\u001b[0m, in \u001b[0;36m<cell line: 26>\u001b[0;34m()\u001b[0m\n\u001b[1;32m     24\u001b[0m t_colors \u001b[38;5;241m=\u001b[39m (\u001b[38;5;124m'\u001b[39m\u001b[38;5;124mblue\u001b[39m\u001b[38;5;124m'\u001b[39m, \u001b[38;5;124m'\u001b[39m\u001b[38;5;124mred\u001b[39m\u001b[38;5;124m'\u001b[39m, \u001b[38;5;124m'\u001b[39m\u001b[38;5;124mgreen\u001b[39m\u001b[38;5;124m'\u001b[39m, \u001b[38;5;124m'\u001b[39m\u001b[38;5;124myellow\u001b[39m\u001b[38;5;124m'\u001b[39m)\n\u001b[1;32m     25\u001b[0m t_colors2 \u001b[38;5;241m=\u001b[39m t_colors\n\u001b[0;32m---> 26\u001b[0m \u001b[43mt_colors\u001b[49m\u001b[43m[\u001b[49m\u001b[38;5;241;43m0\u001b[39;49m\u001b[43m]\u001b[49m \u001b[38;5;241m=\u001b[39m \u001b[38;5;124m'\u001b[39m\u001b[38;5;124mwhite\u001b[39m\u001b[38;5;124m'\u001b[39m\n\u001b[1;32m     27\u001b[0m \u001b[38;5;28mprint\u001b[39m(t_colors)\n\u001b[1;32m     28\u001b[0m \u001b[38;5;28mprint\u001b[39m(t_colors2)\n",
      "\u001b[0;31mTypeError\u001b[0m: 'tuple' object does not support item assignment"
     ]
    }
   ],
   "source": [
    "# 18- Tuples are like lists but they can't be changed. \n",
    "# They are immutable. To understand it better, try this example:  \n",
    "colors = ['blue', 'red', 'green', 'yellow']\n",
    "colors2 = colors\n",
    "print(colors)\n",
    "print(colors2)\n",
    "  \n",
    "# The 2 lists are printed the same. Try now to change the first item in the first list and print both lists.  \n",
    "colors = ['blue', 'red', 'green', 'yellow']\n",
    "colors2 = colors\n",
    "\n",
    "colors[0] = 'white'\n",
    "print(colors)\n",
    "print(colors2)\n",
    "\n",
    "# You will find out that both lists are changed because they are the same mutable objects. \n",
    "# Tuples are exactly the same as lists but we use `()` instead of `[]`. Try:  \n",
    "t_colors = ('blue', 'red', 'green', 'yellow')\n",
    "t_colors2 = t_colors\n",
    "print(t_colors)\n",
    "print(t_colors2)\n",
    "\n",
    "# Tuples can't be changed, so if you try:  \n",
    "t_colors = ('blue', 'red', 'green', 'yellow')\n",
    "t_colors2 = t_colors\n",
    "t_colors[0] = 'white'\n",
    "print(t_colors)\n",
    "print(t_colors2)\n",
    "\n",
    "# It will give an error. We can't append, insert or remove but we can loop through it. \n",
    "# We can do anything on the list but not anything in the list.  "
   ]
  },
  {
   "cell_type": "code",
   "execution_count": 70,
   "id": "0e31fbe0",
   "metadata": {},
   "outputs": [
    {
     "name": "stdout",
     "output_type": "stream",
     "text": [
      "{'green', 'blue', 'red', 'yellow'}\n",
      "{'green', 'blue', 'red', 'yellow'}\n",
      "True\n"
     ]
    }
   ],
   "source": [
    "# 19- Sets are like lists but we use `{}` instead of `[]` and they have no order. \n",
    "# If you try to print a set, it will give a different order each time.  \n",
    "set_colors = {'blue', 'red', 'green', 'yellow'}\n",
    "print(set_colors)\n",
    " \n",
    "# Try to run this code multiple times and observe the order of the output. Sets also get rid of duplicates. Try:  \n",
    "set_colors = {'blue', 'red', 'green', 'yellow', 'red'}\n",
    "print(set_colors)\n",
    "\n",
    "# Also sets are optimized for membership tests i.e. to test if a certain value is present in the set.  \n",
    "set_colors = {'blue', 'red', 'green', 'yellow', 'red'}\n",
    "print('red' in set_colors)"
   ]
  },
  {
   "cell_type": "code",
   "execution_count": 71,
   "id": "d9096de0",
   "metadata": {},
   "outputs": [
    {
     "name": "stdout",
     "output_type": "stream",
     "text": [
      "{'red', 'yellow'}\n"
     ]
    }
   ],
   "source": [
    "# 20- We can see the intersection between 2 sets using `.intersection` or \n",
    "# differences between 2 sets using `.differences`.  \n",
    "set_colors = {'blue', 'red', 'green', 'yellow'}\n",
    "other_colors = {'white', 'red', 'black', 'yellow'}\n",
    "print(set_colors.intersection(other_colors))"
   ]
  },
  {
   "cell_type": "code",
   "execution_count": 72,
   "id": "beb028c5",
   "metadata": {},
   "outputs": [
    {
     "name": "stdout",
     "output_type": "stream",
     "text": [
      "{'blue', 'white', 'yellow', 'green', 'black', 'red'}\n"
     ]
    }
   ],
   "source": [
    "# 21- We can use union to combine both sets.  \n",
    "set_colors = {'blue', 'red', 'green', 'yellow'}\n",
    "other_colors = {'white', 'red', 'black', 'yellow'}\n",
    "print(set_colors.union(other_colors))"
   ]
  },
  {
   "cell_type": "code",
   "execution_count": 73,
   "id": "ee124abe",
   "metadata": {},
   "outputs": [],
   "source": [
    "# 22- create empty lists, tuples and sets.\n",
    "# create empty lists\n",
    "empty_list = []\n",
    "empty_list = list()  # alternative way\n",
    "\n",
    "# create empty tuples\n",
    "empty_tuple = ()\n",
    "empty_tuple = tuple()  # alternative way\n",
    "\n",
    "# create empty sets\n",
    "empty_set = {}  # you can't use that. It is for dictionaries.\n",
    "empty_set = set()  # the only way"
   ]
  },
  {
   "cell_type": "markdown",
   "id": "ce7873f0",
   "metadata": {},
   "source": [
    "## Python Tutorial for Beginners 5: Dictionaries - Working with Key-Value Pairs  \n",
    "link: <https://www.youtube.com/watch?v=daefaLgNkw0&list=PL-osiE80TeTskrapNbzXhwoFUiLCjGgY7&index=5>  \n",
    "\n",
    "Dictionaries allow us to waork with `key:value` like `associative arrays`."
   ]
  },
  {
   "cell_type": "code",
   "execution_count": 74,
   "id": "24dadf1b",
   "metadata": {},
   "outputs": [
    {
     "name": "stdout",
     "output_type": "stream",
     "text": [
      "{'name': 'Mohamed', 'age': 20, 'courses': ['science', 'english']}\n"
     ]
    }
   ],
   "source": [
    "# 1- Construct a dictionary.  \n",
    "student = {'name': 'Mohamed', 'age': 20, 'courses': ['science', 'english']}\n",
    "print(student)"
   ]
  },
  {
   "cell_type": "code",
   "execution_count": 75,
   "id": "106245be",
   "metadata": {},
   "outputs": [
    {
     "name": "stdout",
     "output_type": "stream",
     "text": [
      "30\n"
     ]
    }
   ],
   "source": [
    "# 2- Access information in dictionary using a key.  \n",
    "student = {'name': 'Mohamed', 'age': 30, 'courses': ['science', 'english']}\n",
    "print(student['age'])\n",
    "# We can pass trings, integers, lists or anything in a dictionary.  "
   ]
  },
  {
   "cell_type": "code",
   "execution_count": 76,
   "id": "030db6ae",
   "metadata": {},
   "outputs": [
    {
     "name": "stdout",
     "output_type": "stream",
     "text": [
      "None\n",
      "Not Found\n"
     ]
    }
   ],
   "source": [
    "# 3- If we try to access a key that does not exist, it will return an error. If we want it to return `none` instead, use `.get`.  \n",
    "student = {'name': 'Mohamed', 'age': 30, 'courses': ['science', 'english']}\n",
    "print(student.get('phone'))\n",
    " \n",
    "# We can specify a default value for non-existent keys by passing it as an argument.  \n",
    "student = {'name': 'Mohamed', 'age': 30, 'courses': ['science', 'english']}\n",
    "print(student.get('phone', 'Not Found'))"
   ]
  },
  {
   "cell_type": "code",
   "execution_count": 77,
   "id": "d68f8b5e",
   "metadata": {},
   "outputs": [
    {
     "name": "stdout",
     "output_type": "stream",
     "text": [
      "000-000-0000\n",
      "Tim\n",
      "{'name': 'Tim', 'age': '25', 'courses': ['science', 'english']}\n"
     ]
    }
   ],
   "source": [
    "# 4- Adding a new key to a dictionary.  \n",
    "student = {'name': 'Mohamed', 'age': 30, 'courses': ['science', 'english']}\n",
    "student['phone'] = '000-000-0000'\n",
    "print(student.get('phone', 'Not Found'))\n",
    "\n",
    "# This is also used to update a value of a key.  \n",
    "student = {'name': 'Mohamed', 'age': 30, 'courses': ['science', 'english']}\n",
    "student['name'] = 'Tim'\n",
    "print(student.get('name', 'Not Found'))\n",
    "  \n",
    "# We can also update a value by using `.update` to update multiple values at a time.  \n",
    "student = {'name': 'Mohamed', 'age': 20, 'courses': ['science', 'english']}\n",
    "student.update({'name': 'Tim', 'age': '25'})\n",
    "print(student)"
   ]
  },
  {
   "cell_type": "code",
   "execution_count": 78,
   "id": "b04ace69",
   "metadata": {},
   "outputs": [
    {
     "name": "stdout",
     "output_type": "stream",
     "text": [
      "{'name': 'Mohamed', 'courses': ['science', 'english']}\n",
      "{'name': 'Mohamed', 'courses': ['science', 'english']}\n",
      "20\n"
     ]
    }
   ],
   "source": [
    "# 5- Delete a specific key or a value using `del`.  \n",
    "student = {'name': 'Mohamed', 'age': 20, 'courses': ['science', 'english']}\n",
    "del student['age']\n",
    "print(student)\n",
    " \n",
    "# or use `.pop` that removes and can return the value.  \n",
    "student = {'name': 'Mohamed', 'age': 20, 'courses': ['science', 'english']}\n",
    "age = student.pop('age')\n",
    "print(student)\n",
    "print(age)"
   ]
  },
  {
   "cell_type": "code",
   "execution_count": 79,
   "id": "38a9d122",
   "metadata": {},
   "outputs": [
    {
     "name": "stdout",
     "output_type": "stream",
     "text": [
      "3\n"
     ]
    }
   ],
   "source": [
    "# 6- Know the length by `len`.  \n",
    "student = {'name': 'Mohamed', 'age': 20, 'courses': ['science', 'english']}\n",
    "print(len(student))"
   ]
  },
  {
   "cell_type": "code",
   "execution_count": 80,
   "id": "b3706b21",
   "metadata": {},
   "outputs": [
    {
     "name": "stdout",
     "output_type": "stream",
     "text": [
      "dict_keys(['name', 'age', 'courses'])\n",
      "dict_keys(['name', 'age', 'courses'])\n",
      "dict_values(['Mohamed', 20, ['science', 'english']])\n",
      "dict_items([('name', 'Mohamed'), ('age', 20), ('courses', ['science', 'english'])])\n"
     ]
    }
   ],
   "source": [
    "# 7- Know all the keys by `.keys` method.  \n",
    "student = {'name': 'Mohamed', 'age': 20, 'courses': ['science', 'english']}\n",
    "print(student.keys())\n",
    " \n",
    "# The same for values `.values` or items `.items`.  \n",
    "student = {'name': 'Mohamed', 'age': 20, 'courses': ['science', 'english']}\n",
    "print(student.keys())\n",
    "print(student.values())\n",
    "print(student.items())"
   ]
  },
  {
   "cell_type": "code",
   "execution_count": 81,
   "id": "d71422c3",
   "metadata": {},
   "outputs": [
    {
     "name": "stdout",
     "output_type": "stream",
     "text": [
      "name\n",
      "age\n",
      "courses\n",
      "name Mohamed\n",
      "age 20\n",
      "courses ['science', 'english']\n"
     ]
    }
   ],
   "source": [
    "# 8- Loop through a dictionary.  \n",
    "\n",
    "# a- loop through keys.  \n",
    "student = {'name': 'Mohamed', 'age': 20, 'courses': ['science', 'english']}\n",
    "for key in student:\n",
    "    print(key)\n",
    " \n",
    "# b- loop through the whole dictionary.  \n",
    "student = {'name': 'Mohamed', 'age': 20, 'courses': ['science', 'english']}\n",
    "\n",
    "for key, value in student.items():\n",
    "    print(key, value)"
   ]
  },
  {
   "cell_type": "markdown",
   "id": "f24badda",
   "metadata": {},
   "source": [
    "## Python Tutorial for Beginners 6: Conditionals and Booleans - If, Else, and Elif Statements  \n",
    "link: <https://www.youtube.com/watch?v=DZwmZ8Usvnk>  \n",
    "Conditionals work simply by evaluating if a condition is true then they will execute the function ahead. For example, if we write a basic conditional like that:  "
   ]
  },
  {
   "cell_type": "code",
   "execution_count": 82,
   "id": "256d0427",
   "metadata": {},
   "outputs": [
    {
     "name": "stdout",
     "output_type": "stream",
     "text": [
      "conditional is true\n"
     ]
    }
   ],
   "source": [
    "if True:\n",
    "    print('conditional is true')"
   ]
  },
  {
   "cell_type": "markdown",
   "id": "4ebcecc3",
   "metadata": {},
   "source": [
    "The statement 'conditional is true' will be printed. On the other hand if we write the conditional like that:  "
   ]
  },
  {
   "cell_type": "code",
   "execution_count": 83,
   "id": "aaa413b6",
   "metadata": {},
   "outputs": [],
   "source": [
    "if False:\n",
    "    print('conditional is true')"
   ]
  },
  {
   "cell_type": "markdown",
   "id": "b3239775",
   "metadata": {},
   "source": [
    "Nothing will happen. Now, let's try more realistic examples."
   ]
  },
  {
   "cell_type": "code",
   "execution_count": 85,
   "id": "a5139e0c",
   "metadata": {},
   "outputs": [
    {
     "name": "stdout",
     "output_type": "stream",
     "text": [
      "conditional is true\n"
     ]
    }
   ],
   "source": [
    "language = 'python'\n",
    "\n",
    "if language == 'python':\n",
    "    print('conditional is true')"
   ]
  },
  {
   "cell_type": "markdown",
   "id": "f3a93660",
   "metadata": {},
   "source": [
    "This conditional will print the statement 'conditional is true' if the variable `language` satisfied the condition which is 'being equal to \"pythin\"'.  \n",
    "Other comparisons can be `==`, `!=`, `<`, `>`, `<=`,`>=`, `is`. We can add `else` to our conditional to execute another command if the condition was not met.  "
   ]
  },
  {
   "cell_type": "code",
   "execution_count": 86,
   "id": "a1226e14",
   "metadata": {},
   "outputs": [
    {
     "name": "stdout",
     "output_type": "stream",
     "text": [
      "language is python\n"
     ]
    }
   ],
   "source": [
    "language = 'python'\n",
    "\n",
    "if language == 'python':\n",
    "    print('language is python')\n",
    "else:\n",
    "    print('no match')"
   ]
  },
  {
   "cell_type": "markdown",
   "id": "d6cafe27",
   "metadata": {},
   "source": [
    "If we want to check for 2 conditions not only one, we use `elif`. Try:"
   ]
  },
  {
   "cell_type": "code",
   "execution_count": 87,
   "id": "c21f5c0b",
   "metadata": {},
   "outputs": [
    {
     "name": "stdout",
     "output_type": "stream",
     "text": [
      "language is R\n"
     ]
    }
   ],
   "source": [
    "language = 'R'\n",
    "\n",
    "if language == 'python':\n",
    "    print('language is python')\n",
    "elif language == 'R':\n",
    "    print('language is R')\n",
    "else:\n",
    "    print('no match')"
   ]
  },
  {
   "cell_type": "markdown",
   "id": "e723d7cd",
   "metadata": {},
   "source": [
    "We also can use `Boolean operations` like `and`, `or`, `not`."
   ]
  },
  {
   "cell_type": "code",
   "execution_count": 88,
   "id": "565e167b",
   "metadata": {},
   "outputs": [
    {
     "name": "stdout",
     "output_type": "stream",
     "text": [
      "adult male\n"
     ]
    }
   ],
   "source": [
    "age = 18\n",
    "gender = 'male'\n",
    "\n",
    "if age == 18 and gender == 'male':\n",
    "    print('adult male')\n",
    "else:\n",
    "    print('not adult male')"
   ]
  },
  {
   "cell_type": "markdown",
   "id": "b3321551",
   "metadata": {},
   "source": [
    "The difference between `==` and `is` is that `is` is checking for identity. For example if we run this code: "
   ]
  },
  {
   "cell_type": "code",
   "execution_count": 89,
   "id": "6e47cc8d",
   "metadata": {},
   "outputs": [
    {
     "name": "stdout",
     "output_type": "stream",
     "text": [
      "True\n"
     ]
    }
   ],
   "source": [
    "a = [1, 2, 3]\n",
    "b = [1, 2, 3]\n",
    "\n",
    "print(a == b)"
   ]
  },
  {
   "cell_type": "markdown",
   "id": "cc7bb9e7",
   "metadata": {},
   "source": [
    "It will print `True` but if we run: "
   ]
  },
  {
   "cell_type": "code",
   "execution_count": 90,
   "id": "d0c0e2fe",
   "metadata": {},
   "outputs": [
    {
     "name": "stdout",
     "output_type": "stream",
     "text": [
      "False\n"
     ]
    }
   ],
   "source": [
    "a = [1, 2, 3]\n",
    "b = [1, 2, 3]\n",
    "\n",
    "print(a is b)"
   ]
  },
  {
   "cell_type": "markdown",
   "id": "f5be14e2",
   "metadata": {},
   "source": [
    "Instead, it will print `False`. This happens because they have different IDs in the memory. Check that by typing:"
   ]
  },
  {
   "cell_type": "code",
   "execution_count": 91,
   "id": "1dd1220e",
   "metadata": {},
   "outputs": [
    {
     "name": "stdout",
     "output_type": "stream",
     "text": [
      "140299269995392\n",
      "140299269995648\n",
      "False\n"
     ]
    }
   ],
   "source": [
    "a = [1, 2, 3]\n",
    "b = [1, 2, 3]\n",
    "\n",
    "print(id(a))\n",
    "print(id(b))\n",
    "print(a is b)"
   ]
  },
  {
   "cell_type": "markdown",
   "id": "0c349287",
   "metadata": {},
   "source": [
    "Alternatively, if we do: "
   ]
  },
  {
   "cell_type": "code",
   "execution_count": 92,
   "id": "363f1d35",
   "metadata": {},
   "outputs": [
    {
     "name": "stdout",
     "output_type": "stream",
     "text": [
      "140299269994496\n",
      "140299269994496\n",
      "True\n"
     ]
    }
   ],
   "source": [
    "a = [1, 2, 3]\n",
    "b = a\n",
    "\n",
    "print(id(a))\n",
    "print(id(b))\n",
    "print(a is b)"
   ]
  },
  {
   "cell_type": "markdown",
   "id": "c719221e",
   "metadata": {},
   "source": [
    "They will have the same identity and it will print `True`. This means that `is` is the same as `print(id(a) == id(b))`.  \n",
    "In summary, conditionals in python evaluate if the condition is `True` or `False` and then execute the command accordingly. Let's look at what python considers as false:  "
   ]
  },
  {
   "cell_type": "code",
   "execution_count": 93,
   "id": "c993cde1",
   "metadata": {},
   "outputs": [],
   "source": [
    "# condition = False\n",
    "# condition = None\n",
    "# condition = Zero of any numeric value\n",
    "# condition = Any empty sequence\n",
    "# condition = Any empty dictionary"
   ]
  },
  {
   "cell_type": "markdown",
   "id": "674f6934",
   "metadata": {},
   "source": [
    "## Python Tutorial for Beginners 7: Loops and Iterations - For/While Loops  \n",
    "link:<https://www.youtube.com/watch?v=6iF8Xb7Z3wQ>  \n",
    "Create a loop: "
   ]
  },
  {
   "cell_type": "code",
   "execution_count": 95,
   "id": "1948aa54",
   "metadata": {},
   "outputs": [
    {
     "name": "stdout",
     "output_type": "stream",
     "text": [
      "1\n",
      "2\n",
      "3\n",
      "4\n",
      "5\n"
     ]
    }
   ],
   "source": [
    "nums = [1, 2, 3, 4, 5]\n",
    "for num in nums:\n",
    "    print(num)"
   ]
  },
  {
   "cell_type": "markdown",
   "id": "e83cb4b6",
   "metadata": {},
   "source": [
    "We have two keywords essential in loops: `break` and `continuing` keywords. If we try thhis code: "
   ]
  },
  {
   "cell_type": "code",
   "execution_count": 96,
   "id": "f00f9c35",
   "metadata": {},
   "outputs": [
    {
     "name": "stdout",
     "output_type": "stream",
     "text": [
      "1\n",
      "2\n",
      "Number found!\n"
     ]
    }
   ],
   "source": [
    "nums = [1, 2, 3, 4, 5]\n",
    "\n",
    "for num in nums:\n",
    "    if num == 3:\n",
    "        print('Number found!')\n",
    "        break\n",
    "    print(num)"
   ]
  },
  {
   "cell_type": "markdown",
   "id": "5764699e",
   "metadata": {},
   "source": [
    "The loop won't loop through `3` and will break after it.  \n",
    "If we want only to skip a value, we use `continue`. "
   ]
  },
  {
   "cell_type": "code",
   "execution_count": 97,
   "id": "0d2315fd",
   "metadata": {},
   "outputs": [
    {
     "name": "stdout",
     "output_type": "stream",
     "text": [
      "1\n",
      "2\n",
      "Number found!\n",
      "4\n",
      "5\n"
     ]
    }
   ],
   "source": [
    "nums = [1, 2, 3, 4, 5]\n",
    "\n",
    "for num in nums:\n",
    "    if num == 3:\n",
    "        print('Number found!')\n",
    "        continue\n",
    "    print(num)"
   ]
  },
  {
   "cell_type": "markdown",
   "id": "a6e23370",
   "metadata": {},
   "source": [
    "It only skipped 3 and continued.  \n",
    "We can have a loop within a loop. "
   ]
  },
  {
   "cell_type": "code",
   "execution_count": 98,
   "id": "58396366",
   "metadata": {},
   "outputs": [
    {
     "name": "stdout",
     "output_type": "stream",
     "text": [
      "1 a\n",
      "1 b\n",
      "1 c\n",
      "2 a\n",
      "2 b\n",
      "2 c\n",
      "3 a\n",
      "3 b\n",
      "3 c\n",
      "4 a\n",
      "4 b\n",
      "4 c\n",
      "5 a\n",
      "5 b\n",
      "5 c\n"
     ]
    }
   ],
   "source": [
    "nums = [1, 2, 3, 4, 5]\n",
    "\n",
    "for num in nums:\n",
    "    for letter in 'abc':\n",
    "        print(num, letter)"
   ]
  },
  {
   "cell_type": "markdown",
   "id": "ae3c7629",
   "metadata": {},
   "source": [
    "If we want to loop for a specific number of times e.g. 10 times. Try: "
   ]
  },
  {
   "cell_type": "code",
   "execution_count": 99,
   "id": "39e5ddd9",
   "metadata": {},
   "outputs": [
    {
     "name": "stdout",
     "output_type": "stream",
     "text": [
      "0\n",
      "1\n",
      "2\n",
      "3\n",
      "4\n",
      "5\n",
      "6\n",
      "7\n",
      "8\n",
      "9\n"
     ]
    }
   ],
   "source": [
    "for i in range(10):\n",
    "    print(i)"
   ]
  },
  {
   "cell_type": "markdown",
   "id": "26f5148e",
   "metadata": {},
   "source": [
    "We also can start at any number we want."
   ]
  },
  {
   "cell_type": "code",
   "execution_count": 100,
   "id": "43b52b80",
   "metadata": {},
   "outputs": [
    {
     "name": "stdout",
     "output_type": "stream",
     "text": [
      "2\n",
      "3\n",
      "4\n",
      "5\n",
      "6\n",
      "7\n",
      "8\n",
      "9\n",
      "10\n",
      "11\n",
      "12\n",
      "13\n",
      "14\n",
      "15\n",
      "16\n",
      "17\n",
      "18\n",
      "19\n",
      "20\n",
      "21\n",
      "22\n",
      "23\n",
      "24\n",
      "25\n",
      "26\n",
      "27\n",
      "28\n",
      "29\n",
      "30\n",
      "31\n",
      "32\n",
      "33\n",
      "34\n",
      "35\n",
      "36\n",
      "37\n",
      "38\n",
      "39\n",
      "40\n",
      "41\n",
      "42\n",
      "43\n",
      "44\n",
      "45\n",
      "46\n",
      "47\n",
      "48\n",
      "49\n"
     ]
    }
   ],
   "source": [
    "for i in range(2, 50):\n",
    "    print(i)"
   ]
  },
  {
   "cell_type": "markdown",
   "id": "d7c4e77c",
   "metadata": {},
   "source": [
    "If you put a condition, the loop will continue till the stop condition is met."
   ]
  },
  {
   "cell_type": "code",
   "execution_count": 101,
   "id": "0e6d4580",
   "metadata": {},
   "outputs": [
    {
     "name": "stdout",
     "output_type": "stream",
     "text": [
      "0\n",
      "1\n",
      "2\n",
      "3\n",
      "4\n",
      "5\n",
      "6\n",
      "7\n",
      "8\n",
      "9\n"
     ]
    }
   ],
   "source": [
    "x = 0\n",
    "\n",
    "while x < 10:\n",
    "    print(x)\n",
    "    x += 1"
   ]
  },
  {
   "cell_type": "markdown",
   "id": "a30d5721",
   "metadata": {},
   "source": [
    "If you want the loop to go indefinitely till a certain value is met, you can use `while True`."
   ]
  },
  {
   "cell_type": "code",
   "execution_count": 102,
   "id": "2ad1c101",
   "metadata": {},
   "outputs": [
    {
     "name": "stdout",
     "output_type": "stream",
     "text": [
      "0\n",
      "1\n",
      "2\n",
      "3\n",
      "4\n",
      "last\n"
     ]
    }
   ],
   "source": [
    "x = 0\n",
    "\n",
    "while True:\n",
    "    if x == 5:\n",
    "        print('last')\n",
    "        break\n",
    "    print(x)\n",
    "    x += 1"
   ]
  },
  {
   "cell_type": "markdown",
   "id": "262185fc",
   "metadata": {},
   "source": [
    "Be aware that if you run something like that:  "
   ]
  },
  {
   "cell_type": "code",
   "execution_count": 104,
   "id": "27706a86",
   "metadata": {},
   "outputs": [],
   "source": [
    "# x = 0\n",
    "\n",
    "# while True:\n",
    "    # print(x)\n",
    "    # x += 1"
   ]
  },
  {
   "cell_type": "markdown",
   "id": "9a2864fd",
   "metadata": {},
   "source": [
    "You will be stuck in an infinite loop. Kill it by pressing `ctrl+C`."
   ]
  },
  {
   "cell_type": "markdown",
   "id": "4c725381",
   "metadata": {},
   "source": [
    "## Python Tutorial for Beginners 8: Functions  \n",
    "link:<https://www.youtube.com/watch?v=9Os0o3wzS_I>  \n",
    "Create a function using `def`."
   ]
  },
  {
   "cell_type": "code",
   "execution_count": 105,
   "id": "e9664a71",
   "metadata": {},
   "outputs": [
    {
     "name": "stdout",
     "output_type": "stream",
     "text": [
      "<function hello_func at 0x7f99f82750d0>\n",
      "None\n"
     ]
    }
   ],
   "source": [
    "def hello_func():\n",
    "    pass\n",
    "\n",
    "\n",
    "print(hello_func)\n",
    "print(hello_func())"
   ]
  },
  {
   "cell_type": "markdown",
   "id": "1b523c70",
   "metadata": {},
   "source": [
    "We used `def` to define the function, then we named the function `hello_funct`, followed by `()` which are placeholders for the argument. We then typed `pass` which does nothing but prevent the appearance of an error if we run this empty function. Then we printed the function without `()` which returns the function itself and we printed `hello_function()` to see the results of this function which is currently `none`.  \n",
    "Let's make this function actually do something. "
   ]
  },
  {
   "cell_type": "code",
   "execution_count": 106,
   "id": "43ea71f2",
   "metadata": {},
   "outputs": [
    {
     "name": "stdout",
     "output_type": "stream",
     "text": [
      "Hello!\n"
     ]
    }
   ],
   "source": [
    "def hello_func():\n",
    "    print('Hello!')\n",
    "\n",
    "\n",
    "hello_func()"
   ]
  },
  {
   "cell_type": "markdown",
   "id": "3b92f1d4",
   "metadata": {},
   "source": [
    "It will print `Hello!`. Functions have the advantage of not making us repeat the code and allows debugging, so if we want to print `Hello!` for ten times then we changed our mind and wanted to print `Hi!` instead, we won't have to type `print('Hi!')` for 10 times we only change the message in the function one time then we execute it 10 times.  This is what refered do as keeping the code `dry`.  \n",
    "We can use `return` in a function to designate an output then we can print this output."
   ]
  },
  {
   "cell_type": "code",
   "execution_count": 107,
   "id": "e03b3dd4",
   "metadata": {},
   "outputs": [
    {
     "name": "stdout",
     "output_type": "stream",
     "text": [
      "Hello!\n"
     ]
    }
   ],
   "source": [
    "def hello_func():\n",
    "    return 'Hello!'\n",
    "\n",
    "\n",
    "print(hello_func())"
   ]
  },
  {
   "cell_type": "markdown",
   "id": "fc9da715",
   "metadata": {},
   "source": [
    "Don't get too caught up on what every function does. Focus on what is the input and what is the output.  \n",
    "You can operate on the output as the type of data it is i.e. if it is a string, you can use the methods used for strings e.g.  "
   ]
  },
  {
   "cell_type": "code",
   "execution_count": 108,
   "id": "07016c21",
   "metadata": {},
   "outputs": [
    {
     "name": "stdout",
     "output_type": "stream",
     "text": [
      "HELLO!\n"
     ]
    }
   ],
   "source": [
    "def hello_func():\n",
    "    return 'Hello!'\n",
    "\n",
    "\n",
    "print(hello_func().upper())"
   ]
  },
  {
   "cell_type": "markdown",
   "id": "b1036b12",
   "metadata": {},
   "source": [
    "Pass argument to our function:  "
   ]
  },
  {
   "cell_type": "code",
   "execution_count": 109,
   "id": "9ba22124",
   "metadata": {},
   "outputs": [
    {
     "name": "stdout",
     "output_type": "stream",
     "text": [
      "hi World.\n"
     ]
    }
   ],
   "source": [
    "def hello_func(greeting):\n",
    "    return '{} World.'.format(greeting)\n",
    "\n",
    "\n",
    "print(hello_func('hi'))"
   ]
  },
  {
   "cell_type": "markdown",
   "id": "759fdef3",
   "metadata": {},
   "source": [
    "We can specify a default value if no argument is provided."
   ]
  },
  {
   "cell_type": "code",
   "execution_count": 110,
   "id": "54fbb7f1",
   "metadata": {},
   "outputs": [
    {
     "name": "stdout",
     "output_type": "stream",
     "text": [
      "hi, mohamed\n"
     ]
    }
   ],
   "source": [
    "def hello_func(greeting, name='you'):\n",
    "    return '{}, {}'.format(greeting, name)\n",
    "\n",
    "\n",
    "print(hello_func('hi', 'mohamed'))"
   ]
  },
  {
   "cell_type": "markdown",
   "id": "72a45394",
   "metadata": {},
   "source": [
    "If we did not provide a name, it will print 'hi you' instead.  \n",
    "If you don't know how many arguments we will have or their type, use `*args` and `**kwargs`:  "
   ]
  },
  {
   "cell_type": "code",
   "execution_count": 112,
   "id": "9c2e37f4",
   "metadata": {},
   "outputs": [
    {
     "name": "stdout",
     "output_type": "stream",
     "text": [
      "('math', 'art')\n",
      "{'name': 'john', 'age': '28'}\n"
     ]
    }
   ],
   "source": [
    "def student_info(*args, **kwargs):\n",
    "    print(args)\n",
    "    print(kwargs)\n",
    "\n",
    "\n",
    "student_info('math', 'art', name='john', age='28')"
   ]
  },
  {
   "cell_type": "markdown",
   "id": "c5c2a27c",
   "metadata": {},
   "source": [
    "We can pass these arguments from `lists` by using `*` or `dictionary` by using `**` as in the following example: "
   ]
  },
  {
   "cell_type": "code",
   "execution_count": 113,
   "id": "f1690df9",
   "metadata": {},
   "outputs": [
    {
     "name": "stdout",
     "output_type": "stream",
     "text": [
      "('math', 'art')\n",
      "{'name': 'john', 'age': 28}\n"
     ]
    }
   ],
   "source": [
    "def student_info(*args, **kwargs):\n",
    "    print(args)\n",
    "    print(kwargs)\n",
    "\n",
    "\n",
    "courses = ['math', 'art']\n",
    "info = {'name': 'john', 'age': 28}\n",
    "\n",
    "student_info(*courses, **info)"
   ]
  },
  {
   "cell_type": "markdown",
   "id": "ec6067db",
   "metadata": {},
   "source": [
    "Try these functions: "
   ]
  },
  {
   "cell_type": "code",
   "execution_count": 114,
   "id": "1b292181",
   "metadata": {},
   "outputs": [
    {
     "name": "stdout",
     "output_type": "stream",
     "text": [
      "False\n",
      "invalid month\n"
     ]
    }
   ],
   "source": [
    "month_days = [0, 31, 28, 31, 30, 31, 20, 31, 31, 30, 31, 30, 31]\n",
    "\n",
    "\n",
    "def is_leap(year):\n",
    "    \"\"\" return true for leap years and false for non-leap years\"\"\"\n",
    "    return year % 4 == 0 and (year % 100 != 0 or year % 400 == 0)\n",
    "\n",
    "\n",
    "def days_in_month(year, month):\n",
    "    if not 1 <= month <= 12:\n",
    "        return 'invalid month'\n",
    "    if month == 2 and is_leap(year):\n",
    "        return 29\n",
    "    return month_days[month]\n",
    "\n",
    "\n",
    "print(is_leap(2021))\n",
    "print(days_in_month(2021, 13))"
   ]
  },
  {
   "cell_type": "markdown",
   "id": "a038db78",
   "metadata": {},
   "source": [
    "## Python Tutorial for Beginners 9: Import Modules and Exploring The Standard Library  \n",
    "link:<https://www.youtube.com/watch?v=CqvZ3vGoGs0&list=PL-osiE80TeTt2d9bfVyTiXJA-UTHn6WwU&index=9>  \n",
    "We are going to create a module and run it. Create a file called `module.py` and paste: "
   ]
  },
  {
   "cell_type": "code",
   "execution_count": 115,
   "id": "a4375b0e",
   "metadata": {},
   "outputs": [
    {
     "name": "stdout",
     "output_type": "stream",
     "text": [
      "Imported my module...\n"
     ]
    }
   ],
   "source": [
    "print('Imported my module...')\n",
    "\n",
    "Test = 'Test string'\n",
    "\n",
    "\n",
    "def find_index(to_search, target):\n",
    "    '''Find the index for a value in a sequence'''\n",
    "    for i, value in enumerate(to_search):\n",
    "        if value == target:\n",
    "            return i\n",
    "    return -1"
   ]
  },
  {
   "cell_type": "markdown",
   "id": "05f93f65",
   "metadata": {},
   "source": [
    "The first `print` statement is there to make us test if the module is imported.  \n",
    "Create a new file. It has to be in the same directory as the module file. Call it `test.py` and paste in it: "
   ]
  },
  {
   "cell_type": "code",
   "execution_count": 117,
   "id": "ae886604",
   "metadata": {},
   "outputs": [
    {
     "name": "stdout",
     "output_type": "stream",
     "text": [
      "Imported my module...\n"
     ]
    }
   ],
   "source": [
    "import module\n",
    "courses = ['art', 'history', 'math', 'physics']"
   ]
  },
  {
   "cell_type": "markdown",
   "id": "0b8ae39b",
   "metadata": {},
   "source": [
    "The first `import` command will import the module.  \n",
    "Use the function in your module as follows:  "
   ]
  },
  {
   "cell_type": "code",
   "execution_count": 118,
   "id": "69ef8286",
   "metadata": {},
   "outputs": [
    {
     "name": "stdout",
     "output_type": "stream",
     "text": [
      "2\n"
     ]
    }
   ],
   "source": [
    "import module\n",
    "courses = ['art', 'history', 'math', 'physics']\n",
    "\n",
    "index = module.find_index(courses, 'math')\n",
    "\n",
    "print(index)"
   ]
  },
  {
   "cell_type": "markdown",
   "id": "0d11f073",
   "metadata": {},
   "source": [
    "Let's make it shorter by giving a short name for the module:"
   ]
  },
  {
   "cell_type": "code",
   "execution_count": 119,
   "id": "92655114",
   "metadata": {},
   "outputs": [
    {
     "name": "stdout",
     "output_type": "stream",
     "text": [
      "2\n"
     ]
    }
   ],
   "source": [
    "import module as mm\n",
    "courses = ['art', 'history', 'math', 'physics']\n",
    "\n",
    "index = mm.find_index(courses, 'math')\n",
    "\n",
    "print(index)"
   ]
  },
  {
   "cell_type": "markdown",
   "id": "5fcbd039",
   "metadata": {},
   "source": [
    "We can also import only one function from the module and use it directly."
   ]
  },
  {
   "cell_type": "code",
   "execution_count": 120,
   "id": "0e7b7579",
   "metadata": {},
   "outputs": [
    {
     "name": "stdout",
     "output_type": "stream",
     "text": [
      "2\n"
     ]
    }
   ],
   "source": [
    "from module import find_index\n",
    "courses = ['art', 'history', 'math', 'physics']\n",
    "\n",
    "index = find_index(courses, 'math')\n",
    "\n",
    "print(index)"
   ]
  },
  {
   "cell_type": "markdown",
   "id": "c324c32c",
   "metadata": {},
   "source": [
    "If we want to import multiple items from the module, try:  "
   ]
  },
  {
   "cell_type": "code",
   "execution_count": 122,
   "id": "639c626d",
   "metadata": {},
   "outputs": [
    {
     "name": "stdout",
     "output_type": "stream",
     "text": [
      "Test string\n"
     ]
    }
   ],
   "source": [
    "from module import find_index, Test\n",
    "courses = ['art', 'history', 'math', 'physics']\n",
    "\n",
    "index = find_index(courses, 'math')\n",
    "\n",
    "print(Test)"
   ]
  },
  {
   "cell_type": "markdown",
   "id": "d98bbde0",
   "metadata": {},
   "source": [
    "We can make it even shorter as follows: "
   ]
  },
  {
   "cell_type": "code",
   "execution_count": 123,
   "id": "97c14ba2",
   "metadata": {},
   "outputs": [
    {
     "name": "stdout",
     "output_type": "stream",
     "text": [
      "2\n"
     ]
    }
   ],
   "source": [
    "from module import find_index as fi, Test\n",
    "courses = ['art', 'history', 'math', 'physics']\n",
    "\n",
    "index = fi(courses, 'math')\n",
    "\n",
    "print(index)"
   ]
  },
  {
   "cell_type": "markdown",
   "id": "00590e3b",
   "metadata": {},
   "source": [
    "We can use `*` to import everything."
   ]
  },
  {
   "cell_type": "code",
   "execution_count": 124,
   "id": "15220399",
   "metadata": {},
   "outputs": [
    {
     "name": "stdout",
     "output_type": "stream",
     "text": [
      "2\n",
      "Test string\n"
     ]
    }
   ],
   "source": [
    "from module import *\n",
    "courses = ['art', 'history', 'math', 'physics']\n",
    "\n",
    "index = find_index(courses, 'math')\n",
    "\n",
    "print(index)\n",
    "print(Test)"
   ]
  },
  {
   "cell_type": "markdown",
   "id": "24ca7c25",
   "metadata": {},
   "source": [
    "But it is not a good way as now we do not know what did we import.  \n",
    "When we import a module, it checks in sys.path, we can see this list by importing the `sys` module ```import sys```. You will see that it searches in your directory, in the python environment and in the python library.  \n",
    "If the module was in another directory e,g, Downloads, it will give an error. We can add the new directory to `sys.path` to avoid that.  "
   ]
  },
  {
   "cell_type": "code",
   "execution_count": 126,
   "id": "9c46c08d",
   "metadata": {},
   "outputs": [
    {
     "name": "stdout",
     "output_type": "stream",
     "text": [
      "2\n",
      "Test string\n"
     ]
    }
   ],
   "source": [
    "import sys\n",
    "sys.path.append('/Users/mohamednoureldein/Downloads')\n",
    "\n",
    "from module import *\n",
    "courses = ['art', 'history', 'math', 'physics']\n",
    "\n",
    "\n",
    "\n",
    "index = find_index(courses, 'math')\n",
    "\n",
    "print(index)\n",
    "print(Test)"
   ]
  },
  {
   "cell_type": "markdown",
   "id": "93849173",
   "metadata": {},
   "source": [
    "This is not a good strategy. Better is to put the module in the python directory.  \n",
    "Go to `terminal`, type ```nano ~/.bash_profile```. At the end of the file, add ```export PYTHONPATH=\"/Users/mohamednoureldein/Downloads\". press `ctrl+x`, `y` then `enter`.  \n",
    "Let's try one of the modules in the library. We will try the `random` module which gives a random value.  "
   ]
  },
  {
   "cell_type": "code",
   "execution_count": 127,
   "id": "5e3b6a44",
   "metadata": {},
   "outputs": [
    {
     "name": "stdout",
     "output_type": "stream",
     "text": [
      "physics\n"
     ]
    }
   ],
   "source": [
    "import random\n",
    "\n",
    "courses = ['art', 'history', 'math', 'physics']\n",
    "\n",
    "random_course = random.choice(courses)\n",
    "\n",
    "print(random_course)"
   ]
  },
  {
   "cell_type": "markdown",
   "id": "efbd2a4a",
   "metadata": {},
   "source": [
    "Other useful modules are `math` for mathematical calculations e.g.  "
   ]
  },
  {
   "cell_type": "code",
   "execution_count": 128,
   "id": "0a37dd27",
   "metadata": {},
   "outputs": [
    {
     "name": "stdout",
     "output_type": "stream",
     "text": [
      "1.5707963267948966\n"
     ]
    }
   ],
   "source": [
    "import math\n",
    "rad = math.radians(90)\n",
    "print(rad)"
   ]
  },
  {
   "cell_type": "markdown",
   "id": "7ee9075e",
   "metadata": {},
   "source": [
    "which is calculating the value of 90 degrees in radians. It also has trignometric functions e.g. `sin`,..etc.  \n",
    "Another module is `datetime` which works with dates and times and `calender` module. "
   ]
  },
  {
   "cell_type": "code",
   "execution_count": 129,
   "id": "c06b1bc5",
   "metadata": {},
   "outputs": [
    {
     "name": "stdout",
     "output_type": "stream",
     "text": [
      "2022-08-05\n",
      "False\n"
     ]
    }
   ],
   "source": [
    "import datetime\n",
    "import calendar\n",
    "\n",
    "today = datetime.date.today()\n",
    "print(today)\n",
    "print(calendar.isleap(2018))"
   ]
  },
  {
   "cell_type": "markdown",
   "id": "801c5f95",
   "metadata": {},
   "source": [
    "Another module is `os` module which is used to get current working directory as follows: "
   ]
  },
  {
   "cell_type": "code",
   "execution_count": 131,
   "id": "d4010873",
   "metadata": {},
   "outputs": [
    {
     "name": "stdout",
     "output_type": "stream",
     "text": [
      "/Users/mohamednoureldein\n"
     ]
    }
   ],
   "source": [
    "import os\n",
    "print(os.getcwd())"
   ]
  },
  {
   "cell_type": "markdown",
   "id": "9eb55d5f",
   "metadata": {},
   "source": [
    "It is also used to create files, delete files,..etc.  \n",
    "Modules are also `.py` files and you can get their location as follows: "
   ]
  },
  {
   "cell_type": "code",
   "execution_count": 132,
   "id": "8bf461d8",
   "metadata": {},
   "outputs": [
    {
     "name": "stdout",
     "output_type": "stream",
     "text": [
      "/Users/mohamednoureldein/opt/miniconda3/lib/python3.8/os.py\n"
     ]
    }
   ],
   "source": [
    "import os\n",
    "print(os.__file__)"
   ]
  },
  {
   "cell_type": "markdown",
   "id": "ab819100",
   "metadata": {},
   "source": [
    "It prints the location of the file.  "
   ]
  }
 ],
 "metadata": {
  "kernelspec": {
   "display_name": "Python 3 (ipykernel)",
   "language": "python",
   "name": "python3"
  },
  "language_info": {
   "codemirror_mode": {
    "name": "ipython",
    "version": 3
   },
   "file_extension": ".py",
   "mimetype": "text/x-python",
   "name": "python",
   "nbconvert_exporter": "python",
   "pygments_lexer": "ipython3",
   "version": "3.8.5"
  }
 },
 "nbformat": 4,
 "nbformat_minor": 5
}
