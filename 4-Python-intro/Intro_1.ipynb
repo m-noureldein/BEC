{
 "cells": [
  {
   "cell_type": "markdown",
   "id": "bfbd56b5",
   "metadata": {},
   "source": [
    "# Introduction to Python \n",
    "\n",
    "## Python Tutorial for Beginners 1: Install and Setup for Mac and Windows\n",
    "link: <https://www.youtube.com/watch?v=YYXdXT2l-Gg>"
   ]
  },
  {
   "cell_type": "code",
   "execution_count": 2,
   "id": "d65dc080",
   "metadata": {},
   "outputs": [
    {
     "name": "stdout",
     "output_type": "stream",
     "text": [
      "Python 3.8.5\r\n"
     ]
    }
   ],
   "source": [
    "#check your python version on mac\n",
    "\n",
    "!python --version"
   ]
  },
  {
   "cell_type": "markdown",
   "id": "70911203",
   "metadata": {},
   "source": [
    "# Install Python\n",
    "go to <https://www.python.org/downloads/> and install the respective pkg"
   ]
  },
  {
   "cell_type": "markdown",
   "id": "d6b82893",
   "metadata": {},
   "source": [
    "# optional-create an alias for python3 to be python\n",
    "\n",
    "```nano ~/.bash_profile```\n",
    "\n",
    "# in the bottom of the opened file, type:\n",
    "\n",
    "```alias python=python3```\n",
    "\n",
    "close nano : ```ctrl+x```, ```y```, ```enter```\n",
    "\n",
    "open python in terminal, type:\n",
    "\n",
    "```python```"
   ]
  },
  {
   "cell_type": "code",
   "execution_count": 4,
   "id": "08ddeecc",
   "metadata": {},
   "outputs": [
    {
     "name": "stdout",
     "output_type": "stream",
     "text": [
      "Hello World!\n",
      "10\n"
     ]
    }
   ],
   "source": [
    "#test it by typing the following commands:\n",
    "\n",
    "print('Hello World!')\n",
    "x=10\n",
    "print(x)"
   ]
  },
  {
   "cell_type": "markdown",
   "id": "99d87745",
   "metadata": {},
   "source": [
    "It isn’t a good idea to run python in the command line as it allows for typing only one line at a time, instead run the IDLE application from the python installed folder then create a new file, type:\n",
    "\n",
    "```print('Hello World!')```\n",
    "\n",
    "and save it as `intro.py` on the Desktop\n",
    "\n",
    "run the program from the command line by typing:\n",
    "\n",
    "```python Desktop/intro.py```"
   ]
  },
  {
   "cell_type": "markdown",
   "id": "e5577a97",
   "metadata": {},
   "source": [
    "## Setting up a Python Development Environment in Sublime Text\n",
    "link: <https://www.youtube.com/watch?v=xFciV6Ew5r4>"
   ]
  },
  {
   "cell_type": "markdown",
   "id": "b9fb7c2b",
   "metadata": {},
   "source": [
    "go to <https://www.sublimetext.com>\n",
    "download and install `sublime text`\n",
    "\n",
    "open `intro.py` in sublime text\n",
    "run the code by selecting tools -> build\n",
    "\n",
    "customize sublime\n",
    "install palette control\n",
    "go to tools -> command palette -> type install -> select install package control\n",
    "\n",
    "now we want to install new packages\n",
    "\n",
    "go to tools -> command palette -> type install -> select install package\n",
    "\n",
    "choose “Predawn”\n",
    "\n",
    "do the same and install “Material Theme”\n",
    "\n",
    "these are good colors and themes to work with\n",
    "\n",
    "go to <https://github.com/CoreyMSchafer/dotfiles/blob/master/settings/Preferences.sublime-settings>\n",
    "\n",
    "copy the code \n",
    "```\n",
    "{\n",
    "\t    \"bold_folder_labels\": true,\n",
    "\t    \"caret_extra_width\": 1,\n",
    "\t    \"caret_style\": \"phase\",\n",
    "\t    \"close_windows_when_empty\": false,\n",
    "\t    \"color_scheme\": \"Packages/Predawn/predawn.tmTheme\",\n",
    "\t    \"copy_with_empty_selection\": false,\n",
    "\t    \"drag_text\": false,\n",
    "\t    \"draw_minimap_border\": true,\n",
    "\t    \"draw_white_space\": \"none\",\n",
    "\t    \"enable_tab_scrolling\": false,\n",
    "\t    \"ensure_newline_at_eof_on_save\": true,\n",
    "\t    \"file_exclude_patterns\":\n",
    "\t    [\n",
    "\t        \"*.pyc\",\n",
    "\t        \"*.pyo\",\n",
    "\t        \"*.exe\",\n",
    "\t        \"*.dll\",\n",
    "\t        \"*.obj\",\n",
    "\t        \"*.o\",\n",
    "\t        \"*.a\",\n",
    "\t        \"*.lib\",\n",
    "\t        \"*.so\",\n",
    "\t        \"*.dylib\",\n",
    "\t        \"*.ncb\",\n",
    "\t        \"*.sdf\",\n",
    "\t        \"*.suo\",\n",
    "\t        \"*.pdb\",\n",
    "\t        \"*.idb\",\n",
    "\t        \".DS_Store\",\n",
    "\t        \"*.class\",\n",
    "\t        \"*.psd\",\n",
    "\t        \"*.sublime-workspace\"\n",
    "\t    ],\n",
    "\t    \"font_face\": \"Source Code Pro\",\n",
    "\t    \"font_options\":\n",
    "\t    [\n",
    "\t        \"no_round\"\n",
    "\t    ],\n",
    "\t    \"font_size\": 20,\n",
    "\t    \"highlight_line\": true,\n",
    "\t    \"highlight_modified_tabs\": true,\n",
    "\t    \"ignored_packages\":\n",
    "\t    [\n",
    "\t        \"ActionScript\",\n",
    "\t        \"AppleScript\",\n",
    "\t        \"ASP\",\n",
    "\t        \"D\",\n",
    "\t        \"Diff\",\n",
    "\t        \"Erlang\",\n",
    "\t        \"Graphviz\",\n",
    "\t        \"Groovy\",\n",
    "\t        \"HTML-CSS-JS Prettify\",\n",
    "\t        \"Lisp\",\n",
    "\t        \"Lua\",\n",
    "\t        \"Objective-C\",\n",
    "\t        \"OCaml\",\n",
    "\t        \"Rails\",\n",
    "\t        \"Ruby\",\n",
    "\t        \"Vintage\"\n",
    "\t    ],\n",
    "\t    \"installed_packages\":[\n",
    "\t        \"Anaconda\",\n",
    "\t        \"BracketHighlighter\",\n",
    "\t        \"Material Theme\",\n",
    "\t        \"Predawn\",\n",
    "\t        \"SideBarEnhancements\"\n",
    "\t    ],\n",
    "\t    \"line_padding_bottom\": 1,\n",
    "\t    \"line_padding_top\": 1,\n",
    "\t    \"match_brackets_content\": false,\n",
    "\t    \"match_selection\": false,\n",
    "\t    \"match_tags\": false,\n",
    "\t    \"material_theme_accent_graphite\": true,\n",
    "\t    \"material_theme_compact_sidebar\": true,\n",
    "\t    \"mini_diff\": false,\n",
    "\t    \"open_files_in_new_window\": false,\n",
    "\t    \"overlay_scroll_bars\": \"enabled\",\n",
    "\t    \"preview_on_click\": false,\n",
    "\t    \"scroll_past_end\": true,\n",
    "\t    \"scroll_speed\": 5.0,\n",
    "\t    \"show_definitions\": false,\n",
    "\t    \"show_encoding\": true,\n",
    "\t    \"show_errors_inline\": false,\n",
    "\t    \"show_full_path\": false,\n",
    "\t    \"sidebar_default\": true,\n",
    "\t    \"swallow_startup_errors\": true,\n",
    "\t    \"theme\": \"Material-Theme-Darker.sublime-theme\",\n",
    "\t    \"translate_tabs_to_spaces\": true,\n",
    "\t    \"trim_trailing_white_space_on_save\": true,\n",
    "\t    \"use_simple_full_screen\": true,\n",
    "\t    \"word_wrap\": false\n",
    "\t}\n",
    "```"
   ]
  },
  {
   "cell_type": "markdown",
   "id": "a6306931",
   "metadata": {},
   "source": [
    "go to sublime\n",
    "\n",
    "sublime text -> preferences -> settings\n",
    "\n",
    "on the left we have default settings and on the right we have the user settings\n",
    "\n",
    "go to the window on the right, erase everything and paster what you have copied\n",
    "\n",
    "press ```cmd+S``` to save\n",
    "\n",
    "restart sublime text\n",
    "\n",
    "install more packages\n",
    "\n",
    "\n",
    "go to tools -> command palette -> type install -> select install package\n",
    "\n",
    "install (bracket highlighter), (sidebarenhancer) (anaconda)\n",
    "\n",
    "now let’s customize anaconda,\n",
    "\n",
    "go to <https://github.com/CoreyMSchafer/dotfiles/blob/master/settings/Anaconda.sublime-settings>\n",
    "\n",
    "copy the code\n",
    "```\n",
    "{\n",
    "\t    \"auto_formatting\": true,\n",
    "\t    \"autoformat_ignore\":\n",
    "\t    [\n",
    "\t    ],\n",
    "\t    \"pep8_ignore\":\n",
    "\t    [\n",
    "\t        \"E501\"\n",
    "\t    ],\n",
    "\t    \"anaconda_linter_underlines\": false,\n",
    "\t    \"anaconda_linter_mark_style\": \"none\",\n",
    "\t    \"display_signatures\": false,\n",
    "\t    \"disable_anaconda_completion\": true,\n",
    "\t    \"python_interpreter\": \"/usr/local/bin/python3\"\n",
    "\t}\n",
    "```"
   ]
  },
  {
   "cell_type": "markdown",
   "id": "44e9f31f",
   "metadata": {},
   "source": [
    "Go to sublime text -> preferences -> package settings -> anaconda -> settings -user\n",
    "\n",
    "Paste the code, save ```cmd+S```\n",
    "\n",
    "For the build systems, copy\n",
    "```\n",
    "{\n",
    "\t    \"cmd\": [\"/usr/local/bin/python3\", \"-u\", \"$file\"],\n",
    "\t    \"file_regex\": \"^[ ]*File \\\"(...*?)\\\", line ([0-9]*)\",\n",
    "\t    \"quiet\": true\n",
    "\t}\n",
    "```\n",
    "Go to tools -> Build system -> new build system, paste the code\n",
    "Save as .systembuild file"
   ]
  },
  {
   "cell_type": "code",
   "execution_count": 6,
   "id": "52d423c5",
   "metadata": {},
   "outputs": [
    {
     "name": "stdout",
     "output_type": "stream",
     "text": [
      "/Users/mohamednoureldein/opt/miniconda3/bin/python\n",
      "3.8.5 (default, Sep  4 2020, 02:22:02) \n",
      "[Clang 10.0.0 ]\n",
      "1\n",
      "2\n",
      "3\n",
      "4\n"
     ]
    }
   ],
   "source": [
    "# Test your build, by typing in the sublime text new file\n",
    "\n",
    "import sys\n",
    "print(sys.executable)\n",
    "print(sys.version)\n",
    "\n",
    "for num in [1, 2, 3, 4]:\n",
    "    print(num)"
   ]
  },
  {
   "cell_type": "markdown",
   "id": "b764db2b",
   "metadata": {},
   "source": [
    "press ```cmd+B``` to run the code\n",
    "\n",
    "you can remove package by\n",
    "tools -> command palette -> type “remove package”"
   ]
  },
  {
   "cell_type": "markdown",
   "id": "27d106cd",
   "metadata": {},
   "source": [
    "Another python coding environment is supplied by 'VisualStudio'"
   ]
  },
  {
   "cell_type": "markdown",
   "id": "d3b3e5bf",
   "metadata": {},
   "source": [
    "## Bioinformatics in Python: Development Tools Setup\n",
    "link:<https://www.youtube.com/watch?v=81Eb_YXmV4g>\n",
    "  \n",
    "go to <https://code.visualstudio.com/docs/?dv=osx>, download and install VSCode. \n",
    "In the welcome screen, go to the left bottom icon in the side bar (cubes) and install `python`, `code runner`, `bracket highlighter`, `highlight line`, `trailing spaces`, `VScode great icons` extensions.  \n",
    "Create a new file file -> new -> call it test.py, type ```print(\"Hello\")```, press `ctrl+alt+N` to run it.  \n",
    "Let's configure the `settings`, from the left bottom, choose the gear icon -> settings, change `auto-save` option to `OnFocusChange`. In the settings search bar, type `format`, check the boxes for `format on save`, `format on paste`, `format on type`."
   ]
  },
  {
   "cell_type": "markdown",
   "id": "6ad26e6b",
   "metadata": {},
   "source": [
    "# Jupyter Notebook\n",
    "If you prefer to work in a jupyter notebook (like this one!), go to mac terminal, type:\n",
    "    'pip install jupyter notebook' to install it\n",
    "    'jupyter notebook' to launch a jupyter notebook in your browser"
   ]
  }
 ],
 "metadata": {
  "kernelspec": {
   "display_name": "Python 3 (ipykernel)",
   "language": "python",
   "name": "python3"
  },
  "language_info": {
   "codemirror_mode": {
    "name": "ipython",
    "version": 3
   },
   "file_extension": ".py",
   "mimetype": "text/x-python",
   "name": "python",
   "nbconvert_exporter": "python",
   "pygments_lexer": "ipython3",
   "version": "3.8.5"
  }
 },
 "nbformat": 4,
 "nbformat_minor": 5
}
