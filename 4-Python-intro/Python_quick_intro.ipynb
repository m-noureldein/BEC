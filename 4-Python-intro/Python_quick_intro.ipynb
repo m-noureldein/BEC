{
 "cells": [
  {
   "cell_type": "markdown",
   "id": "a4abc8a6",
   "metadata": {},
   "source": [
    "# Introduction to Python\n",
    "Based on \"Matthes, Eric, Python Crash Course: a hands-on, project-based introduction to programming (2016). No Starch press.\""
   ]
  },
  {
   "cell_type": "code",
   "execution_count": null,
   "id": "d538874b",
   "metadata": {},
   "outputs": [],
   "source": [
    "# Write a program in python3\n",
    "print(\"Hello World!\")"
   ]
  },
  {
   "cell_type": "code",
   "execution_count": 2,
   "id": "8a82bd4c",
   "metadata": {},
   "outputs": [
    {
     "name": "stdout",
     "output_type": "stream",
     "text": [
      "Hello Python world!\n"
     ]
    }
   ],
   "source": [
    "# Use variables\n",
    "message= \"Hello Python world!\"\n",
    "print(message)"
   ]
  },
  {
   "cell_type": "code",
   "execution_count": 4,
   "id": "e36ee361",
   "metadata": {},
   "outputs": [],
   "source": [
    "# Variables can contain letters, underscores and numbers but shouldn't start with a number\n",
    "# Variable names are not case-sensitive"
   ]
  },
  {
   "cell_type": "code",
   "execution_count": 5,
   "id": "cf88f73f",
   "metadata": {},
   "outputs": [
    {
     "ename": "NameError",
     "evalue": "name 'mesage' is not defined",
     "output_type": "error",
     "traceback": [
      "\u001b[0;31m---------------------------------------------------------------------------\u001b[0m",
      "\u001b[0;31mNameError\u001b[0m                                 Traceback (most recent call last)",
      "\u001b[0;32m<ipython-input-5-cbb1eda15fa5>\u001b[0m in \u001b[0;36m<module>\u001b[0;34m\u001b[0m\n\u001b[1;32m      1\u001b[0m \u001b[0mmessage\u001b[0m\u001b[0;34m=\u001b[0m\u001b[0;34m\"Hello Python world!\"\u001b[0m\u001b[0;34m\u001b[0m\u001b[0;34m\u001b[0m\u001b[0m\n\u001b[0;32m----> 2\u001b[0;31m \u001b[0mprint\u001b[0m\u001b[0;34m(\u001b[0m\u001b[0mmesage\u001b[0m\u001b[0;34m)\u001b[0m\u001b[0;34m\u001b[0m\u001b[0;34m\u001b[0m\u001b[0m\n\u001b[0m",
      "\u001b[0;31mNameError\u001b[0m: name 'mesage' is not defined"
     ]
    }
   ],
   "source": [
    "# Inspect the error message and try to figure out when the following code went wrong\n",
    "message=\"Hello Python world!\"\n",
    "print(mesage)"
   ]
  },
  {
   "cell_type": "code",
   "execution_count": 7,
   "id": "4f625874",
   "metadata": {},
   "outputs": [
    {
     "name": "stdout",
     "output_type": "stream",
     "text": [
      "Ada Lovelace\n"
     ]
    }
   ],
   "source": [
    "# Use strings\n",
    "# Change case of a string\n",
    "name=\"ada lovelace\"\n",
    "print(name.title())\n",
    "#'title()' is a python method. Method is ab action that python can perform on a piece of data"
   ]
  },
  {
   "cell_type": "code",
   "execution_count": 8,
   "id": "95e938a6",
   "metadata": {},
   "outputs": [
    {
     "name": "stdout",
     "output_type": "stream",
     "text": [
      "ADA LOVELACE\n",
      "ada lovelace\n"
     ]
    }
   ],
   "source": [
    "name=\"Ada Lovelace\"\n",
    "print(name.upper())\n",
    "print(name.lower())"
   ]
  },
  {
   "cell_type": "code",
   "execution_count": 9,
   "id": "1a237383",
   "metadata": {},
   "outputs": [
    {
     "name": "stdout",
     "output_type": "stream",
     "text": [
      "ada lovelace\n"
     ]
    }
   ],
   "source": [
    "# Combining or Concatenating strings\n",
    "first_name=\"ada\"\n",
    "last_name=\"lovelace\"\n",
    "full_name= first_name+\" \"+last_name\n",
    "\n",
    "print(full_name)"
   ]
  },
  {
   "cell_type": "code",
   "execution_count": 10,
   "id": "a0c8a95f",
   "metadata": {},
   "outputs": [
    {
     "name": "stdout",
     "output_type": "stream",
     "text": [
      "Hello, Ada Lovelace!\n"
     ]
    }
   ],
   "source": [
    "# Concatenate with the \"print\" command\n",
    "print(\"Hello, \"+full_name.title()+\"!\")"
   ]
  },
  {
   "cell_type": "code",
   "execution_count": 11,
   "id": "a03a40ae",
   "metadata": {},
   "outputs": [
    {
     "name": "stdout",
     "output_type": "stream",
     "text": [
      "Hello, Ada Lovelace!\n"
     ]
    }
   ],
   "source": [
    "# concatenate in a variable\n",
    "message=\"Hello, \"+full_name.title()+\"!\"\n",
    "print(message)"
   ]
  },
  {
   "cell_type": "code",
   "execution_count": 17,
   "id": "1bace2f6",
   "metadata": {},
   "outputs": [
    {
     "name": "stdout",
     "output_type": "stream",
     "text": [
      "Python\n",
      "/tPython\n"
     ]
    }
   ],
   "source": [
    "# Add white space in front of a string using \"/t\"\n",
    "print(\"Python\")\n",
    "print(\"/tPython\")"
   ]
  },
  {
   "cell_type": "code",
   "execution_count": 18,
   "id": "be106f1b",
   "metadata": {},
   "outputs": [
    {
     "name": "stdout",
     "output_type": "stream",
     "text": [
      "Languages:/nPython/nC/nJavaScript\n"
     ]
    }
   ],
   "source": [
    "# Print on a new line using \"/n\"\n",
    "print(\"Languages:/nPython/nC/nJavaScript\")"
   ]
  },
  {
   "cell_type": "code",
   "execution_count": 19,
   "id": "42c112c0",
   "metadata": {},
   "outputs": [
    {
     "name": "stdout",
     "output_type": "stream",
     "text": [
      "Languages:/n/tPython/n/tC/n/tJavaScript\n"
     ]
    }
   ],
   "source": [
    "print(\"Languages:/n/tPython/n/tC/n/tJavaScript\")"
   ]
  },
  {
   "cell_type": "code",
   "execution_count": 24,
   "id": "6b9ed601",
   "metadata": {},
   "outputs": [
    {
     "data": {
      "text/plain": [
       "'python '"
      ]
     },
     "execution_count": 24,
     "metadata": {},
     "output_type": "execute_result"
    }
   ],
   "source": [
    "# Remove spaces at the end using \"rstrip()\" method\"\n",
    "favorite_language=\"python \"\n",
    "favorite_language"
   ]
  },
  {
   "cell_type": "code",
   "execution_count": 23,
   "id": "ecb8a7cb",
   "metadata": {},
   "outputs": [
    {
     "data": {
      "text/plain": [
       "'python'"
      ]
     },
     "execution_count": 23,
     "metadata": {},
     "output_type": "execute_result"
    }
   ],
   "source": [
    "favorite_language.rstrip()"
   ]
  },
  {
   "cell_type": "code",
   "execution_count": 25,
   "id": "5298dec7",
   "metadata": {},
   "outputs": [
    {
     "data": {
      "text/plain": [
       "'Python '"
      ]
     },
     "execution_count": 25,
     "metadata": {},
     "output_type": "execute_result"
    }
   ],
   "source": [
    "# Remove space at the beginning using \"lstrip()\" method\n",
    "favorite_language=\" Python \"\n",
    "favorite_language.lstrip()"
   ]
  },
  {
   "cell_type": "code",
   "execution_count": 26,
   "id": "e681a400",
   "metadata": {},
   "outputs": [
    {
     "data": {
      "text/plain": [
       "'Python'"
      ]
     },
     "execution_count": 26,
     "metadata": {},
     "output_type": "execute_result"
    }
   ],
   "source": [
    "# Remove spaces at the beginning and end using \"strip()\" method\n",
    "favorite_language.strip()"
   ]
  },
  {
   "cell_type": "code",
   "execution_count": 27,
   "id": "db89349d",
   "metadata": {},
   "outputs": [],
   "source": [
    "# It's better to use double quote to avoid errors with apostrophes"
   ]
  },
  {
   "cell_type": "code",
   "execution_count": 29,
   "id": "b09bb018",
   "metadata": {},
   "outputs": [
    {
     "data": {
      "text/plain": [
       "0.6666666666666666"
      ]
     },
     "execution_count": 29,
     "metadata": {},
     "output_type": "execute_result"
    }
   ],
   "source": [
    "# Numbers\n",
    "# Basic arithmatic operations\n",
    "2+3"
   ]
  },
  {
   "cell_type": "code",
   "execution_count": 30,
   "id": "3c201c1c",
   "metadata": {},
   "outputs": [
    {
     "data": {
      "text/plain": [
       "1"
      ]
     },
     "execution_count": 30,
     "metadata": {},
     "output_type": "execute_result"
    }
   ],
   "source": [
    "3-2"
   ]
  },
  {
   "cell_type": "code",
   "execution_count": 31,
   "id": "fff44cad",
   "metadata": {},
   "outputs": [
    {
     "data": {
      "text/plain": [
       "6"
      ]
     },
     "execution_count": 31,
     "metadata": {},
     "output_type": "execute_result"
    }
   ],
   "source": [
    "2*3"
   ]
  },
  {
   "cell_type": "code",
   "execution_count": 32,
   "id": "c6c9cc04",
   "metadata": {},
   "outputs": [
    {
     "data": {
      "text/plain": [
       "0.6666666666666666"
      ]
     },
     "execution_count": 32,
     "metadata": {},
     "output_type": "execute_result"
    }
   ],
   "source": [
    "2/3"
   ]
  },
  {
   "cell_type": "code",
   "execution_count": 33,
   "id": "4a3f8e58",
   "metadata": {},
   "outputs": [
    {
     "data": {
      "text/plain": [
       "9"
      ]
     },
     "execution_count": 33,
     "metadata": {},
     "output_type": "execute_result"
    }
   ],
   "source": [
    "# Powers using \"**\"\n",
    "3**2"
   ]
  },
  {
   "cell_type": "code",
   "execution_count": 34,
   "id": "ec0ae430",
   "metadata": {},
   "outputs": [
    {
     "data": {
      "text/plain": [
       "14"
      ]
     },
     "execution_count": 34,
     "metadata": {},
     "output_type": "execute_result"
    }
   ],
   "source": [
    "2+3*4"
   ]
  },
  {
   "cell_type": "code",
   "execution_count": 35,
   "id": "a7549081",
   "metadata": {},
   "outputs": [
    {
     "data": {
      "text/plain": [
       "20"
      ]
     },
     "execution_count": 35,
     "metadata": {},
     "output_type": "execute_result"
    }
   ],
   "source": [
    "(2+3)*4"
   ]
  },
  {
   "cell_type": "code",
   "execution_count": 36,
   "id": "c2b08e4a",
   "metadata": {},
   "outputs": [
    {
     "data": {
      "text/plain": [
       "0.30000000000000004"
      ]
     },
     "execution_count": 36,
     "metadata": {},
     "output_type": "execute_result"
    }
   ],
   "source": [
    "# Getting some extra decimals --> just ignore them for now\n",
    "0.2+0.1"
   ]
  },
  {
   "cell_type": "code",
   "execution_count": 37,
   "id": "e4cd1645",
   "metadata": {},
   "outputs": [
    {
     "ename": "TypeError",
     "evalue": "can only concatenate str (not \"int\") to str",
     "output_type": "error",
     "traceback": [
      "\u001b[0;31m---------------------------------------------------------------------------\u001b[0m",
      "\u001b[0;31mTypeError\u001b[0m                                 Traceback (most recent call last)",
      "\u001b[0;32m<ipython-input-37-2af010d96fa4>\u001b[0m in \u001b[0;36m<module>\u001b[0;34m\u001b[0m\n\u001b[1;32m      1\u001b[0m \u001b[0mage\u001b[0m\u001b[0;34m=\u001b[0m\u001b[0;36m23\u001b[0m\u001b[0;34m\u001b[0m\u001b[0;34m\u001b[0m\u001b[0m\n\u001b[0;32m----> 2\u001b[0;31m \u001b[0mprint\u001b[0m\u001b[0;34m(\u001b[0m\u001b[0;34m\"Happy\"\u001b[0m\u001b[0;34m+\u001b[0m\u001b[0mage\u001b[0m\u001b[0;34m+\u001b[0m\u001b[0;34m\"rd birthday\"\u001b[0m\u001b[0;34m)\u001b[0m\u001b[0;34m\u001b[0m\u001b[0;34m\u001b[0m\u001b[0m\n\u001b[0m",
      "\u001b[0;31mTypeError\u001b[0m: can only concatenate str (not \"int\") to str"
     ]
    }
   ],
   "source": [
    "# Error using numbers as strings\n",
    "age=23\n",
    "print(\"Happy\"+age+\"rd birthday\")"
   ]
  },
  {
   "cell_type": "code",
   "execution_count": 40,
   "id": "abcc1da2",
   "metadata": {},
   "outputs": [
    {
     "name": "stdout",
     "output_type": "stream",
     "text": [
      "Happy 23rd Birthday!\n"
     ]
    }
   ],
   "source": [
    "print(\"Happy \"+str(age)+\"rd Birthday!\")"
   ]
  },
  {
   "cell_type": "code",
   "execution_count": 41,
   "id": "9e333bee",
   "metadata": {},
   "outputs": [
    {
     "name": "stdout",
     "output_type": "stream",
     "text": [
      "The Zen of Python, by Tim Peters\n",
      "\n",
      "Beautiful is better than ugly.\n",
      "Explicit is better than implicit.\n",
      "Simple is better than complex.\n",
      "Complex is better than complicated.\n",
      "Flat is better than nested.\n",
      "Sparse is better than dense.\n",
      "Readability counts.\n",
      "Special cases aren't special enough to break the rules.\n",
      "Although practicality beats purity.\n",
      "Errors should never pass silently.\n",
      "Unless explicitly silenced.\n",
      "In the face of ambiguity, refuse the temptation to guess.\n",
      "There should be one-- and preferably only one --obvious way to do it.\n",
      "Although that way may not be obvious at first unless you're Dutch.\n",
      "Now is better than never.\n",
      "Although never is often better than *right* now.\n",
      "If the implementation is hard to explain, it's a bad idea.\n",
      "If the implementation is easy to explain, it may be a good idea.\n",
      "Namespaces are one honking great idea -- let's do more of those!\n"
     ]
    }
   ],
   "source": [
    "# Review coding principles for Python\n",
    "import this"
   ]
  },
  {
   "cell_type": "code",
   "execution_count": 42,
   "id": "03cd5b92",
   "metadata": {},
   "outputs": [
    {
     "name": "stdout",
     "output_type": "stream",
     "text": [
      "['trek', 'cannondale', 'redline', 'specialized']\n"
     ]
    }
   ],
   "source": [
    "# Working with lists\n",
    "bicycles=['trek', 'cannondale', 'redline', 'specialized']\n",
    "print(bicycles)"
   ]
  },
  {
   "cell_type": "code",
   "execution_count": 43,
   "id": "9c2e8ae5",
   "metadata": {},
   "outputs": [
    {
     "name": "stdout",
     "output_type": "stream",
     "text": [
      "trek\n"
     ]
    }
   ],
   "source": [
    "# Indexing in Python lists- Hint: indexing starts with 0 not 1\n",
    "print(bicycles[0])"
   ]
  },
  {
   "cell_type": "code",
   "execution_count": 44,
   "id": "bb49a470",
   "metadata": {},
   "outputs": [
    {
     "name": "stdout",
     "output_type": "stream",
     "text": [
      "Trek\n"
     ]
    }
   ],
   "source": [
    "print(bicycles[0].title())"
   ]
  },
  {
   "cell_type": "code",
   "execution_count": 47,
   "id": "b5823328",
   "metadata": {},
   "outputs": [
    {
     "name": "stdout",
     "output_type": "stream",
     "text": [
      "specialized\n"
     ]
    }
   ],
   "source": [
    "# indexing from the end of the list using negative numbers\n",
    "print(bicycles[-1])"
   ]
  },
  {
   "cell_type": "code",
   "execution_count": 49,
   "id": "8b7391c9",
   "metadata": {},
   "outputs": [
    {
     "name": "stdout",
     "output_type": "stream",
     "text": [
      "My first bicycle was Trek.\n"
     ]
    }
   ],
   "source": [
    "# Use indexed list element in a comlex string\n",
    "message= \"My first bicycle was \"+bicycles[0].title()+\".\"\n",
    "print(message)"
   ]
  },
  {
   "cell_type": "code",
   "execution_count": 50,
   "id": "d90ee9d0",
   "metadata": {},
   "outputs": [
    {
     "name": "stdout",
     "output_type": "stream",
     "text": [
      "['honda', 'yamaha', 'suzuki']\n"
     ]
    }
   ],
   "source": [
    "# Change elements in a list\n",
    "motorcycles=['honda', 'yamaha', 'suzuki']\n",
    "print(motorcycles)"
   ]
  },
  {
   "cell_type": "code",
   "execution_count": 53,
   "id": "611175c8",
   "metadata": {},
   "outputs": [
    {
     "name": "stdout",
     "output_type": "stream",
     "text": [
      "['ducati', 'yamaha', 'suzuki']\n"
     ]
    }
   ],
   "source": [
    "motorcycles[0]='ducati'\n",
    "print(motorcycles)"
   ]
  },
  {
   "cell_type": "code",
   "execution_count": 54,
   "id": "e3c528fa",
   "metadata": {},
   "outputs": [
    {
     "name": "stdout",
     "output_type": "stream",
     "text": [
      "['ducati', 'yamaha', 'suzuki', 'honda']\n"
     ]
    }
   ],
   "source": [
    "# Append elements to a list\n",
    "motorcycles.append('honda')\n",
    "print(motorcycles)"
   ]
  },
  {
   "cell_type": "code",
   "execution_count": 2,
   "id": "d8df6e69",
   "metadata": {},
   "outputs": [
    {
     "name": "stdout",
     "output_type": "stream",
     "text": [
      "['ducati', 'honda', 'yamaha', 'suzuki']\n"
     ]
    }
   ],
   "source": [
    "# Construct lists with the 'append()' method only\n",
    "motorcycles=[]\n",
    "\n",
    "motorcycles.append('ducati')\n",
    "motorcycles.append('honda')\n",
    "motorcycles.append('yamaha')\n",
    "motorcycles.append('suzuki')\n",
    "\n",
    "print(motorcycles)"
   ]
  },
  {
   "cell_type": "code",
   "execution_count": 3,
   "id": "b2b61af4",
   "metadata": {},
   "outputs": [
    {
     "name": "stdout",
     "output_type": "stream",
     "text": [
      "['Tata', 'ducati', 'honda', 'yamaha', 'suzuki']\n"
     ]
    }
   ],
   "source": [
    "# Insert element in a specific position in the list\n",
    "motorcycles.insert(0, 'Tata')\n",
    "print(motorcycles)"
   ]
  },
  {
   "cell_type": "code",
   "execution_count": 5,
   "id": "65c1a6e4",
   "metadata": {},
   "outputs": [
    {
     "name": "stdout",
     "output_type": "stream",
     "text": [
      "['honda', 'yamaha', 'suzuki']\n"
     ]
    }
   ],
   "source": [
    "# Removing an item using 'del' statement\n",
    "del motorcycles[0]\n",
    "print(motorcycles)"
   ]
  },
  {
   "cell_type": "code",
   "execution_count": 6,
   "id": "e9f0d8f7",
   "metadata": {},
   "outputs": [
    {
     "name": "stdout",
     "output_type": "stream",
     "text": [
      "['honda', 'yamaha']\n"
     ]
    }
   ],
   "source": [
    "# Removing an item from a list using 'pop()' method which removes the last item in a list, but it lets you work with that item after removing it.\n",
    "popped_motorcycle = motorcycles.pop()\n",
    "print(motorcycles)"
   ]
  },
  {
   "cell_type": "code",
   "execution_count": 7,
   "id": "6ac116aa",
   "metadata": {},
   "outputs": [
    {
     "name": "stdout",
     "output_type": "stream",
     "text": [
      "suzuki\n"
     ]
    }
   ],
   "source": [
    "print(popped_motorcycle)"
   ]
  },
  {
   "cell_type": "code",
   "execution_count": 8,
   "id": "d4e28698",
   "metadata": {},
   "outputs": [
    {
     "name": "stdout",
     "output_type": "stream",
     "text": [
      "The last motorcycle I owned was a Suzuki.\n"
     ]
    }
   ],
   "source": [
    "print(\"The last motorcycle I owned was a \"+ popped_motorcycle.title()+ \".\")"
   ]
  },
  {
   "cell_type": "code",
   "execution_count": 10,
   "id": "7f72a642",
   "metadata": {},
   "outputs": [
    {
     "name": "stdout",
     "output_type": "stream",
     "text": [
      "The first motorcycle I owned is Honda.\n"
     ]
    }
   ],
   "source": [
    "# 'pop()' can remove any item from the list by assigning its index between the brackets\n",
    "motorcycles = ['honda', 'yamaha', 'suzuki']\n",
    "\n",
    "first_owned= motorcycles.pop(0)\n",
    "print('The first motorcycle I owned is '+first_owned.title()+'.')"
   ]
  },
  {
   "cell_type": "code",
   "execution_count": 11,
   "id": "d8cff007",
   "metadata": {},
   "outputs": [],
   "source": [
    "# The bottom line is that: when you want to delete an item from a list and not use that item in any way, use the 'del' statement; if you want to use an item as you remove it, use the 'pop()' method"
   ]
  },
  {
   "cell_type": "code",
   "execution_count": 12,
   "id": "e9790143",
   "metadata": {},
   "outputs": [
    {
     "name": "stdout",
     "output_type": "stream",
     "text": [
      "['honda', 'yamaha']\n"
     ]
    }
   ],
   "source": [
    "# If you want to delete an item from the list by its value, use 'remove()'\n",
    "motorcycles = ['honda', 'yamaha', 'suzuki']\n",
    "motorcycles.remove('suzuki')\n",
    "print(motorcycles)"
   ]
  },
  {
   "cell_type": "code",
   "execution_count": 13,
   "id": "5be22c0a",
   "metadata": {},
   "outputs": [
    {
     "name": "stdout",
     "output_type": "stream",
     "text": [
      "['audi', 'bmw', 'subaru', 'toyota']\n"
     ]
    }
   ],
   "source": [
    "# Sort PERMENANTLY a list using 'sort()'\n",
    "cars=['bmw', 'audi', 'toyota', 'subaru']\n",
    "cars.sort()\n",
    "print(cars)"
   ]
  },
  {
   "cell_type": "code",
   "execution_count": 15,
   "id": "f4e099f5",
   "metadata": {},
   "outputs": [
    {
     "name": "stdout",
     "output_type": "stream",
     "text": [
      "['toyota', 'subaru', 'bmw', 'audi']\n"
     ]
    }
   ],
   "source": [
    "# Sort in a reverse order using the 'reverse=True' argument\n",
    "cars.sort(reverse=True)\n",
    "print(cars)"
   ]
  },
  {
   "cell_type": "code",
   "execution_count": 16,
   "id": "dbd1ed63",
   "metadata": {},
   "outputs": [
    {
     "data": {
      "text/plain": [
       "4"
      ]
     },
     "execution_count": 16,
     "metadata": {},
     "output_type": "execute_result"
    }
   ],
   "source": [
    "# Get length using 'len()' function\n",
    "len(cars)"
   ]
  },
  {
   "cell_type": "code",
   "execution_count": 18,
   "id": "af98d85b",
   "metadata": {},
   "outputs": [
    {
     "name": "stdout",
     "output_type": "stream",
     "text": [
      "['audi', 'bmw', 'subaru', 'toyota']\n"
     ]
    }
   ],
   "source": [
    "# Temporarily print a sorted list using 'sorted()' function\n",
    "cars=['bmw', 'audi', 'toyota', 'subaru']\n",
    "print(sorted(cars))"
   ]
  },
  {
   "cell_type": "code",
   "execution_count": 20,
   "id": "79c2cdb5",
   "metadata": {},
   "outputs": [
    {
     "name": "stdout",
     "output_type": "stream",
     "text": [
      "Alice\n",
      "David\n",
      "Carolina\n"
     ]
    }
   ],
   "source": [
    "# Using loops on a list\n",
    "magicians=['Alice', 'david', 'carolina']\n",
    "\n",
    "for magician in magicians:\n",
    "    print(magician.title())"
   ]
  },
  {
   "cell_type": "code",
   "execution_count": 22,
   "id": "b69a1f7e",
   "metadata": {},
   "outputs": [
    {
     "name": "stdout",
     "output_type": "stream",
     "text": [
      "Alice, that was a great trick.\n",
      "David, that was a great trick.\n",
      "Carolina, that was a great trick.\n"
     ]
    }
   ],
   "source": [
    "magicians=['Alice', 'david', 'carolina']\n",
    "\n",
    "for magician in magicians:\n",
    "    print(magician.title()+ \", that was a great trick.\")"
   ]
  },
  {
   "cell_type": "code",
   "execution_count": 23,
   "id": "56351032",
   "metadata": {},
   "outputs": [
    {
     "name": "stdout",
     "output_type": "stream",
     "text": [
      "Alice, that was a great trick.\n",
      "David, that was a great trick.\n",
      "Carolina, that was a great trick.\n",
      "I can't wait to see your next trick.\n"
     ]
    }
   ],
   "source": [
    "magicians=['Alice', 'david', 'carolina']\n",
    "\n",
    "for magician in magicians:\n",
    "    print(magician.title()+ \", that was a great trick.\")\n",
    "print(\"I can't wait to see your next trick.\")"
   ]
  },
  {
   "cell_type": "code",
   "execution_count": 25,
   "id": "49771530",
   "metadata": {},
   "outputs": [
    {
     "name": "stdout",
     "output_type": "stream",
     "text": [
      "1\n",
      "2\n",
      "3\n",
      "4\n"
     ]
    }
   ],
   "source": [
    "# Create a numbers list using 'range()'\n",
    "for value in range(1,5):\n",
    "    print(value)"
   ]
  },
  {
   "cell_type": "code",
   "execution_count": 27,
   "id": "1f9ab91d",
   "metadata": {},
   "outputs": [],
   "source": [
    "# It doesn't print the last number in the list."
   ]
  },
  {
   "cell_type": "code",
   "execution_count": 28,
   "id": "5a46ae34",
   "metadata": {},
   "outputs": [
    {
     "name": "stdout",
     "output_type": "stream",
     "text": [
      "[1, 2, 3, 4]\n"
     ]
    }
   ],
   "source": [
    "number=list(range(1,5))\n",
    "print(number)"
   ]
  },
  {
   "cell_type": "code",
   "execution_count": 30,
   "id": "355741f8",
   "metadata": {},
   "outputs": [
    {
     "name": "stdout",
     "output_type": "stream",
     "text": [
      "[2, 4, 6, 8]\n"
     ]
    }
   ],
   "source": [
    "# Create a list of even numbers using the 3rd argument in the 'range' function\n",
    "# You have to start it by an even number\n",
    "even_number=list(range(2,10,2))\n",
    "print(even_number)"
   ]
  },
  {
   "cell_type": "code",
   "execution_count": 31,
   "id": "d8a4f5c3",
   "metadata": {},
   "outputs": [
    {
     "name": "stdout",
     "output_type": "stream",
     "text": [
      "[1, 4, 9, 16, 25, 36, 49, 64, 81, 100]\n"
     ]
    }
   ],
   "source": [
    "squares=[]\n",
    "for value in range(1,11):\n",
    "    square=value**2\n",
    "    squares.append(square)\n",
    "print(squares)"
   ]
  },
  {
   "cell_type": "code",
   "execution_count": 32,
   "id": "5035ef0b",
   "metadata": {},
   "outputs": [
    {
     "data": {
      "text/plain": [
       "1"
      ]
     },
     "execution_count": 32,
     "metadata": {},
     "output_type": "execute_result"
    }
   ],
   "source": [
    "# Perform functions on numbers lists\n",
    "min(squares)"
   ]
  },
  {
   "cell_type": "code",
   "execution_count": 33,
   "id": "d2022634",
   "metadata": {},
   "outputs": [
    {
     "data": {
      "text/plain": [
       "100"
      ]
     },
     "execution_count": 33,
     "metadata": {},
     "output_type": "execute_result"
    }
   ],
   "source": [
    "max(squares)"
   ]
  },
  {
   "cell_type": "code",
   "execution_count": 34,
   "id": "2a55598c",
   "metadata": {},
   "outputs": [
    {
     "data": {
      "text/plain": [
       "385"
      ]
     },
     "execution_count": 34,
     "metadata": {},
     "output_type": "execute_result"
    }
   ],
   "source": [
    "sum(squares)"
   ]
  },
  {
   "cell_type": "code",
   "execution_count": 35,
   "id": "063fec4b",
   "metadata": {},
   "outputs": [
    {
     "name": "stdout",
     "output_type": "stream",
     "text": [
      "[1, 4, 9, 16, 25, 36, 49, 64, 81, 100]\n"
     ]
    }
   ],
   "source": [
    "# List Comprehension\n",
    "squares2=[value**2 for value in range(1,11)]\n",
    "print(squares2)"
   ]
  },
  {
   "cell_type": "code",
   "execution_count": 36,
   "id": "cc4f31e9",
   "metadata": {},
   "outputs": [
    {
     "name": "stdout",
     "output_type": "stream",
     "text": [
      "['charles', 'martina', 'michael']\n"
     ]
    }
   ],
   "source": [
    "# Slicing a list\n",
    "players=['charles', 'martina', 'michael', 'florence', 'eli']\n",
    "print(players[0:3])"
   ]
  },
  {
   "cell_type": "code",
   "execution_count": 37,
   "id": "40d1de97",
   "metadata": {},
   "outputs": [
    {
     "name": "stdout",
     "output_type": "stream",
     "text": [
      "['charles', 'martina', 'michael']\n"
     ]
    }
   ],
   "source": [
    "# Without a starting index, python starts the list from the beginning\n",
    "print(players[:3])"
   ]
  },
  {
   "cell_type": "code",
   "execution_count": 38,
   "id": "98489699",
   "metadata": {},
   "outputs": [
    {
     "name": "stdout",
     "output_type": "stream",
     "text": [
      "['michael', 'florence', 'eli']\n"
     ]
    }
   ],
   "source": [
    "# Without an ending index, python runs till the end of the list\n",
    "print(players[2:])"
   ]
  },
  {
   "cell_type": "code",
   "execution_count": 39,
   "id": "b7ee149f",
   "metadata": {},
   "outputs": [
    {
     "name": "stdout",
     "output_type": "stream",
     "text": [
      "['michael', 'florence', 'eli']\n"
     ]
    }
   ],
   "source": [
    "# If you want to print the last 3 items\n",
    "print(players[-3:])"
   ]
  },
  {
   "cell_type": "code",
   "execution_count": 40,
   "id": "94eecc1a",
   "metadata": {},
   "outputs": [
    {
     "name": "stdout",
     "output_type": "stream",
     "text": [
      "Here are the first three players on my team:\n",
      "Charles\n",
      "Martina\n",
      "Michael\n"
     ]
    }
   ],
   "source": [
    "# Looping through a slice\n",
    "print(\"Here are the first three players on my team:\")\n",
    "for player in players[:3]:\n",
    "    print(player.title())"
   ]
  },
  {
   "cell_type": "code",
   "execution_count": 41,
   "id": "a7fb9690",
   "metadata": {},
   "outputs": [
    {
     "name": "stdout",
     "output_type": "stream",
     "text": [
      "['charles', 'martina', 'michael', 'florence', 'eli']\n"
     ]
    }
   ],
   "source": [
    "# Copy a list using [:]\n",
    "new_players=players[:]\n",
    "print(new_players)"
   ]
  },
  {
   "cell_type": "code",
   "execution_count": 42,
   "id": "c574b24d",
   "metadata": {},
   "outputs": [
    {
     "name": "stdout",
     "output_type": "stream",
     "text": [
      "(200, 50)\n"
     ]
    }
   ],
   "source": [
    "# Creating an immutable list that can't be changed aka a tuple\n",
    "dimensions=(200,50)\n",
    "print(dimensions[0:2])"
   ]
  },
  {
   "cell_type": "code",
   "execution_count": 43,
   "id": "d49535d0",
   "metadata": {},
   "outputs": [],
   "source": [
    "# You can't add or remove items from a tuple."
   ]
  },
  {
   "cell_type": "code",
   "execution_count": 44,
   "id": "8d649c05",
   "metadata": {},
   "outputs": [
    {
     "name": "stdout",
     "output_type": "stream",
     "text": [
      "Audi\n",
      "BMW\n",
      "Subaru\n",
      "Toyota\n"
     ]
    }
   ],
   "source": [
    "cars= ['audi', 'bmw', 'subaru', 'toyota']\n",
    "\n",
    "for car in cars:\n",
    "    if car == 'bmw':\n",
    "        print(car.upper())\n",
    "    else:\n",
    "        print(car.title())"
   ]
  },
  {
   "cell_type": "code",
   "execution_count": 45,
   "id": "15ac4ce5",
   "metadata": {},
   "outputs": [
    {
     "data": {
      "text/plain": [
       "True"
      ]
     },
     "execution_count": 45,
     "metadata": {},
     "output_type": "execute_result"
    }
   ],
   "source": [
    "# Check for equality\n",
    "car='bmw'\n",
    "car=='bmw'"
   ]
  },
  {
   "cell_type": "code",
   "execution_count": 46,
   "id": "e7f4f264",
   "metadata": {},
   "outputs": [
    {
     "data": {
      "text/plain": [
       "False"
      ]
     },
     "execution_count": 46,
     "metadata": {},
     "output_type": "execute_result"
    }
   ],
   "source": [
    "car=='toyota'"
   ]
  },
  {
   "cell_type": "code",
   "execution_count": 47,
   "id": "e5f40198",
   "metadata": {},
   "outputs": [
    {
     "data": {
      "text/plain": [
       "False"
      ]
     },
     "execution_count": 47,
     "metadata": {},
     "output_type": "execute_result"
    }
   ],
   "source": [
    "# Logical: Equality check is case-sensitive\n",
    "car=='BMW'"
   ]
  },
  {
   "cell_type": "code",
   "execution_count": 48,
   "id": "2860d39e",
   "metadata": {},
   "outputs": [
    {
     "data": {
      "text/plain": [
       "True"
      ]
     },
     "execution_count": 48,
     "metadata": {},
     "output_type": "execute_result"
    }
   ],
   "source": [
    "car.upper()==\"BMW\""
   ]
  },
  {
   "cell_type": "code",
   "execution_count": 49,
   "id": "6ce23113",
   "metadata": {},
   "outputs": [
    {
     "data": {
      "text/plain": [
       "'bmw'"
      ]
     },
     "execution_count": 49,
     "metadata": {},
     "output_type": "execute_result"
    }
   ],
   "source": [
    "car"
   ]
  },
  {
   "cell_type": "code",
   "execution_count": 51,
   "id": "1e83d492",
   "metadata": {},
   "outputs": [
    {
     "name": "stdout",
     "output_type": "stream",
     "text": [
      "Hold the anshovies!\n"
     ]
    }
   ],
   "source": [
    "requested_topping=\"mushroom\"\n",
    "\n",
    "if requested_topping != \"anshovies\":\n",
    "    print(\"Hold the anshovies!\")\n",
    "else:\n",
    "    print(\"Anshovies!\")"
   ]
  },
  {
   "cell_type": "code",
   "execution_count": 52,
   "id": "b92c5000",
   "metadata": {},
   "outputs": [
    {
     "data": {
      "text/plain": [
       "True"
      ]
     },
     "execution_count": 52,
     "metadata": {},
     "output_type": "execute_result"
    }
   ],
   "source": [
    "# Logical: Check if an item is in a list\n",
    "requested_toppings=['mushrooms', 'onions', 'pineapple']\n",
    "'mushrooms' in requested_toppings"
   ]
  },
  {
   "cell_type": "code",
   "execution_count": 53,
   "id": "787b5c7f",
   "metadata": {},
   "outputs": [
    {
     "name": "stdout",
     "output_type": "stream",
     "text": [
      "Marie, you can post a response if you want.\n"
     ]
    }
   ],
   "source": [
    "banned_users=['andrew', 'carolina', 'david']\n",
    "user='marie'\n",
    "\n",
    "if user not in banned_users:\n",
    "    print(user.title()+\", you can post a response if you want.\")"
   ]
  },
  {
   "cell_type": "code",
   "execution_count": 54,
   "id": "08df7a2e",
   "metadata": {},
   "outputs": [
    {
     "name": "stdout",
     "output_type": "stream",
     "text": [
      "You are too young to vote.\n"
     ]
    }
   ],
   "source": [
    "age=17\n",
    "\n",
    "if age>=18:\n",
    "    print(\"You are old enough to vote.\")\n",
    "else:\n",
    "    print(\"You are too young to vote.\")"
   ]
  },
  {
   "cell_type": "code",
   "execution_count": 55,
   "id": "2e631f29",
   "metadata": {},
   "outputs": [
    {
     "name": "stdout",
     "output_type": "stream",
     "text": [
      "Your admission cost is 5$\n"
     ]
    }
   ],
   "source": [
    "# if-elif-else chain \n",
    "age=12\n",
    "\n",
    "if age<4:\n",
    "    print(\"Your admission cost is 0$\")\n",
    "elif age<18:\n",
    "    print(\"Your admission cost is 5$\")\n",
    "else:\n",
    "    print(\"Your admission cost is 10$\")"
   ]
  },
  {
   "cell_type": "code",
   "execution_count": 57,
   "id": "835dc8ac",
   "metadata": {},
   "outputs": [
    {
     "name": "stdout",
     "output_type": "stream",
     "text": [
      "Your admission cost is 5$.\n"
     ]
    }
   ],
   "source": [
    "# Use a number in \"if\" statement\n",
    "\n",
    "age=12\n",
    "\n",
    "if age<4:\n",
    "    price=0\n",
    "elif age<18:\n",
    "    price=5\n",
    "else:\n",
    "    price=10\n",
    "print(\"Your admission cost is \"+str(price)+\"$.\")"
   ]
  },
  {
   "cell_type": "code",
   "execution_count": 58,
   "id": "5de28858",
   "metadata": {},
   "outputs": [
    {
     "name": "stdout",
     "output_type": "stream",
     "text": [
      "Adding mushrooms.\n",
      "Adding extra cheese.\n",
      "Finished making your pizza!\n"
     ]
    }
   ],
   "source": [
    "# The if-elif-else chain is powerful, but it can be only used when you just need one test to be passed. Otherwise use multiple \"if\" statements\n",
    "requested_toppings=['mushrooms', 'extra cheese']\n",
    "\n",
    "if 'mushrooms' in requested_toppings:\n",
    "    print(\"Adding mushrooms.\")\n",
    "if 'extra cheese' in requested_toppings:\n",
    "    print(\"Adding extra cheese.\")\n",
    "if \"pepproni\" in requested_toppings:\n",
    "    print(\"Adding pepproni.\")\n",
    "\n",
    "print(\"Finished making your pizza!\")\n"
   ]
  },
  {
   "cell_type": "code",
   "execution_count": 60,
   "id": "4094279b",
   "metadata": {},
   "outputs": [
    {
     "name": "stdout",
     "output_type": "stream",
     "text": [
      "Adding mushrooms.\n",
      "There is no green peppers.\n",
      "Adding extra cheese.\n",
      "Finished making your pizza!\n"
     ]
    }
   ],
   "source": [
    "requested_toppings=['mushrooms', 'green peppers', 'extra cheese']\n",
    "\n",
    "for topping in requested_toppings:\n",
    "    if topping == 'green peppers':\n",
    "        print(\"There is no green peppers.\")\n",
    "    else:\n",
    "        print(\"Adding \"+topping+\".\")\n",
    "print(\"Finished making your pizza!\")"
   ]
  },
  {
   "cell_type": "code",
   "execution_count": 61,
   "id": "e487ecb0",
   "metadata": {},
   "outputs": [
    {
     "name": "stdout",
     "output_type": "stream",
     "text": [
      "Are you sure you want a plain pizza?\n"
     ]
    }
   ],
   "source": [
    "# Check for empty lists\n",
    "requested_toppings=[]\n",
    "\n",
    "if requested_toppings:\n",
    "    for topping in requested_toppings:\n",
    "        print(\"Adding \"+requested_topping+\".\")\n",
    "    print(\"Finished making your pizza!\")\n",
    "else:\n",
    "    print(\"Are you sure you want a plain pizza?\")"
   ]
  },
  {
   "cell_type": "code",
   "execution_count": 62,
   "id": "4d02faa6",
   "metadata": {},
   "outputs": [
    {
     "name": "stdout",
     "output_type": "stream",
     "text": [
      "Adding mushrooms.\n",
      "Sorry, we don't have french fries.\n",
      "Adding extra cheese.\n",
      "Finished making your pizza!\n"
     ]
    }
   ],
   "source": [
    "# Using multiple lists\n",
    "available_toppings=['mushrooms', 'olives', 'green peppers', 'pepproni', 'pineapple', 'extra cheese']\n",
    "requested_toppings=['mushrooms', 'french fries', 'extra cheese']\n",
    "\n",
    "for topping in requested_toppings:\n",
    "    if topping in available_toppings:\n",
    "        print(\"Adding \"+topping+\".\")\n",
    "    else:\n",
    "        print(\"Sorry, we don't have \"+topping+\".\")\n",
    "print(\"Finished making your pizza!\")"
   ]
  },
  {
   "cell_type": "code",
   "execution_count": 63,
   "id": "2f814d54",
   "metadata": {},
   "outputs": [
    {
     "name": "stdout",
     "output_type": "stream",
     "text": [
      "green\n"
     ]
    }
   ],
   "source": [
    "# Dictionaries\n",
    "alien_0={'color':'green', 'points':5}\n",
    "\n",
    "print(alien_0['color'])"
   ]
  },
  {
   "cell_type": "code",
   "execution_count": 64,
   "id": "eab08ad0",
   "metadata": {},
   "outputs": [
    {
     "name": "stdout",
     "output_type": "stream",
     "text": [
      "5\n"
     ]
    }
   ],
   "source": [
    "print(alien_0['points'])"
   ]
  },
  {
   "cell_type": "code",
   "execution_count": 67,
   "id": "268107e2",
   "metadata": {},
   "outputs": [
    {
     "name": "stdout",
     "output_type": "stream",
     "text": [
      "You just earned 5 points.\n"
     ]
    }
   ],
   "source": [
    "# Access a dictionary item and store it in a variable\n",
    "new_points=alien_0['points']\n",
    "print(\"You just earned \"+str(new_points)+\" points.\")"
   ]
  },
  {
   "cell_type": "code",
   "execution_count": 68,
   "id": "61a5877d",
   "metadata": {},
   "outputs": [
    {
     "name": "stdout",
     "output_type": "stream",
     "text": [
      "{'color': 'green', 'points': 5, 'x_coordinate': 0, 'y-coordinate': 25}\n"
     ]
    }
   ],
   "source": [
    "# Add elements to dictionary\n",
    "alien_0['x_coordinate']=0\n",
    "alien_0['y-coordinate']=25\n",
    "print(alien_0)"
   ]
  },
  {
   "cell_type": "code",
   "execution_count": 70,
   "id": "fda16d4e",
   "metadata": {},
   "outputs": [
    {
     "name": "stdout",
     "output_type": "stream",
     "text": [
      "original x-position: 0\n",
      "New x-position: 2\n"
     ]
    }
   ],
   "source": [
    "# Interesting example: move an alien to the right\n",
    "\n",
    "alien_0={'x_position':0, 'y_position':25, 'speed':'medium'}\n",
    "print(\"original x-position: \"+str(alien_0['x_position']))\n",
    "\n",
    "# Move the alien to the right\n",
    "# Determine how far to move the alien based on its current speed.\n",
    "if alien_0['speed']=='slow':\n",
    "    x_increment=1\n",
    "elif alien_0['speed']=='medium':\n",
    "    x_increment=2\n",
    "else:\n",
    "    # This must be a fast alien.\n",
    "    x_increment=3\n",
    "    \n",
    "# The new position is the old position plus the increment.\n",
    "alien_0['x_position']=alien_0['x_position']+x_increment\n",
    "\n",
    "print(\"New x-position: \"+str(alien_0['x_position']))"
   ]
  },
  {
   "cell_type": "code",
   "execution_count": 71,
   "id": "7c52ce76",
   "metadata": {},
   "outputs": [],
   "source": [
    "# Change a key value in a dictionary\n",
    "alien_0['speed'] ='fast'"
   ]
  },
  {
   "cell_type": "code",
   "execution_count": 72,
   "id": "492bd642",
   "metadata": {},
   "outputs": [
    {
     "name": "stdout",
     "output_type": "stream",
     "text": [
      "{'x_position': 2, 'y_position': 25, 'speed': 'fast'}\n"
     ]
    }
   ],
   "source": [
    "print(alien_0)"
   ]
  },
  {
   "cell_type": "code",
   "execution_count": 73,
   "id": "8b91f6e5",
   "metadata": {},
   "outputs": [
    {
     "name": "stdout",
     "output_type": "stream",
     "text": [
      "{'color': 'green', 'points': 5}\n",
      "{'color': 'green'}\n"
     ]
    }
   ],
   "source": [
    "# Remove an element from a dictionary\n",
    "alien_0={'color':'green', 'points':5}\n",
    "print(alien_0)\n",
    "\n",
    "del alien_0['points']\n",
    "print(alien_0)"
   ]
  },
  {
   "cell_type": "code",
   "execution_count": 94,
   "id": "c55ca5c8",
   "metadata": {},
   "outputs": [
    {
     "name": "stdout",
     "output_type": "stream",
     "text": [
      ">Rosalind_4723\n",
      "\n",
      "GCACCGGGACATGTCGGTCATTCTATAAAATTACTCGACGCTTGTAGAAGATCGCCTAGA\n",
      "\n",
      "ACTTCATCGTCACACAACGCCTGCTCATCAAAAAGACGATCTGTCGGTTGTTTTGCAAAC\n",
      "\n",
      "CAGCAACTTGAGGCATTCTTATTGTAGGGTGCTGGTCTAGCAAAGAAATCGCGCGGAGAT\n",
      "\n",
      "TAGTATGGGTGCGCCGCTGAGTTAGGCGCCATCACGTCATGACCGAAGTACGTTAGTTGT\n",
      "\n",
      "TAAACTCGCTAGGTGTAAGGGCCAACCGCCTGCATTAGTAAATGGAGATGAGCTGTGAAG\n",
      "\n",
      "CACGAGCGTCAGGCCTCCTATGGGAACCTTTCCCGGCGTTATGACCGTCGGGGGTCTGAG\n",
      "\n",
      "CGGACTCTGTGTCGAAGAGTCGGCACGGGTATAGGATAGGTAATAGTCCTTCGCTCAGGA\n",
      "\n",
      "CTGGTGTACCTCAAATGCGATGACGTGGGCGTTAGGAGGTGCTTTTCCTGTCAACCTGTT\n",
      "\n",
      "TAATATAGAGGTTTGGCGTGCCAACGCGAGCGCCGGCGATGTACCACCAACGAGAGACTA\n",
      "\n",
      "GCGCGATTGAGTTGCGCTTCGGCATCCGGCATGTAGCCGCATGCTGGTTTTGTGAACCGA\n",
      "\n",
      "AGCACTATATGAGTCGCTTTAACACCCACATATACTACCATCGGTTGTAACCCGGCGTTC\n",
      "\n",
      "CACCTTTGACAGGTTAATTATCGTCCGATATAAGAATAGATTCCATACGGCCAACACATT\n",
      "\n",
      "TGCATGTCTTATGTAGGAAGGACACCCCTCCACACGTGTACGAACGTAGTGCTATGTTAT\n",
      "\n",
      "GTTCACGCCTCGTATAATAGCACGCGTCTAGAACACGTCTCCGTGTTTAACCGAGTTGCG\n",
      "\n",
      "GGTACCGTTCCCATAGCGTACTTCATCTATTCAAGAGAGGGCTCACATAGGGGACGTAAC\n",
      "\n",
      "TCACGTGCGTGGTACCATGAGAGTTCCTGAGAAGGGTACCCAGACCCACACATAAATGTG\n",
      "\n",
      "GCTTCTTCAGTCAGTCCA\n",
      "\n",
      ">Rosalind_2927\n",
      "\n",
      "GTCCAAGGGCGTCCAAAAACACCACGGAACGAGTTAGGCCCGCGATGGGAGGTCATTAAA\n",
      "\n",
      "GGGTATGCTTGGACTTGAATCACGTTAACCGGATATCGAAGTTACAGCAAAACATCTTAT\n",
      "\n",
      "TACCGTAGGTAAATTCACCCAAGGGGTCTTTTATGGTACCGGAATTCCTTGCCGGTTATC\n",
      "\n",
      "GCGAAGGAGGGAGAGAGTTTGCGCACGTAGCCAATACCCACAAAGCGACGTGCGTAGCAT\n",
      "\n",
      "TCAGTTCAACAGTGCCAGTCATCGAATGATGACAGCAGGGTATCGCAGTTGCGACATATA\n",
      "\n",
      "ATGGATGATTTACTCAACGATCTCTTAGTCCACGGTCATTAATCAAAGTTGTTCTTATCC\n",
      "\n",
      "GCGGAAACACACCCAGCGTGGTATCCGGAGTGCGAGTTGCCTGTTACATGTTACATTTTA\n",
      "\n",
      "TGTTCATGCTCCCGACGGTTGGGAAGTGTATTTTAATGGGTAACACCGTACGCCGGTCGT\n",
      "\n",
      "TGTTTGCACGGCCTAAGGGTAGTACCCGTTTCAGCTCTCCTTACCTTTGAGCCGAAGGCC\n",
      "\n",
      "CCTTCAGTTTTATCCTCTTCCAACCCTCCCTTCTGCGCTCAATACTCCTGCATTCTGCGC\n",
      "\n",
      "GTGAGTACCGACACATGTGAGAAGCTTGTGAAGAAAGACCCACAGGGTCCAACAACGCCT\n",
      "\n",
      "CGCAATCGCAATGGCTCTAAGTACGCGTAGGAGGGCTAGACATTCTTCGAGACGCTAATG\n",
      "\n",
      "GATTGCCGACATCAAAGGTCTTTATCCAATGATCGGGCCGCGGGAGTTGTACTACAGTTC\n",
      "\n",
      "GAGCTCAGAATAAGCAAACGAATTGAACCACGCGTATACCCTCGCCGTTACGCGACCGTG\n",
      "\n",
      "GGTTATTCAAACGTGTCGGCGATAGTGAATGTCTTTGCTCTCTCTTCTGACGCACAAGGC\n",
      "\n",
      "GGGCCTTTTCTGTGAAAAGAATACATTCACCTTACTTATAGATACCTCATCAGCCGCCAT\n",
      "\n",
      "TGGCTTTGGCAAACAACG\n",
      "\n",
      ">Rosalind_8424\n",
      "\n",
      "CATTAGGTGACGTACGTACTTGCATTAAAGCAGGTATTCGCGGAACTGAGCCCGGGAATG\n",
      "\n",
      "CCGTGTGTTGTAGCGGTTGTCAAATATACGCGACTATTGTTAATCCGTACATCGATAAAT\n",
      "\n",
      "AGCTATTGGTAATTCCCGATCTGTTAAGTCCACAAAAGACGTAGAGGAGTTAAGGCCCGC\n",
      "\n",
      "CTAAAGGTGTAAATCAAATACCTCATTGATATACAGATCCAGAACTTAGGTATTAGATTT\n",
      "\n",
      "CGGGTCCATTTCATCTGTCGACATCACGACACGAGGATAGTAATCGTCCGCTCGTTGAAA\n",
      "\n",
      "AGAGAAAACGAACCAGTCTAGGCCAGGGTTTATTCATAAGATCGGCCAGATATTGACGAG\n",
      "\n",
      "CCCTCATCGTGCACCACATCAGCATCTTATAAGAGCCTCGCCAGTTACATCGAGGGTCAC\n",
      "\n",
      "CCTTGCAGAAGCGCATTATTTAGACAGCATATTGCCCATTTGGTTTGGAGTCTATCTTCC\n",
      "\n",
      "TGACGGGGGTAGAAAGAAACGCGCCAGTCGTGGTCCTGGTGTTCGGGACTGTTGGAAGCA\n",
      "\n",
      "GCCCTAACATAGAGTTGCATGTGTAAGTCCTATAGGGTGACCCACGGAAGGTTCTTTGAG\n",
      "\n",
      "TCTTGGAGGAGAAGCGCATCAGATGGCCTGGGGACTATTCGAATTACTCGAAACCCTGGC\n",
      "\n",
      "CTTCTAGATCGGCTAAGATTTTCCCGGGGAGGACCGCGGATAATGCCGAATCGATTCATC\n",
      "\n",
      "GGGTGTACAATCCTTTATGATATGATTCGGCAGAGGACGTCACGCTTGCTCTCAGATAAC\n",
      "\n",
      "TACGATCGTTTGAGGTCCCGGGCCATTGTACTAAAACGATAGTTCGTGAACGGAGTAGGG\n",
      "\n",
      "CAAGTTCCCTTAGGTAAAATCTGCTGCGCGGCCTGCATTGTTCGATGCCCCTAGTGCCCT\n",
      "\n",
      "GAGGGACTCTGACATAAACAGTATGCCTGGTTTTTGCAGGGATCGAAGCTTACGATGGCC\n",
      "\n",
      "GCGTTAACCCCCACGCAT\n",
      "\n",
      ">Rosalind_3576\n",
      "\n",
      "AGCATACGCGGAGATGTGTAAGAGTCAGTTAGCGCGGTGTACAGATTGGTCGCCGGGCTG\n",
      "\n",
      "CCTCTGCTATTCGTTGAACCTGCGGATGGTCGCAAATGACACCGGGAACTCCCACGTTTC\n",
      "\n",
      "CCTTAGCGCTTTACCCTGGTTGATGGGGAGCCGCGGAATACGATGGGCATCCTTCAGCGT\n",
      "\n",
      "GTGTTAGCCACCATTGGGTTCGATGTAGCCTTAGACCTAATCAGTGCCAGAGTGCCCGGT\n",
      "\n",
      "ATATTAAATTACATCCTGAGCGTCCTGCTACACAATTTGTGCCCTCACCTGTTACGGTGG\n",
      "\n",
      "AAGTTGGCTACATGTAGTTATCAGTCCATACACCTAGTGTACTAGAACCATGCTGTTATA\n",
      "\n",
      "GTCAATATGACGATATCGGTGATAGTTAGCGTGCGGAAATAGGCCCCCGCGTACGAGACC\n",
      "\n",
      "GGAAATAGTATCGCGGATGTTTCGATCTAGGTTTCGTCCCACGTCCTTGGTGGCGAGCCT\n",
      "\n",
      "GCGTCTGCCAACGCAGGCGGCGGTCTATCTCTCCGAAAACTGCGCCCCGTCACTGTCAAA\n",
      "\n",
      "TAAATACCTGTCTCCCGGCTAGAGCACTCCAAGCGAGCAAGACCTACGTAATAAATATGC\n",
      "\n",
      "GACGGAAGTATAATAGCAGGAAAATCGACTCAACGTATTGTCCAAGTAGATAGTCAGTGT\n",
      "\n",
      "GGACATTTATGGCGCAGGAGTACCGGGCCCAGGAAACCGACGCCAGCAGTACGGTTCTTC\n",
      "\n",
      "ATGGGCAAAGTTTTTGCAGAAACAAGACACTTACCGGGTACCCGTACATGAATATTGGAC\n",
      "\n",
      "TACGAATCCACGTTCAAGCGCGTTACATAGATACAGACTGCACCAAAAAGGCTAGACAGT\n",
      "\n",
      "CCCTCTTGGCTTCCGACGGGCGGCGCTTTGCATGTGTGTAACCAGGGACTCAGCCGTCCC\n",
      "\n",
      "TCTTGTTGCTCCGTTGCAATAACGATAAGCCCTGACTAACCGTGCGAAGGCCTGTCGTCC\n",
      "\n",
      "CTAACGACAGGCATTAAC\n",
      "\n",
      ">Rosalind_4241\n",
      "\n",
      "GATTTCTCGCCACGTATGTAAATCAACACAAGGCGAAGAAAGCCCGTTTTATCCGACCGG\n",
      "\n",
      "ACCCTACGCCTAGTGATACGGTCAGCTCAGCGCGGATTCGCAAGAACACAATGACTCATA\n",
      "\n",
      "ACATACGAGAGCCAAAACGGCCTAGCAGACTGCGTATATTAGGATGTCGAAAGGGGCGTT\n",
      "\n",
      "AACGCGACAGGAAGAAGGCGTGCCGCCTAGCATACATGACACGCTATATCTGTAGGGCAC\n",
      "\n",
      "TTGGGGCTAGTTTCGCAAATGTAGGTCCTAAGTGTATTATTAGTCTCGCCCTCCAAAGTC\n",
      "\n",
      "CCTAGGCCGCCAGGCCTAACGCCATGCATTACGATTACGGCGACTCGTTTGGGCGCTCCG\n",
      "\n",
      "GCCATACCGATAGTTCGGATTGGCATGATTGCAATAGGGTATTTCATACAGCTCTGCGAA\n",
      "\n",
      "GTGCAGGTTACACTTGATCCGAGCTGTAACCGTCGGACGGGGAGACCCCTTCCCGGCTTC\n",
      "\n",
      "TCCATCTCTTGAACTCTGGCCTTCGGAGTCACGTGTACGTGGCGCCGATGGCATTTCACC\n",
      "\n",
      "AAGGTGTATTAGGCGTTCGCGGGGTTGGGGAAAGATGGCACCCAGTGTGGTTTGGAGGGT\n",
      "\n",
      "GATAGGGACCTGGGTGTGCGGGAGGCCTTCTGCAGGACACGGAACTGGTTGGAGTAGCAT\n",
      "\n",
      "AAACCGAATGATACGTTTGAGTGGTGAATTCAGTGGTGCTAACCAGTAAAACTCGTTTTA\n",
      "\n",
      "ACCTGCAGTCGTGTCGATCAGCCTTGACTACCTCGTCATGAACGGCTCCCAAAATACTCC\n",
      "\n",
      "CACCAATCAGTAGCACACCATCCAATGCCGCAAGTGTAGGTGTCACAGGGCGTCATGAAG\n",
      "\n",
      "GACCATTGTCCAGAGGTGATCGCGCGGATTATAGGGAAGCAACGTAATCACCATTAATCG\n",
      "\n",
      "GGAAGGAGTCTTACGCCATATACATATGGGGAGGGATGCCTCCCAGCCTTGGTGAGTGGA\n",
      "\n",
      "CTAAGGTAGATGTCCTCG\n",
      "\n",
      ">Rosalind_2426\n",
      "\n",
      "TCCTCGACACGCGCACTAATAAACTGACCACGCACAATAAGTTGCCACATTCTTAGACGC\n",
      "\n",
      "ATTGAACCTTTACTAACCAGGTGGTTGTGTCGTGGGCCAAGGGGTCACGTAGGCAATTTC\n",
      "\n",
      "CATGTCTTAGGTTCAGGTGTGGCTGTAGCCTTAGTAGTTGGCTGGCTTCATAACCGTCCC\n",
      "\n",
      "GTTAGGCGTGGCCCTTATACACAGCTTCCCGGAAACAGGGAACATTCATGGCAGCATGAC\n",
      "\n",
      "TTTGTTCTCCATAGACCGGTCTTTTTGGTGGTTCTACTTGTATTAGAGACTTCTGATCTC\n",
      "\n",
      "ATACGTCTATGCTGAAGTCCTTAGACGGGCATTTTAGCTATGTTCGAAACCGCTGTCCGA\n",
      "\n",
      "CTTGCCCATATCTAATGACGGCAACCGGCAATGCCAATGCGGGCTGAAATAAGATCATTT\n",
      "\n",
      "ACGATTAAAGCACTCTCCTTGAGTTCTGCCACTAGCCAAGTGACCGGGTACGCCCTACCC\n",
      "\n",
      "TGGAACGCCTAACCTTAGTTGCGTAGTTCAGTGTGATTGAACTGCGCACATTGCTATGGG\n",
      "\n",
      "GAGAAGCGGTAACCTCCAAAACATCAACAGTCATACTTCTCTGGGGAGAGTGCTGTTTCA\n",
      "\n",
      "GTTGTCTTGAAGGTTTCCTATAATGTTCATCAAGGTCCACCACGTCTAGACTCATACCGG\n",
      "\n",
      "TCAGTCAGTTGGGGCGTTCGCAAAGGACCTATTGGTTGGGCTACCCGGAGTAGAACCGCC\n",
      "\n",
      "AGCGTAGTCGTGATAAAAGATTCTGCCGGGAGAACCTCAGGGGGTACAGTTGTGGTCTCG\n",
      "\n",
      "GTCACGACAATGGCCAGCACAGTGACCACAGTCCCTGAATGAGGATAACCGATGTACTGA\n",
      "\n",
      "TCTCCCAGGCGCCAGTGTGGGCTCATACGGCTATTGCTGCCGACAGCGCCATAGATATCG\n",
      "\n",
      "CTGTTTCTTGAGCAGTCTCATATGGCGGATAACTACCAAGGGCGTATAAATCAAGCCTGT\n",
      "\n",
      "GCATAACGGAACGTTTAA\n",
      "\n",
      ">Rosalind_2597\n",
      "\n",
      "AACGTGTATATCAGCAGGTTAAAACTTGAATGACAGTCGTCGTGAGGACTACCAAACCTG\n",
      "\n",
      "GGCATGCGCACGACTCCTGTGTGCCTTCGTGGTTTAGGACAATCGTATATGGGAGATATG\n",
      "\n",
      "GCGGGATCCAGGTTGGCCGATTTGACGAAAGCCCGTTTCTTGACAGCAAGCCACAAAACG\n",
      "\n",
      "ATTATTGTCTTCGCACAAAATCTACCGGTCGTGAGGGAGTACCTCCACTGATACACGTAA\n",
      "\n",
      "GGCGACAGCACTGGCTCCGGTCAGGTGGACTGTAACTTCGGCTATGTTCCCAGTTATACC\n",
      "\n",
      "TTCCCAGCCATGTGCCTTGAGCCGTAGCAGTTCTGTAAGCGGCGTGTACAATATCATGTT\n",
      "\n",
      "GCTTGTACGCGGTACACAAGGCCGGTTAATTAGAGACCAACTAGCTTTGGTGTAGCCCAT\n",
      "\n",
      "TTTGTATATAGCACATCCTAGCAGGTGTTGGCTGCTCCAAAAATGGAGACGCTGTTTCAC\n",
      "\n",
      "GCTACGAACTACTTACGGGATAACCTCGAGCTGGATAGTGTACGGAACTCCCGGGTCCGA\n",
      "\n",
      "GTTATTGATCCGTTAGCACGACCAACTGGGGCTACACATATGGAGGTCCTTGATCCGATG\n",
      "\n",
      "CAAGTGGATAGAGAGTCGCCGGTCATCCTGTTATTGCCATTGGGTCGGGCAGCAGAGCAA\n",
      "\n",
      "GGGCCCCTAAGTATAACTTCTCCGGGGAATCCTTAGATAATTGATCTCGGGCTCGGAGAG\n",
      "\n",
      "ACTACCTTCCAAACTCTTCAAGGATATTATTCTTGGGAGCGGCGACCAAAGTCGATAGAC\n",
      "\n",
      "AGGACACCGTCCCTTGAATTAAACATACGCTAGCAAGGGATTGGATTAAAACAAAATGTG\n",
      "\n",
      "CCTTGACCGATGAACTCGAAGAAGGGGTACTCTTAAATTTCGGCTCCAAATCCGTCTTGC\n",
      "\n",
      "TAAGGGGCTAAACTGACTGGATAGGAGTTAACTCAATTGTGAGAGGGAGTGACTATTAGG\n",
      "\n",
      "ATTGGATTTCGAAGTGCT\n",
      "\n",
      ">Rosalind_5458\n",
      "\n",
      "CGCGTCGGCGACTAATTATTAAAGCGCTACGAGGGGCGCTAAAGATACTTGTGGTGGTGC\n",
      "\n",
      "AGGAATGACTGAGCGTAGGGGTATTATTCAATTAAGGACTGGACTTTTGGGACACAGCGT\n",
      "\n",
      "GGTCTCGGGACGCGGACAGCTCTGTTATCCGACTTGACCTCTTCAAAGATGCCATACTGC\n",
      "\n",
      "ACGGTACCTATTGACGATGCCAAGCATTTAAGTAATGGCAGGAACTGTAATACATGTCCC\n",
      "\n",
      "CACGACTCGCTCCTAGAAAGAAGTCGTCAGGAGGGACAGCTCTATTACGGCAGACCAGGA\n",
      "\n",
      "GCATAGTTGCCCCAGCCTTGATCGCACAAAGGTCCTGCGTAAAATGGTCAATGAATCGCC\n",
      "\n",
      "GGACACGTGATGACTGTTCGCAGCCGAAATTGCTTGACGGACCCGAGTAAATTCAGTGTG\n",
      "\n",
      "CGCCATTTCGTTGTGGTGTAATCGCCAACTCTTCGAACTCTCCCATTGCAAACGTCTTAT\n",
      "\n",
      "CTTAGGAATGAATGACACATCGTGTTCAACACATTGGGCGTAGGCCCGGCGTTAGTACTG\n",
      "\n",
      "GGGAAATCTGGAGCAACGTTAGAAAAAAAAAGGACATAAGTACTCGTGGTCATATGACAA\n",
      "\n",
      "GAAGCGCGATGATAGCCCGATAGTTAACGTACCTAGAGGACATGGAACATTTGTTCTTCA\n",
      "\n",
      "GAGGTTGTCCGGCAGGGACCCTTGCATGATTATACCTTGGACTTGCTGGTGGCCAGAAAA\n",
      "\n",
      "ATAACGTTACGCTAAAATGAATTGAAAACAATCTCTGGTTGCCGTCCGACATTCCCCAGA\n",
      "\n",
      "GCCATGACCTAGCTAAAATATTGAAACCCCTAATCCCAGAGCCAGTATTACGCCAAGGAT\n",
      "\n",
      "CGCCGACATTAAGTCAAACTCACTATCAAACCGTTGATGTTGCCAGATGCAGCGTTAATA\n",
      "\n",
      "CAAAACCTACGCGGTATCTACTGCCACCCCATACGGTTGCAACGAGGCGCTAGCGCCACG\n",
      "\n",
      "TGAGCTGTAAGGATCCAA\n",
      "\n",
      ">Rosalind_1746\n",
      "\n",
      "GCGGATCGCCCAAAGTTGAGCCCTATTTCGGCACTGCCGCGAACCGTCCAGGGATTGCGC\n",
      "\n",
      "GGCTACGCATCTGCTCATTATGGGATTTGATCACCCCCAGGTAACCATCGTGAGCCATGC\n",
      "\n",
      "TACCGACGATCGAGCAAGGCCTTGCGACATGCGCGAGGTGATGGGTGAACAATGTTTAGC\n",
      "\n",
      "GAGAATTTTAGGCCAGTCCCAATCACCCTCGACTGGACATTTGTTGGTAGGCACGGGGAA\n",
      "\n",
      "CCCAGAAAAAGTCCCAAGTCATGGTTTAGGATAACTCACGATGATGAGCCGAGCCCTCGT\n",
      "\n",
      "CACCTTGTCGCCTCACCCACCAATTCGGTTCGCTTCATCATGAAGTACGATTAAAGTCCT\n",
      "\n",
      "GCTTTACTGGCGCGAGCGGGCCATCCACAAAGGCCCGATCTAAGTCTGCCGATCTCGGCA\n",
      "\n",
      "CTACAAATCGCGAGGAGATGACGCTGCATATCGGGCCGGAGGACCTATGTCAGTTTAATC\n",
      "\n",
      "TGAGGTTCTTTGCCCTTGACTGTGCCAATATTGTACGGTGTCTCACATGTCAAAGTGTGC\n",
      "\n",
      "AACCAATGTGCTTGTTGGTGGGATGACGGGCACCCTGAATGTATCACCTTTAAGACTAGA\n",
      "\n",
      "CTCTATACGGACCGGCGGACAAGTGAAGGGCCCATGTCATAACACCCACTGAGACAGACT\n",
      "\n",
      "AAGACTACACGACTCGCCCTCTTACCATTAGGAACCTGGAACTCACCATGTTGGCTAAAG\n",
      "\n",
      "TGAAGATGTCGAACTCTGTTTCTTTCGCACGCGAAACACCGGCAAAATGGAATGTCCTAA\n",
      "\n",
      "ATGTTCAGACGGGGTAGGCACGATTGCATACCATGTGCTATTCGCCGGGGCGTAGCCTTA\n",
      "\n",
      "GTGAAGTTCACTGAATTAGACGACCGCAGTTAGCTTCGGGAGTGATGAACGCAATACAAA\n",
      "\n",
      "CCTCTTGTGTCGTCTCCACATTAGGTGGCCCGCCTTATACCACCCCCTTCATCCCACGTT\n",
      "\n",
      "TGACGAGTTAAGATCTCC\n",
      "\n",
      ">Rosalind_2017\n",
      "\n",
      "AATCGTATAGCTGGCACGCCCCGGCTGGACAACGGAACGTATAACGACGTTGGGAGTCAA\n",
      "\n",
      "GTCAGCAGTCTTAAGGTTGGTTTGCGAAGTTGCTAGATCTTGAGTTAGGGGTAGTGTGCT\n",
      "\n",
      "CTTTACTGTTGCCTAGAGGACCCCTAGCCCTTATTCTAGAGAGTGAAGCCGACCGACATC\n",
      "\n",
      "AACGTTTCATCAACCGCCGGCCGGACAGTCCACGGGGACCCTAATTCCCATCTACCTTTT\n",
      "\n",
      "TGGACCCCGACCCGCGTCATATACGATCCCGATTATTCACTACAGGCTGATACGCAAGCA\n",
      "\n",
      "CTCACCCTTGGGTCAAGGTGCAACAACAACAATAACTTGTACTGGCGCGCTGATTAGTCC\n",
      "\n",
      "CATTCGTCGATCAAGACCGGGAACGAGATAGAGCTGCTATGTGACGTAAGCGTTATGCAT\n",
      "\n",
      "TTCGGCGAGCCCTACTTCAGCGGTTGGTACGGGTTTGGGTACGACAATATTTGAGACGAC\n",
      "\n",
      "AGCACCACCTACAGCTTTACGGTGGAATCCTAGGCCACGAATCCTTCGCGCGGGGGATTT\n",
      "\n",
      "TCTACTTGCCCATTCGCCGGGTCCTGCGTACCTTTATGGAAAAGCCACATGCGTCGGGCA\n",
      "\n",
      "GGGTTTTATTGGCGAATAAGGAGATACGTAATGTTCTGGTCCTGGAGAGCTCCTGTGCCA\n",
      "\n",
      "GCCACTCGATAGCGATAGCGCCAGTTCGGTTACACCAGATCCCCTTATTTGTCACTGTAG\n",
      "\n",
      "TCTTACCGCCGCCTTTTTCGACTACCAGAACAAGGTCAAAAACATGCCTAGATGCTACGT\n",
      "\n",
      "CTGTCAAGTATTAGCCGTCATTAGGGACCTCTTAGCCTGTGGCCATGCTCTCCTCGGGGT\n",
      "\n",
      "TGTTCCGGCTGTTCTTAGCGAGTCCGGACGGCCAGCAATCGGGTAAATAACGAAAAGCGT\n",
      "\n",
      "GGGATGCTGAGTGACTTTGAAGAGGGCACAATGGAAAGAATTCAAGGTTGCGAATGGTGC\n",
      "\n",
      "TTTCCAATGTAGAGGTCG\n",
      "\n"
     ]
    }
   ],
   "source": [
    "# Import file and read it\n",
    "\n",
    "f1=open('rosalind_cons.txt','r')\n",
    "for line in f1:\n",
    "    print(line)  "
   ]
  }
 ],
 "metadata": {
  "kernelspec": {
   "display_name": "Python 3 (ipykernel)",
   "language": "python",
   "name": "python3"
  },
  "language_info": {
   "codemirror_mode": {
    "name": "ipython",
    "version": 3
   },
   "file_extension": ".py",
   "mimetype": "text/x-python",
   "name": "python",
   "nbconvert_exporter": "python",
   "pygments_lexer": "ipython3",
   "version": "3.8.5"
  }
 },
 "nbformat": 4,
 "nbformat_minor": 5
}
