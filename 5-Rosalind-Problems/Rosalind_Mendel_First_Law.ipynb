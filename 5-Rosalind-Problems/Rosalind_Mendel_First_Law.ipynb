{
 "cells": [
  {
   "cell_type": "markdown",
   "id": "de580322",
   "metadata": {},
   "source": [
    "# Mendel's First Law\n",
    "<https://rosalind.info/problems/iprb/>"
   ]
  },
  {
   "cell_type": "code",
   "execution_count": 1,
   "id": "805ccd3b",
   "metadata": {},
   "outputs": [
    {
     "name": "stdout",
     "output_type": "stream",
     "text": [
      "0.7593561368209256\n"
     ]
    }
   ],
   "source": [
    "k = 24\n",
    "m = 24\n",
    "n = 23\n",
    "\n",
    "t = k + m + n\n",
    "\n",
    "f = 1 - (((1/4) * ((m-1)/(t-1))*(m/t)) + ((1 / 2) * (n / (t - 1)) *\n",
    "                                          (m / t)) + ((1 / 2) * (m / (t - 1)) * (n / t)) + (((n-1)/(t-1))*(n/t)))\n",
    "\n",
    "print(f)"
   ]
  }
 ],
 "metadata": {
  "kernelspec": {
   "display_name": "Python 3 (ipykernel)",
   "language": "python",
   "name": "python3"
  },
  "language_info": {
   "codemirror_mode": {
    "name": "ipython",
    "version": 3
   },
   "file_extension": ".py",
   "mimetype": "text/x-python",
   "name": "python",
   "nbconvert_exporter": "python",
   "pygments_lexer": "ipython3",
   "version": "3.8.5"
  }
 },
 "nbformat": 4,
 "nbformat_minor": 5
}
