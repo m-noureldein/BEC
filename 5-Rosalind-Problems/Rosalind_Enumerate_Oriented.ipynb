{
 "cells": [
  {
   "cell_type": "markdown",
   "id": "82a642a1",
   "metadata": {},
   "source": [
    "# Enumerating Oriented Gene Orderings\n",
    "<https://rosalind.info/problems/sign/>"
   ]
  },
  {
   "cell_type": "code",
   "execution_count": 281,
   "id": "503e47b8",
   "metadata": {},
   "outputs": [
    {
     "name": "stdout",
     "output_type": "stream",
     "text": [
      "384\n"
     ]
    }
   ],
   "source": [
    "import random\n",
    "import copy\n",
    "\n",
    "n=4\n",
    "\n",
    "rnd=[]\n",
    "temp=0\n",
    "#Generate n random numbers between 1 and n\n",
    "for i in range(1,1000):\n",
    "    randomlist = random.sample(range(1, n+1), n)\n",
    "    if randomlist in rnd:\n",
    "        temp+1\n",
    "    else:\n",
    "        rnd.append(randomlist)\n",
    "        \n",
    "newrnd=[]\n",
    "for i in range(0,len(lst)):\n",
    "    for lst in rnd:\n",
    "        newlist=copy.deepcopy(lst)\n",
    "        h=-lst[i]\n",
    "        newlist[i]=h\n",
    "        newrnd.append(newlist)\n",
    "        \n",
    "        \n",
    "for lst in rnd:\n",
    "    newlist=copy.deepcopy(lst)\n",
    "    for i in range(0,len(lst)):\n",
    "        h=-lst[i]\n",
    "        newlist[i]=h\n",
    "        newrnd.append(newlist)\n",
    "\n",
    "newrnd2=copy.deepcopy(newrnd)\n",
    "newrnd3=[]\n",
    "for i in range(0,len(lst)):\n",
    "    for lst in newrnd:\n",
    "        newlist=copy.deepcopy(lst)\n",
    "        h=-lst[i]\n",
    "        newlist[i]=h\n",
    "        newrnd3.append(newlist)\n",
    "\n",
    "for lst in newrnd:\n",
    "    newlist=copy.deepcopy(lst)\n",
    "    for i in range(0,len(lst)):\n",
    "        h=-lst[i]\n",
    "        newlist[i]=h\n",
    "        newrnd3.append(newlist)\n",
    "\n",
    "total_rnd=rnd+newrnd+newrnd2+newrnd3\n",
    "\n",
    "total_rnd2=[]\n",
    "for lst in total_rnd:\n",
    "    if lst in total_rnd2:\n",
    "        temp+1\n",
    "    else:\n",
    "        total_rnd2.append(lst)\n",
    "\n",
    "print(len(total_rnd2))\n",
    " \n",
    "\n",
    "with open('out.txt', 'w') as f:\n",
    "    for lst in total_rnd2:\n",
    "        f.write(' '.join(map(str, lst)) + '\\n')\n",
    "    "
   ]
  }
 ],
 "metadata": {
  "kernelspec": {
   "display_name": "Python 3 (ipykernel)",
   "language": "python",
   "name": "python3"
  },
  "language_info": {
   "codemirror_mode": {
    "name": "ipython",
    "version": 3
   },
   "file_extension": ".py",
   "mimetype": "text/x-python",
   "name": "python",
   "nbconvert_exporter": "python",
   "pygments_lexer": "ipython3",
   "version": "3.8.5"
  }
 },
 "nbformat": 4,
 "nbformat_minor": 5
}
