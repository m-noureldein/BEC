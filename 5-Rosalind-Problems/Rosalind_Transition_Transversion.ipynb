{
 "cells": [
  {
   "cell_type": "markdown",
   "id": "efc14304",
   "metadata": {},
   "source": [
    "# Transitions and Transversions\n",
    "<https://rosalind.info/problems/tran/>"
   ]
  },
  {
   "cell_type": "code",
   "execution_count": 18,
   "id": "c3608e27",
   "metadata": {},
   "outputs": [],
   "source": [
    "# Extract sequences from fasta\n",
    "# Import modules\n",
    "from Bio import SeqIO\n",
    "\n",
    "filename='Downloads/rosalind_tran.txt'\n",
    "sequences=[i for i in SeqIO.parse(filename, 'fasta')]"
   ]
  },
  {
   "cell_type": "code",
   "execution_count": 19,
   "id": "e41001a5",
   "metadata": {},
   "outputs": [
    {
     "data": {
      "text/plain": [
       "1.86"
      ]
     },
     "execution_count": 19,
     "metadata": {},
     "output_type": "execute_result"
    }
   ],
   "source": [
    "st1=str(sequences[0].seq)\n",
    "\n",
    "st2=str(sequences[1].seq)\n",
    "\n",
    "\n",
    "tver=[]\n",
    "trans=[]\n",
    "\n",
    "for i in range(0,len(st1)):\n",
    "    if st1[i]=='G':\n",
    "        if st2[i]=='C':\n",
    "            tver.append(1)\n",
    "        if st2[i]=='A':\n",
    "            trans.append(1)\n",
    "        if st2[i]=='T':\n",
    "            tver.append(1)\n",
    "    if st1[i]=='C':\n",
    "        if st2[i]=='G':\n",
    "            tver.append(1)\n",
    "        if st2[i]=='A':\n",
    "            tver.append(1)\n",
    "        if st2[i]=='T':\n",
    "            trans.append(1)\n",
    "    if st1[i]=='A':\n",
    "        if st2[i]=='G':\n",
    "            trans.append(1)\n",
    "        if st2[i]=='C':\n",
    "            tver.append(1)\n",
    "        if st2[i]=='T':\n",
    "            tver.append(1)\n",
    "    if st1[i]=='T':\n",
    "        if st2[i]=='G':\n",
    "            tver.append(1)\n",
    "        if st2[i]=='A':\n",
    "            tver.append(1)\n",
    "        if st2[i]=='C':\n",
    "            trans.append(1)\n",
    "            \n",
    "len(trans)/len(tver)"
   ]
  }
 ],
 "metadata": {
  "kernelspec": {
   "display_name": "Python 3 (ipykernel)",
   "language": "python",
   "name": "python3"
  },
  "language_info": {
   "codemirror_mode": {
    "name": "ipython",
    "version": 3
   },
   "file_extension": ".py",
   "mimetype": "text/x-python",
   "name": "python",
   "nbconvert_exporter": "python",
   "pygments_lexer": "ipython3",
   "version": "3.8.5"
  }
 },
 "nbformat": 4,
 "nbformat_minor": 5
}
