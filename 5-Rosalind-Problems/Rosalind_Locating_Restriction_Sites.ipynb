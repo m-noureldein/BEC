{
 "cells": [
  {
   "cell_type": "markdown",
   "id": "6abbbc2b",
   "metadata": {},
   "source": [
    "# Locating Restriction Sites\n",
    "<https://rosalind.info/problems/revp/>"
   ]
  },
  {
   "cell_type": "code",
   "execution_count": null,
   "id": "570aee22",
   "metadata": {},
   "outputs": [],
   "source": [
    "st=\"TATATGGACTAGGCTTGGCTCTTTGCCTAGGTTTCCATAAGGTAGGATGCCCGTGAGAAGATCCCTTGGGAGTCAAAATTTAATTCTGACTGCCTGTGGAACCTACATCGGTGACTAGTGAAACCAGCTAACATATCACGAGGACTTCTGTCACGGATCTACGTATGATGGCTCGGACTCCGTCCTCTGGGGAACCCAGCGTTACCCAGGTATCGCATGGACGGCTTTGCTGTGATTTACTGCGGACTAAATTCCTACTGCACTGCCCGTCTTGGATTTATCGATACTGTAGAGTTACGGTTCCGGCTGCCATGAGATTTAGCGATCCTTGTCGGCGTTAGTACGTGTATTTAACTAGAGAGTATGACATCGCCATTGACAGTGAGGCTTATTAGACTGGTGAATTACGAAGGGTACTCCATTAAAATGCGTGGCAGTATCTGTGGCGCGGGGGGAGACGCAAGGATCACCTACATGTAGGGAGAGTCTTGCTAGGCGGATGCTGACATTACTGTTCATAAGCCACAGAAGTATAGGTCCACTACCAGTTAATCTGCTCTAACGTTGAGACTATCCTCTTGTTTAAGTGCCGCATATAATACCGGAGACCTCATACGAACAGCCTTGCTTCAAATGTTGAAGATTCCTTAAGTCTTTTCAGTCCCTAGATGACCCCGTGGTTGTGGCGTTAACACCAGGATCCCTCCGGCGGACTAGGATCTCAATTTTCATGAATTAACTTCGTGTTGGAGCGAGGGCCTTTCTAAAATTTCAAGCAGTATAGGTTCTCAGTGGGCGCTACGTGGATGGTGTCGTTCTGGCAAGCCGGCTGCATTCGCACCCGAGACGCTTGCGAGAGACGGCGTCTCGCGTGTAAGACGCCCGAGCTCGCACGCGTGGGGGGGTCCTATGATTTCAGAGTCAATCACCATAGACCTACGTGAAAGCGC\""
   ]
  },
  {
   "cell_type": "code",
   "execution_count": 47,
   "id": "940c2e71",
   "metadata": {},
   "outputs": [],
   "source": [
    "def reverse_complement(seq):\n",
    "    \"\"\"Swapping adenine with thymine and guanine with cytosine. Reversing newly generated string\"\"\"\n",
    "    # return ''.join([DNA_ReverseComplement[nuc] for nuc in seq])\n",
    "    # Pythonic approach. A little bit faster solution.\n",
    "    mapping = str.maketrans('ATCG', 'TAGC')\n",
    "    return seq.translate(mapping)\n",
    "\n",
    "revst=reverse_complement(st)"
   ]
  },
  {
   "cell_type": "code",
   "execution_count": 48,
   "id": "f4072bbb",
   "metadata": {},
   "outputs": [
    {
     "name": "stdout",
     "output_type": "stream",
     "text": [
      "1 4\n",
      "2 4\n",
      "9 4\n",
      "26 6\n",
      "27 4\n",
      "60 4\n",
      "76 6\n",
      "77 4\n",
      "80 4\n",
      "82 4\n",
      "114 6\n",
      "115 4\n",
      "126 4\n",
      "133 4\n",
      "156 4\n",
      "160 6\n",
      "161 4\n",
      "216 4\n",
      "250 4\n",
      "259 4\n",
      "279 8\n",
      "280 6\n",
      "281 4\n",
      "303 4\n",
      "311 4\n",
      "324 4\n",
      "341 4\n",
      "343 4\n",
      "351 4\n",
      "355 4\n",
      "403 4\n",
      "414 4\n",
      "422 4\n",
      "446 4\n",
      "447 4\n",
      "465 4\n",
      "470 12\n",
      "471 10\n",
      "472 8\n",
      "473 6\n",
      "474 4\n",
      "492 4\n",
      "532 4\n",
      "549 4\n",
      "561 6\n",
      "562 4\n",
      "583 4\n",
      "594 4\n",
      "595 4\n",
      "602 4\n",
      "647 6\n",
      "648 4\n",
      "665 4\n",
      "688 6\n",
      "689 4\n",
      "698 6\n",
      "699 4\n",
      "706 4\n",
      "714 4\n",
      "718 4\n",
      "724 4\n",
      "728 8\n",
      "729 6\n",
      "730 4\n",
      "734 4\n",
      "736 4\n",
      "757 4\n",
      "767 6\n",
      "768 4\n",
      "780 4\n",
      "796 4\n",
      "801 4\n",
      "824 8\n",
      "825 6\n",
      "826 4\n",
      "831 4\n",
      "869 4\n",
      "884 8\n",
      "885 6\n",
      "886 4\n",
      "892 8\n",
      "893 6\n",
      "894 4\n",
      "939 4\n",
      "947 4\n",
      "947 4\n",
      "947 4\n",
      "947 4\n",
      "947 4\n",
      "947 4\n",
      "947 4\n",
      "947 4\n",
      "947 4\n"
     ]
    }
   ],
   "source": [
    "for i in range(0, len(st)):\n",
    "    for j in range(4,13):\n",
    "        if st[i:i+j][::-1] in revst[i:i+j]:\n",
    "            if len(st[i:i+j])>= 4:\n",
    "                    print(str(i+1)+\" \"+str(len(st[i:i+j])))\n",
    "\n",
    "# It repeats the results at the nucleotides at the end, make sure to delete them before submitting your answer."
   ]
  }
 ],
 "metadata": {
  "kernelspec": {
   "display_name": "Python 3 (ipykernel)",
   "language": "python",
   "name": "python3"
  },
  "language_info": {
   "codemirror_mode": {
    "name": "ipython",
    "version": 3
   },
   "file_extension": ".py",
   "mimetype": "text/x-python",
   "name": "python",
   "nbconvert_exporter": "python",
   "pygments_lexer": "ipython3",
   "version": "3.8.5"
  }
 },
 "nbformat": 4,
 "nbformat_minor": 5
}
