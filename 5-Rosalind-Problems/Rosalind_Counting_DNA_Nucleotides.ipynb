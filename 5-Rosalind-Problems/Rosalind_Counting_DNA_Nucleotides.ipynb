{
 "cells": [
  {
   "cell_type": "markdown",
   "id": "38e0e20b",
   "metadata": {},
   "source": [
    "# Counting DNA Nucleotides\n",
    "<https://rosalind.info/problems/dna/>"
   ]
  },
  {
   "cell_type": "code",
   "execution_count": 1,
   "id": "b3e86461",
   "metadata": {},
   "outputs": [
    {
     "name": "stdout",
     "output_type": "stream",
     "text": [
      "180 237 195 213\n"
     ]
    }
   ],
   "source": [
    "def countNucFrequency(seq):\n",
    "    tmpFreqDict = {\"A\": 0, \"C\": 0, \"G\": 0, \"T\": 0}\n",
    "    for nuc in seq:\n",
    "        tmpFreqDict[nuc] += 1\n",
    "    return tmpFreqDict\n",
    "\n",
    "\n",
    "DNAString = \"TCGGTATCATCCCTCCCCTAAGCGCCATTACGCGTCCGTAGAACCGTGTCTGCTTGGCTCCATCTGCTAACGCCCGCCCGATGACCCCGGAAATACCACTACGTGCACTTGAATCCCGGAATTTAGGAGTACTACAATGATCTCCCTAACTTTATTCCACCCCTCTCAGCAACCGTCTGGTGAGCATGCACTCAGGGCTCATAAGCCACTCACCGCTCTCATCGCCCGAAGCTGGAGCTACCGGGCCGTGTCGTGTACCTTTTCTCTCCCTTGCCCCTTCTGCTCTGCGTGGATGGCTGCGCTTGCCTTCAAACGTGCTGCTACTGCGTGTGATTGTGGCACGATTTGATTATAAAATTGCTTGGATTGACGCGCAGACGATAGCCTACAATAACCGTTTATCGACCAAAAGTATCGTATATGCGGACAAGCCGGCTCACTCCGGACTTCTTGTATTTGCGTGCAACTTAATCCTTAGCGCTGCGGGCATCTGAGTGGCACCAGGGCACGCTCAAAGGGCCATATCGACCCGGACCTTAGAGGGTTCTGAGTTAACTCCTGTCGTGTCTATAGTTAGGTAGACAGATCTGCACGCTCATCTGGCGTCCCGAGTCCACAGCAATCGGATGGTCTCGTCGTTTATATACCAAATGTTGGTAGGGCCCCTTACGCAACGTTAATGGCTTATTATGGTTGATTGCAGCAAAGACTTGTGGTAGCCCCTGGCGCCGTCGAGCCAATCCGTTAAAAGTCACTACGCGATGTTAAGTACGTGGGCCGACACGACGGCATGATTCAATTTATCTGAGGCACACTAGAACCACT\"\n",
    "result = countNucFrequency(DNAString)\n",
    "\n",
    "print(' '.join([str(val) for key, val in result.items()]))"
   ]
  }
 ],
 "metadata": {
  "kernelspec": {
   "display_name": "Python 3 (ipykernel)",
   "language": "python",
   "name": "python3"
  },
  "language_info": {
   "codemirror_mode": {
    "name": "ipython",
    "version": 3
   },
   "file_extension": ".py",
   "mimetype": "text/x-python",
   "name": "python",
   "nbconvert_exporter": "python",
   "pygments_lexer": "ipython3",
   "version": "3.8.5"
  }
 },
 "nbformat": 4,
 "nbformat_minor": 5
}
