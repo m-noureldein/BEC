{
 "cells": [
  {
   "cell_type": "markdown",
   "id": "3339498f",
   "metadata": {},
   "source": [
    "# Rabbits and Recurrence Relations\n",
    "<https://rosalind.info/problems/fib/>"
   ]
  },
  {
   "cell_type": "code",
   "execution_count": 1,
   "id": "1fd13631",
   "metadata": {},
   "outputs": [
    {
     "name": "stdout",
     "output_type": "stream",
     "text": [
      "3855438727\n"
     ]
    }
   ],
   "source": [
    "def Fibonacci_Loop_Pythonic(month, offspring):\n",
    "    parent, child = 1, 1\n",
    "    for itr in range(month - 1):\n",
    "        child, parent = parent, parent + (child * offspring)\n",
    "    return child\n",
    "\n",
    "\n",
    "print(Fibonacci_Loop_Pythonic(28, 3))"
   ]
  }
 ],
 "metadata": {
  "kernelspec": {
   "display_name": "Python 3 (ipykernel)",
   "language": "python",
   "name": "python3"
  },
  "language_info": {
   "codemirror_mode": {
    "name": "ipython",
    "version": 3
   },
   "file_extension": ".py",
   "mimetype": "text/x-python",
   "name": "python",
   "nbconvert_exporter": "python",
   "pygments_lexer": "ipython3",
   "version": "3.8.5"
  }
 },
 "nbformat": 4,
 "nbformat_minor": 5
}
