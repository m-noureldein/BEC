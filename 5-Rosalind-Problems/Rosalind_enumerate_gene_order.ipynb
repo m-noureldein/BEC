{
 "cells": [
  {
   "cell_type": "markdown",
   "id": "82a642a1",
   "metadata": {},
   "source": [
    "# Enumerating Gene Orders\n",
    "<https://rosalind.info/problems/perm/>"
   ]
  },
  {
   "cell_type": "code",
   "execution_count": null,
   "id": "90f012d3",
   "metadata": {},
   "outputs": [],
   "source": [
    "n=5\n",
    "import random\n",
    "\n",
    "rnd=[]\n",
    "temp=0\n",
    "#Generate n random numbers between 1 and n\n",
    "for i in range(1,1000):\n",
    "    randomlist = random.sample(range(1, n+1), n)\n",
    "    if randomlist in rnd:\n",
    "        temp+1\n",
    "    else:\n",
    "        rnd.append(randomlist)\n",
    "\n",
    "len(rnd)\n",
    "for lst in rnd:\n",
    "    print(' '.join(map(str, lst)))"
   ]
  },
  {
   "cell_type": "code",
   "execution_count": 53,
   "id": "3b0ce2ad",
   "metadata": {},
   "outputs": [
    {
     "data": {
      "text/plain": [
       "120"
      ]
     },
     "execution_count": 53,
     "metadata": {},
     "output_type": "execute_result"
    }
   ],
   "source": [
    "len(rnd)"
   ]
  }
 ],
 "metadata": {
  "kernelspec": {
   "display_name": "Python 3 (ipykernel)",
   "language": "python",
   "name": "python3"
  },
  "language_info": {
   "codemirror_mode": {
    "name": "ipython",
    "version": 3
   },
   "file_extension": ".py",
   "mimetype": "text/x-python",
   "name": "python",
   "nbconvert_exporter": "python",
   "pygments_lexer": "ipython3",
   "version": "3.8.5"
  }
 },
 "nbformat": 4,
 "nbformat_minor": 5
}
