{
 "cells": [
  {
   "cell_type": "markdown",
   "id": "31b6853b",
   "metadata": {},
   "source": [
    "# Finding a Spliced Motif\n",
    "<https://rosalind.info/problems/sseq/>"
   ]
  },
  {
   "cell_type": "code",
   "execution_count": 29,
   "id": "585760d7",
   "metadata": {},
   "outputs": [],
   "source": [
    "# Extract sequences from fasta\n",
    "# Import modules\n",
    "from Bio import SeqIO\n",
    "\n",
    "filename='Downloads/rosalind_sseq-2.txt'\n",
    "sequences=[i for i in SeqIO.parse(filename, 'fasta')]\n",
    "\n",
    "interests=[]\n",
    "\n",
    "for i in range(0, len(sequences)):\n",
    "    interests.append(str(sequences[i].seq))"
   ]
  },
  {
   "cell_type": "code",
   "execution_count": 30,
   "id": "08052f6d",
   "metadata": {},
   "outputs": [
    {
     "name": "stdout",
     "output_type": "stream",
     "text": [
      "3 6 12 14 29 32 39 50 57 60 62 64 71 82 85 90 92 103 105 123 128 139 142 155 158 160 169 175 184 189\n"
     ]
    }
   ],
   "source": [
    "st1=interests[0]\n",
    "st2=interests[1]\n",
    "\n",
    "ind=[]\n",
    "for i in range(len(st2)):\n",
    "    for j in range(len(st1)):\n",
    "        if st2[i]==st1[j]:\n",
    "            if j not in ind:\n",
    "                if j+1 not in ind:\n",
    "                    ind.append(j+1)\n",
    "                    st1=list(st1)\n",
    "                    for k in range(0,j):\n",
    "                        st1[k]=' '\n",
    "                    st1=''.join(st1)\n",
    "                    break\n",
    "      \n",
    "print(' '.join(map(str, ind)))"
   ]
  }
 ],
 "metadata": {
  "kernelspec": {
   "display_name": "Python 3 (ipykernel)",
   "language": "python",
   "name": "python3"
  },
  "language_info": {
   "codemirror_mode": {
    "name": "ipython",
    "version": 3
   },
   "file_extension": ".py",
   "mimetype": "text/x-python",
   "name": "python",
   "nbconvert_exporter": "python",
   "pygments_lexer": "ipython3",
   "version": "3.8.5"
  }
 },
 "nbformat": 4,
 "nbformat_minor": 5
}
