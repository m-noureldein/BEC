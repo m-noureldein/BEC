{
 "cells": [
  {
   "cell_type": "markdown",
   "id": "c2513d96",
   "metadata": {},
   "source": [
    "# Calculating Protein Mass\n",
    "<https://rosalind.info/problems/prtm/>"
   ]
  },
  {
   "cell_type": "code",
   "execution_count": 18,
   "id": "eb14624f",
   "metadata": {},
   "outputs": [
    {
     "data": {
      "text/plain": [
       "102752.89297000044"
      ]
     },
     "execution_count": 18,
     "metadata": {},
     "output_type": "execute_result"
    }
   ],
   "source": [
    "# Create a dictionary with the weights of each amino acid\n",
    "\n",
    "dict={\"A\":71.03711,\"C\":103.00919,\"D\":115.02694,\"E\":129.04259,\"F\":147.06841,\"G\":57.02146,\"H\":137.05891,\"I\":113.08406,\n",
    "\"K\":128.09496,\"L\":113.08406,\"M\":131.04049,\"N\":114.04293,\"P\":97.05276,\"Q\":128.05858,\"R\":156.10111,\"S\":87.03203,\n",
    "\"T\":101.04768,\"V\":99.06841,\"W\":186.07931,\"Y\":163.06333}\n",
    "\n",
    "p= \"MIGRWNHFQPTVYISRNSDKWWHMHCFETDERPWCDNWMAKDMCFLCGHKGNNWFSGHRLPETPPLCRMWTLHRNHCYFWSYHQDMNQMVHLLYHMSCEGPLGSNMSYSSQNMVPQQQYRRFFFITAVCTWGIKGRTLIVIWNLVSGVASHHWGVQATAKWWWEWLRYPWEDVFIKIPIFYRPSEPQGEWTSIKHHHDSALWPRNQEDKWTPERQHRPGVTGPNCPKCDRVCLRTEMGYNQRYVRNAQQWGKRMPMSCNLTPKDKRKSAGYCKQNYPLIAIFQFMCCFTYNEVTNSNKGYLSPMCEVTKTFGWEYQRQVFGNHFMERWVYGAHSQFKDQCCVLCHKNQKAHQAMNDDIVIQAQFCHQTCEMCGNQGDHPNACYLYWHHVREYHETGMHYTEDHRKVRIIWPYPTRWQHPTNWWDRKQAIVKDLHMYLHAGPFWKGNGHGEYRNMESSMSMCWKAWSGKYQPSNNMVKTPQSMSYDPNPINTPVAHENDCGKMLPQIQWNMVINHWALVAQQIMTFRKQMRPSHTNSFDAGLGHCPSRKIIQQNNGLSADMYPDPFHYRHKVMMHQKTLCAKLYLIHSYAGSMMDACKRLGYFDRWCFEFEANANYWIMYDDNPCYQSGWPNEGMDCLISYRMQYVRMNAQCQKHWCSCKIWQYLTHPMPQFWHTFCAPCFELGKKHPNKGWRDHIMKKVEEHYYNALNVENVKKQHVKAHSDRLWSAHYWINGNIPEITIFSHFTEIPFQEYYADQLDRHGMGQGREDKYHMFTETSSEKCWFKHTTDSPDIRGVCHVEIRFFQEWYELMATIQELAHSSEPQTPYGPESPLMSWHKGLFFSTKFCDHKSESAISSAFQC\"\n",
    "\n",
    "temp=0\n",
    "w=[]\n",
    "for i in range(0,len(p)):\n",
    "    w.append(dict[p[i]])\n",
    "    \n",
    "sum(w)"
   ]
  }
 ],
 "metadata": {
  "kernelspec": {
   "display_name": "Python 3 (ipykernel)",
   "language": "python",
   "name": "python3"
  },
  "language_info": {
   "codemirror_mode": {
    "name": "ipython",
    "version": 3
   },
   "file_extension": ".py",
   "mimetype": "text/x-python",
   "name": "python",
   "nbconvert_exporter": "python",
   "pygments_lexer": "ipython3",
   "version": "3.8.5"
  }
 },
 "nbformat": 4,
 "nbformat_minor": 5
}
