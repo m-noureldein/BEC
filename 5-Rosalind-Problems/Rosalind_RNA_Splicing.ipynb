{
 "cells": [
  {
   "cell_type": "markdown",
   "id": "25ef9836",
   "metadata": {},
   "source": [
    "# RNA Splicing\n",
    "<https://rosalind.info/problems/splc/>"
   ]
  },
  {
   "cell_type": "code",
   "execution_count": null,
   "id": "5a3a6465",
   "metadata": {},
   "outputs": [],
   "source": [
    "DNA_Codons = {\n",
    "    # 'M' - START, '_' - STOP\n",
    "    \"GCT\": \"A\", \"GCC\": \"A\", \"GCA\": \"A\", \"GCG\": \"A\",\n",
    "    \"TGT\": \"C\", \"TGC\": \"C\",\n",
    "    \"GAT\": \"D\", \"GAC\": \"D\",\n",
    "    \"GAA\": \"E\", \"GAG\": \"E\",\n",
    "    \"TTT\": \"F\", \"TTC\": \"F\",\n",
    "    \"GGT\": \"G\", \"GGC\": \"G\", \"GGA\": \"G\", \"GGG\": \"G\",\n",
    "    \"CAT\": \"H\", \"CAC\": \"H\",\n",
    "    \"ATA\": \"I\", \"ATT\": \"I\", \"ATC\": \"I\",\n",
    "    \"AAA\": \"K\", \"AAG\": \"K\",\n",
    "    \"TTA\": \"L\", \"TTG\": \"L\", \"CTT\": \"L\", \"CTC\": \"L\", \"CTA\": \"L\", \"CTG\": \"L\",\n",
    "    \"ATG\": \"M\",\n",
    "    \"AAT\": \"N\", \"AAC\": \"N\",\n",
    "    \"CCT\": \"P\", \"CCC\": \"P\", \"CCA\": \"P\", \"CCG\": \"P\",\n",
    "    \"CAA\": \"Q\", \"CAG\": \"Q\",\n",
    "    \"CGT\": \"R\", \"CGC\": \"R\", \"CGA\": \"R\", \"CGG\": \"R\", \"AGA\": \"R\", \"AGG\": \"R\",\n",
    "    \"TCT\": \"S\", \"TCC\": \"S\", \"TCA\": \"S\", \"TCG\": \"S\", \"AGT\": \"S\", \"AGC\": \"S\",\n",
    "    \"ACT\": \"T\", \"ACC\": \"T\", \"ACA\": \"T\", \"ACG\": \"T\",\n",
    "    \"GTT\": \"V\", \"GTC\": \"V\", \"GTA\": \"V\", \"GTG\": \"V\",\n",
    "    \"TGG\": \"W\",\n",
    "    \"TAT\": \"Y\", \"TAC\": \"Y\",\n",
    "    \"TAA\": \"_\", \"TAG\": \"_\", \"TGA\": \"_\"\n",
    "}\n",
    "\n",
    "def translate_seq(seq, init_pos=0):\n",
    "    \"\"\"Translates a DNA sequence into an aminoacid sequence\"\"\"\n",
    "    return [DNA_Codons[seq[pos:pos + 3]] for pos in range(init_pos, len(seq) - 2, 3)]"
   ]
  },
  {
   "cell_type": "code",
   "execution_count": 38,
   "id": "1a10482b",
   "metadata": {},
   "outputs": [
    {
     "name": "stdout",
     "output_type": "stream",
     "text": [
      "MCFITIYVAVGGTTTILRTRFWNFKKHNILWCCLLLRLCVSPPRQALVLILSTVFGRIFALHHPSCAQIRVCGKCPLEGRCRETVASISSICSIAIMLYTCYLRGLASWVAVNLLFNCLIVIVMLNSCRAEQHTSASPRFSWDNALTVADCHITAGSLPSPAFPPHRCSGYRCAPRQVLRRETIGLRTKSM_"
     ]
    }
   ],
   "source": [
    "# Extract sequences from fasta\n",
    "# Import modules\n",
    "from Bio import SeqIO\n",
    "filename='Downloads/rosalind_splc-2.txt'\n",
    "sequences=[i for i in SeqIO.parse(filename, 'fasta')]\n",
    "\n",
    "interests=[]\n",
    "for i in range(0, len(sequences)):\n",
    "    interests.append(str(sequences[i].seq))\n",
    "    \n",
    "prot=interests[0]\n",
    "for i in range(1,len(interests)):\n",
    "    if interests[i] in interests[0]:\n",
    "        prot=prot.replace(interests[i], '')\n",
    "\n",
    "for i in translate_seq(prot):\n",
    "    print(''.join(i), end=\"\")      \n"
   ]
  }
 ],
 "metadata": {
  "kernelspec": {
   "display_name": "Python 3 (ipykernel)",
   "language": "python",
   "name": "python3"
  },
  "language_info": {
   "codemirror_mode": {
    "name": "ipython",
    "version": 3
   },
   "file_extension": ".py",
   "mimetype": "text/x-python",
   "name": "python",
   "nbconvert_exporter": "python",
   "pygments_lexer": "ipython3",
   "version": "3.8.5"
  }
 },
 "nbformat": 4,
 "nbformat_minor": 5
}
