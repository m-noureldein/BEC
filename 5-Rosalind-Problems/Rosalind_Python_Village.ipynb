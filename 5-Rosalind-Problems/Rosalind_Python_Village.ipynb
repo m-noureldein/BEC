{
 "cells": [
  {
   "cell_type": "markdown",
   "id": "a32f0d02",
   "metadata": {},
   "source": [
    "# Python Village Problems\n",
    "<https://rosalind.info/problems/list-view/?location=python-village>"
   ]
  },
  {
   "cell_type": "code",
   "execution_count": 1,
   "id": "fc0c2f92",
   "metadata": {},
   "outputs": [
    {
     "name": "stdout",
     "output_type": "stream",
     "text": [
      "1790800\n"
     ]
    }
   ],
   "source": [
    "# Variables and some arithmetic\n",
    "a = 968\n",
    "b = 924\n",
    "result = a ** 2 + b ** 2\n",
    "print(result)"
   ]
  },
  {
   "cell_type": "code",
   "execution_count": 2,
   "id": "260b0890",
   "metadata": {},
   "outputs": [
    {
     "name": "stdout",
     "output_type": "stream",
     "text": [
      "Netta fallax\n"
     ]
    }
   ],
   "source": [
    "# ===== Strings and Lists =====\n",
    "wordOneStartPos = 30\n",
    "wordOneEndPos = 34\n",
    "\n",
    "wordTwoStartPos = 138\n",
    "wordTwoEndPos = 143\n",
    "\n",
    "txtStr = \"odh69sMe1QesIxH9xGwG1kfZehEFmZNettanIa2g4DN2PgYWU1vfsSdcv1RAskaA33KgLh1gi4HhhcXrtLFH42ffRxBmeaETrDoQh1l2o4Dy2j7qvvuVmKA12C0hWfbWxriUilJoerfallaxey2S2PXVdj903364uL0WmsEdw3nnZXGxB.\"\n",
    "\n",
    "# Note: end position is not inclusive, so we add 1 to capture it\n",
    "print(\n",
    "    f'{txtStr[wordOneStartPos:wordOneEndPos + 1]} {txtStr[wordTwoStartPos:wordTwoEndPos + 1]}')"
   ]
  },
  {
   "cell_type": "code",
   "execution_count": 3,
   "id": "c12b42f2",
   "metadata": {},
   "outputs": [
    {
     "name": "stdout",
     "output_type": "stream",
     "text": [
      "16326893\n"
     ]
    }
   ],
   "source": [
    "# ===== Conditions and Loops =====\n",
    "startPos = 4852\n",
    "endPos = 9426\n",
    "result = 0\n",
    "\n",
    "for x in range(startPos, endPos + 1):\n",
    "    if x % 2 != 0:\n",
    "        result += x\n",
    "\n",
    "# result = sum(\n",
    "#     [x for x in range(startPos, endPos + 1) if x % 2 != 0]\n",
    "# )\n",
    "\n",
    "print(result)"
   ]
  },
  {
   "cell_type": "code",
   "execution_count": 4,
   "id": "5f06405e",
   "metadata": {},
   "outputs": [],
   "source": [
    "# ===== Working with Files =====\n",
    "outputFile = []\n",
    "\n",
    "with open('input.txt', 'r') as f:\n",
    "    outputFile = [line for pos, line in enumerate(\n",
    "        f.readlines()) if pos % 2 != 0]\n",
    "\n",
    "\n",
    "with open('out.txt', 'w') as f:\n",
    "    f.write(''.join([line for line in outputFile]))"
   ]
  },
  {
   "cell_type": "code",
   "execution_count": 5,
   "id": "53342744",
   "metadata": {},
   "outputs": [
    {
     "name": "stdout",
     "output_type": "stream",
     "text": [
      "When 1\n",
      "I 2\n",
      "find 1\n",
      "myself 1\n",
      "in 4\n",
      "times 1\n",
      "of 11\n",
      "trouble 1\n",
      "Mother 2\n",
      "Mary 2\n",
      "comes 2\n",
      "to 3\n",
      "me 4\n",
      "Speaking 3\n",
      "words 7\n",
      "wisdom 7\n",
      "let 30\n",
      "it 36\n",
      "be 41\n",
      "And 3\n",
      "my 1\n",
      "hour 1\n",
      "darkness 1\n",
      "she 1\n",
      "is 4\n",
      "standing 1\n",
      "right 1\n",
      "front 1\n",
      "Let 6\n",
      "Whisper 4\n",
      "when 2\n",
      "the 4\n",
      "broken 1\n",
      "hearted 1\n",
      "people 1\n",
      "living 1\n",
      "world 1\n",
      "agree 1\n",
      "There 4\n",
      "will 5\n",
      "an 4\n",
      "answer 4\n",
      "For 1\n",
      "though 1\n",
      "they 2\n",
      "may 1\n",
      "parted 1\n",
      "there 2\n",
      "still 2\n",
      "a 2\n",
      "chance 1\n",
      "that 2\n",
      "see 1\n",
      "night 1\n",
      "cloudy 1\n",
      "light 1\n",
      "shines 1\n",
      "on 1\n",
      "Shine 1\n",
      "until 1\n",
      "tomorrow 1\n",
      "wake 1\n",
      "up 1\n",
      "sound 1\n",
      "music 1\n",
      "yeah 2\n"
     ]
    }
   ],
   "source": [
    "# ===== Dictionaries =====\n",
    "txtStr = \"When I find myself in times of trouble Mother Mary comes to me Speaking words of wisdom let it be And in my hour of darkness she is standing right in front of me Speaking words of wisdom let it be Let it be let it be let it be let it be Whisper words of wisdom let it be And when the broken hearted people living in the world agree There will be an answer let it be For though they may be parted there is still a chance that they will see There will be an answer let it be Let it be let it be let it be let it be There will be an answer let it be Let it be let it be let it be let it be Whisper words of wisdom let it be Let it be let it be let it be let it be Whisper words of wisdom let it be And when the night is cloudy there is still a light that shines on me Shine until tomorrow let it be I wake up to the sound of music Mother Mary comes to me Speaking words of wisdom let it be Let it be let it be let it be yeah let it be There will be an answer let it be Let it be let it be let it be yeah let it be Whisper words of wisdom let it be\"\n",
    "\n",
    "# Generic approach:\n",
    "wordCoutDict = {}\n",
    "\n",
    "for word in txtStr.split(' '):\n",
    "    if word in wordCoutDict:\n",
    "        wordCoutDict[word] += 1\n",
    "    else:\n",
    "        wordCoutDict[word] = 1\n",
    "\n",
    "# Optimized, Pythonic approach, using collections module:\n",
    "# wordCoutDict = Counter(txtStr.split(' '))\n",
    "\n",
    "for key, value in wordCoutDict.items():\n",
    "    print(key, value)"
   ]
  },
  {
   "cell_type": "code",
   "execution_count": null,
   "id": "edffd039",
   "metadata": {},
   "outputs": [],
   "source": []
  }
 ],
 "metadata": {
  "kernelspec": {
   "display_name": "Python 3 (ipykernel)",
   "language": "python",
   "name": "python3"
  },
  "language_info": {
   "codemirror_mode": {
    "name": "ipython",
    "version": 3
   },
   "file_extension": ".py",
   "mimetype": "text/x-python",
   "name": "python",
   "nbconvert_exporter": "python",
   "pygments_lexer": "ipython3",
   "version": "3.8.5"
  }
 },
 "nbformat": 4,
 "nbformat_minor": 5
}
