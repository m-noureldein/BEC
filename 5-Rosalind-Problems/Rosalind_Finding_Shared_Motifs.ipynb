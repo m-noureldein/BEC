{
 "cells": [
  {
   "cell_type": "markdown",
   "id": "903cb59f",
   "metadata": {},
   "source": [
    "# Finding a Shared Motif\n",
    "<https://rosalind.info/problems/lcsm/>"
   ]
  },
  {
   "cell_type": "code",
   "execution_count": 212,
   "id": "6739e8a7",
   "metadata": {},
   "outputs": [
    {
     "name": "stdout",
     "output_type": "stream",
     "text": [
      "CCAAGACCATGAGTACCTTATAGTGGATTTCCACCAGGACTGAAGGGGTACCCTTAGGTCGTCGTAGACGG\n"
     ]
    }
   ],
   "source": [
    "# Extract sequences from fasta\n",
    "# Import modules\n",
    "from Bio import SeqIO\n",
    "filename='Downloads/rosalind_lcsm-13.txt'\n",
    "sequences=[i for i in SeqIO.parse(filename, 'fasta')]\n",
    "\n",
    "# function to get maximum string length:\n",
    "def get_max_str(lst):\n",
    "    return max(lst, key=len)\n",
    "        \n",
    "\n",
    "init=sequences[0].seq\n",
    "motif=[]\n",
    "for j in range(0, len(init)-2):\n",
    "    m=init[j:(j+2)]\n",
    "    for k in range(3,100): #assume that the motif length won't exceed 100 bases\n",
    "        temp=0\n",
    "        for i in range(0, len(sequences)):\n",
    "            if m in sequences[i].seq:\n",
    "                temp=temp+1\n",
    "        if temp==len(sequences):\n",
    "            m=init[j:j+k]\n",
    "        else:\n",
    "            motif.append(m[:-1])\n",
    "\n",
    "\n",
    "print(get_max_str(motif))"
   ]
  }
 ],
 "metadata": {
  "kernelspec": {
   "display_name": "Python 3 (ipykernel)",
   "language": "python",
   "name": "python3"
  },
  "language_info": {
   "codemirror_mode": {
    "name": "ipython",
    "version": 3
   },
   "file_extension": ".py",
   "mimetype": "text/x-python",
   "name": "python",
   "nbconvert_exporter": "python",
   "pygments_lexer": "ipython3",
   "version": "3.8.5"
  }
 },
 "nbformat": 4,
 "nbformat_minor": 5
}
