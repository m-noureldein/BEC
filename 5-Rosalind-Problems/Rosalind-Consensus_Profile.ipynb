{
 "cells": [
  {
   "cell_type": "markdown",
   "id": "ea542aca",
   "metadata": {},
   "source": [
    "# Consensus and Profile\n",
    "<https://rosalind.info/problems/cons/>"
   ]
  },
  {
   "cell_type": "code",
   "execution_count": null,
   "id": "7d86171e",
   "metadata": {},
   "outputs": [],
   "source": [
    "# Extract sequences from fasta\n",
    "# Import modules\n",
    "from Bio import SeqIO"
   ]
  },
  {
   "cell_type": "code",
   "execution_count": 83,
   "id": "287b82ab",
   "metadata": {},
   "outputs": [],
   "source": [
    "filename='Downloads/rosalind_cons-6.txt'\n",
    "sequences=[i for i in SeqIO.parse(filename, 'fasta')]"
   ]
  },
  {
   "cell_type": "code",
   "execution_count": 84,
   "id": "44e58b1b",
   "metadata": {},
   "outputs": [],
   "source": [
    "interests=[]\n",
    "\n",
    "for i in range(0, len(sequences)):\n",
    "    interests.append(sequences[i].seq)"
   ]
  },
  {
   "cell_type": "code",
   "execution_count": 85,
   "id": "39867baa",
   "metadata": {},
   "outputs": [
    {
     "name": "stdout",
     "output_type": "stream",
     "text": [
      "GGATGCTTAATTATGTAACATTCGTCCGCTCGTCAGTATAAATTTGCCTAAATGCCAATGACAATCCCAACGCAGAACAGCCAAACTAAGGCGGCAACACATCCCAGCACTATCAGTAGGCCAACCCCTCGTAGAGAGTAAATGACGACAATCCGCAGATAGCAGAAACTGAAAGACACTTCTACTGAGCAAAATAACAAAAGGAAATATGATGCGAGGTACGTCATTAACAAATGAACGTATATACTGGTAGCTAAAAGGAGACGACCAAGGATAAAATAAAAGATTCGGGCCTTTGTATCTTTTGAGACTGATAAGCACCACATAGGACGGAGCCACAAACTCTTAATAAAGTTTCTGAACGTTTAGTCCAAAGGTTAGTGAGATCAAGTTAAGTTACTAAATCTGTGTGTCAATAGACTTATATAAGAAGAAAATTTGATCCGCGTTTGTTGCTGACTGTTAACAGTTCGATCCTTATAGAAAGCTAAACTCAAGTACGATGCAATTCACCAACGGACCGACCGTATACTGCTTCGGGCGTGAGAACCTATTCTTAATTTAAACTTGCATTCCGGCACTTCTAGAAGCCGAAACATTGCGACTATTCTTAATCAGAGTTGGGACAGTTCAAAATTGAAATTCAAGATACTAGCGATTAAACTTTAGATTATGGCGATTTAAAGACAAATGCTGCGAATTGACGTTAATCAGTCACCGTGGAAATTTTGGGTCGTTAAGGAACGGGGGATCTGTTTCAGTCTATAATCCCCCATTCACAATTACCAAAAGATGCAGAAAAATACCACTTGCTAATCGTTCTAAGCTCAACCTGAATAGTCTGATAATAATCGTGGTCAATTACATAAGCTCCAAGTCATTGTCAATAAATTGTACCCAATAAAGGGTCACGCACCCAGGGAGCCTAGCGTTGCGATCATATCGGAAGGAATTCGTGTAGTAAGCATGAAACCA\n",
      "A: 2 2 3 2 3 2 2 1 4 3 1 1 3 1 1 1 3 5 1 5 2 2 2 0 1 1 1 2 0 2 2 2 2 3 4 1 3 4 0 3 4 4 2 1 1 0 2 0 2 4 3 3 1 2 0 2 5 3 1 3 4 3 4 3 0 0 2 3 6 4 2 2 1 5 2 4 3 3 3 3 1 1 4 4 6 3 3 4 5 2 2 2 1 1 1 4 4 3 4 1 3 1 2 1 2 4 2 3 3 2 2 3 2 2 3 2 3 4 1 2 2 1 6 3 2 3 2 2 1 2 2 2 4 1 4 2 4 2 2 4 4 4 3 1 3 2 2 4 3 4 4 2 2 2 2 1 4 2 4 1 3 3 3 4 3 3 3 3 1 1 4 5 5 4 1 3 2 5 3 2 1 3 0 4 3 2 3 4 1 2 4 3 4 4 2 5 5 2 4 3 5 3 2 2 3 3 3 3 3 3 3 4 3 1 2 3 3 1 2 1 5 2 3 1 0 3 0 3 3 6 1 5 4 3 0 0 8 4 2 3 1 3 1 4 1 4 1 0 2 2 2 3 2 1 2 4 3 6 4 2 2 3 2 3 3 3 4 2 1 4 4 2 1 3 3 4 3 4 3 2 3 4 5 3 1 3 1 1 3 2 3 4 3 3 3 2 1 1 2 4 0 1 2 2 2 1 2 4 3 3 3 3 0 3 2 3 4 3 3 4 2 2 4 2 3 1 4 3 3 3 2 1 0 4 3 1 3 4 2 3 5 5 2 1 1 3 2 4 4 2 4 4 4 3 0 2 3 1 2 2 3 4 2 2 0 1 3 6 3 1 2 3 4 3 4 1 1 1 1 4 4 3 1 4 1 4 2 3 3 3 3 3 3 3 3 2 2 1 4 2 3 5 4 4 3 2 1 2 2 2 1 2 2 2 4 3 0 3 1 3 3 3 1 3 2 4 2 4 4 3 4 5 3 3 4 4 4 2 3 1 4 4 2 1 2 2 1 2 2 1 0 2 3 1 3 3 2 1 4 2 0 2 0 2 3 3 1 3 3 2 2 3 3 4 0 2 2 1 1 3 2 3 2 6 3 5 2 0 2 4 4 3 1 1 1 3 3 1 3 5 2 3 3 1 2 2 3 3 0 2 3 3 2 1 4 3 0 2 0 6 2 3 2 4 2 2 3 1 3 2 3 0 2 2 2 2 2 2 0 3 2 2 0 3 2 4 3 3 3 0 3 0 5 2 2 2 0 2 4 3 2 2 2 7 3 3 2 1 1 3 2 4 3 2 3 1 3 1 1 4 0 0 3 1 2 5 3 4 5 0 2 2 1 4 6 3 1 4 2 2 2 0 2 3 1 2 4 1 1 3 1 1 5 4 1 3 4 2 5 3 2 1 3 3 3 3 2 5 1 2 0 2 3 3 4 5 2 2 3 4 4 6 2 2 1 4 7 3 4 2 4 1 1 4 3 3 2 3 2 1 3 3 4 2 1 3 0 5 1 3 0 3 5 1 0 0 1 2 4 3 2 2 3 6 3 2 5 4 4 4 5 0 3 1 2 1 0 1 5 3 1 2 2 4 1 2 2 2 7 3 2 2 3 3 2 3 4 0 2 2 0 1 1 6 3 4 4 2 2 2 0 1 2 1 3 3 2 2 4 5 0 3 4 4 3 3 2 1 1 3 4 0 1 4 2 1 1 2 2 3 4 2 3 2 3 2 5 4 1 1 3 2 2 2 3 2 0 2 4 1 3 4 2 1 4 2 2 4 4 6 3 2 4 2 1 2 4 0 3 3 4 5 3 2 4 1 2 6 2 3 1 3 1 1 3 4 2 0 2 0 2 2 2 4 4 2 2 2 3 3 5 1 2 3 2 3 3 0 5 2 2 1 2 2 4 1 6 3 2 4 3 1 2 1 3 0 3 2 2 3 4 2 2 4 2 3 1 3 4 3 1 1 2 3 4 6 1 0 2 7 3 2 1 1 2 3 5 2 4 3 3 2 2 1 2 3 3 2 3 3 5 2 6 4 3 2 1 2 2 2 6 1 2 0 3 0 1 2 6 3 3 2 3 1 2 2 2 3 3 2 1 2 2 2 1 3 5 2 3 3 2 5 1 0 3 3 4 4 2 0 4 3 2 2 2 1 2 1 1 4 1 4 6 3 1 1 5 2 2 5 3 5 1 3 4\n",
      "C: 1 2 3 3 2 4 2 2 0 2 1 4 2 1 3 2 2 4 4 1 3 3 3 3 3 5 4 3 5 2 4 3 1 4 3 3 2 1 2 3 2 2 2 4 4 3 3 5 2 2 2 2 2 0 4 4 3 2 3 2 2 4 3 1 4 5 4 4 0 1 4 0 5 3 2 2 1 4 3 2 4 5 1 4 1 4 2 2 1 2 2 5 1 2 4 2 0 4 3 4 3 4 4 4 4 3 2 5 2 5 3 3 0 4 3 2 1 3 3 3 3 5 1 3 4 4 6 5 2 5 1 3 2 3 3 2 3 1 3 1 3 2 2 2 2 6 2 2 4 4 0 2 4 3 2 4 2 1 1 1 3 1 4 4 2 1 3 3 4 1 0 2 2 3 3 3 6 1 4 3 2 4 3 2 5 2 3 1 1 5 2 3 3 0 3 4 3 4 1 3 3 2 1 1 3 3 3 1 3 3 2 1 3 1 5 2 2 2 1 2 1 5 1 3 6 2 3 1 2 3 5 3 2 2 2 3 0 4 4 1 1 3 2 4 2 1 5 0 1 1 2 3 2 4 3 3 3 1 0 3 2 2 2 1 5 2 3 5 4 2 0 2 3 2 0 2 3 2 2 0 2 1 0 2 2 3 2 3 4 3 0 0 4 6 0 3 2 3 2 4 3 4 2 1 2 4 3 4 1 3 5 1 2 2 2 2 3 2 4 0 6 4 1 4 3 3 3 2 1 2 4 2 2 2 3 4 5 3 3 3 3 1 4 3 6 2 3 4 3 4 4 4 1 3 1 2 2 5 3 1 2 1 4 1 3 2 3 2 3 4 3 4 3 3 2 2 2 3 4 2 0 2 2 2 4 3 3 4 2 2 3 1 1 2 3 3 2 2 1 4 1 2 1 1 1 3 4 1 0 2 1 3 1 4 4 2 2 3 2 2 4 1 2 3 3 2 3 2 2 1 2 2 0 3 3 1 1 2 1 3 1 3 3 5 6 2 4 2 0 3 2 1 2 2 1 4 2 0 1 4 2 1 2 3 3 2 4 2 2 3 2 4 0 2 4 6 4 1 3 2 1 2 3 1 1 0 2 4 2 1 1 1 4 2 4 2 2 2 1 2 5 3 3 3 1 4 3 3 2 3 4 2 4 5 2 3 4 1 2 1 4 4 2 4 6 4 1 2 2 2 2 5 3 2 6 2 3 6 3 2 2 3 3 3 3 2 1 2 3 5 4 2 0 0 1 5 2 2 2 3 2 2 2 0 2 3 4 2 2 1 6 4 1 1 6 6 1 2 4 1 6 1 3 5 3 2 3 2 1 1 4 4 3 1 2 2 4 2 3 2 2 4 2 3 4 2 1 3 1 4 4 4 3 2 2 4 3 2 1 2 3 1 2 3 2 3 4 2 2 2 4 4 1 3 2 3 2 1 2 2 1 1 1 3 4 2 0 2 3 2 2 4 4 4 1 4 3 3 3 2 3 1 2 4 3 0 2 2 3 3 2 2 0 2 3 2 4 2 1 1 1 3 3 1 2 3 2 6 1 2 2 4 1 6 2 2 5 2 1 3 2 3 2 3 5 2 3 3 0 2 3 5 2 1 3 4 1 4 3 3 1 2 2 0 2 3 1 2 2 3 2 3 3 4 4 1 2 2 3 0 1 1 2 2 6 1 2 3 2 1 2 1 4 1 3 3 1 3 4 2 1 2 5 3 2 3 2 0 4 4 4 5 4 3 3 1 2 3 1 8 2 0 3 2 1 4 4 2 1 0 3 2 2 0 1 3 2 2 3 2 1 3 2 1 2 5 3 0 3 1 2 2 6 1 3 2 3 4 2 4 0 5 1 2 4 2 3 2 5 2 1 4 4 2 0 3 1 4 1 2 2 7 2 2 1 3 1 1 2 2 3 1 4 0 1 1 1 2 4 2 3 4 2 1 4 3 3 3 0 1 4 2 5 5 0 1 2 3 3 2 1 3 3 3 3 3 2 2 4 3 3 3 1 0 0 3 5 5 4 3 3 3 1 1 3 0 2 2 2 4 2 4 2 4 2 5 4 4 1 0 2 2 3 3 3 6 3 3 0 4 3 3 0 2 6 2 0 2 4 3 2 2 4 4 1 0 1 4 1 3 1 3 3 2 3 3 2 2 2 1 3 0 3 3 1 4 4 2 2 3 3 2 5 4 2\n",
      "G: 6 5 3 2 4 2 3 3 3 3 4 1 2 4 4 3 3 1 2 3 1 1 3 5 3 2 2 4 3 3 2 5 2 1 2 4 1 4 4 1 3 2 1 1 1 4 3 2 2 2 2 3 3 5 4 1 2 3 3 4 2 1 1 3 2 1 2 0 1 2 2 5 1 1 4 1 3 1 2 4 3 2 3 0 3 1 1 2 3 4 4 2 5 4 2 1 2 2 2 3 2 0 1 2 1 1 4 1 3 0 1 1 2 4 2 4 2 2 5 5 3 2 3 3 2 1 0 0 2 1 6 1 2 5 2 4 0 4 1 4 2 3 1 6 2 1 4 2 1 2 2 3 2 3 4 4 2 4 1 3 2 4 3 1 4 3 2 1 3 2 6 0 1 2 6 1 1 1 3 0 3 0 2 2 1 2 4 1 6 1 2 2 3 4 2 0 1 2 1 2 1 2 4 4 3 2 3 2 3 0 4 3 0 6 1 4 3 4 4 3 2 1 5 3 2 2 3 2 3 1 2 0 3 3 4 4 1 1 1 4 3 3 3 2 1 2 3 5 5 5 2 1 4 2 2 0 1 1 2 4 4 2 4 3 0 4 1 2 2 2 4 5 4 3 0 2 3 1 2 3 2 2 5 2 4 2 2 2 3 5 5 5 0 0 2 2 2 4 1 2 3 2 3 2 3 1 4 1 5 3 1 1 6 3 3 3 0 4 1 2 1 1 3 3 2 2 1 4 5 3 3 4 6 3 4 3 1 0 3 3 0 0 2 1 3 1 1 1 2 0 1 1 2 4 4 3 1 2 2 4 3 4 3 6 1 3 0 1 4 1 3 2 2 1 4 4 6 2 1 1 5 0 5 2 5 3 2 0 2 3 4 2 0 3 2 4 2 1 2 3 2 0 2 2 2 3 1 5 2 4 3 5 3 3 1 2 3 3 4 3 1 2 2 2 2 3 2 0 2 4 2 0 4 1 1 3 4 3 1 3 5 3 2 2 0 4 3 4 3 3 1 6 1 3 4 2 3 6 3 2 4 4 4 2 2 2 2 3 4 2 1 1 4 1 2 1 3 4 3 2 2 2 4 0 3 2 5 3 2 3 2 3 2 2 4 3 2 4 2 1 3 4 1 3 4 3 2 1 3 2 1 3 3 2 2 1 3 5 5 3 2 1 5 1 1 1 4 3 3 3 3 1 1 4 2 1 2 1 4 4 4 3 4 0 4 2 4 2 3 1 2 4 2 2 2 3 4 3 2 1 3 3 1 3 2 2 4 2 3 4 0 2 2 3 1 2 4 5 2 1 2 3 0 3 2 3 4 3 2 6 1 2 4 3 1 3 3 1 2 2 5 4 4 2 4 1 2 2 3 2 1 1 1 2 2 3 0 4 3 4 1 3 4 4 4 2 1 3 4 2 1 3 3 2 2 1 0 3 4 3 1 1 3 1 3 2 2 4 3 3 2 2 1 1 5 1 5 1 2 2 3 3 2 2 3 0 4 1 5 2 4 1 3 3 5 5 2 4 3 2 2 1 3 2 3 4 0 0 3 1 3 2 4 2 3 4 2 4 2 3 3 2 4 2 2 5 2 2 1 2 2 0 3 5 2 2 4 4 3 5 2 4 5 3 2 3 0 3 3 2 5 4 4 1 2 4 3 2 3 1 5 5 2 3 0 5 5 4 4 4 2 3 4 0 4 2 2 1 3 3 5 2 2 2 3 2 1 4 1 3 3 1 1 3 3 2 3 3 2 1 2 2 2 3 3 2 4 2 3 3 2 4 3 4 5 3 2 8 1 3 2 1 2 2 2 2 3 2 3 1 3 4 0 3 1 2 2 4 4 2 3 1 2 1 1 4 3 2 1 3 3 4 2 1 6 3 3 2 1 4 1 0 3 5 2 2 2 3 1 4 3 4 3 5 2 5 4 1 1 2 1 0 2 4 2 1 2 2 3 4 2 3 0 1 2 2 4 3 3 1 2 1 5 3 3 3 1 3 2 2 3 2 2 6 4 3 1 0 2 2 2 2 1 2 2 5 5 5 2 2 1 3 6 3 2 3 3 2 0 4 4 4 1 5 3 0 1 2 5 2 5 2 4 4 1 4 4 2 1 2 2 1 1 3 4 4 1 0 4 5 4 2 0 1 3 5 1 4 3 3 4 1 1 2 6 2 1 3 5 0 1 3 2 1 3\n",
      "T: 1 1 1 3 1 2 3 4 3 2 4 4 3 4 2 4 2 0 3 1 4 4 2 2 3 2 3 1 2 3 2 0 5 2 1 2 4 1 4 3 1 2 5 4 4 3 2 3 4 2 3 2 4 3 2 3 0 2 3 1 2 2 2 3 4 4 2 3 3 3 2 3 3 1 2 3 3 2 2 1 2 2 2 2 0 2 4 2 1 2 2 1 3 3 3 3 4 1 1 2 2 5 3 3 3 2 2 1 2 3 4 3 6 0 2 2 4 1 1 0 2 2 0 1 2 2 2 3 5 2 1 4 2 1 1 2 3 3 4 1 1 1 4 1 3 1 2 2 2 0 4 3 2 2 2 1 2 3 4 5 2 2 0 1 1 3 2 3 2 6 0 3 2 1 0 3 1 3 0 5 4 3 5 2 1 4 0 4 2 2 2 2 0 2 3 1 1 2 4 2 1 3 3 3 1 2 1 4 1 4 1 2 4 2 2 1 2 3 3 4 2 2 1 3 2 3 4 4 2 0 2 2 1 2 4 3 1 1 3 2 5 1 4 0 6 3 1 5 2 2 4 3 2 3 3 3 3 2 4 1 2 3 2 3 2 1 2 1 3 2 2 1 2 2 7 2 1 3 3 5 3 3 0 3 3 2 5 4 0 0 2 1 3 1 5 3 5 2 5 0 4 3 3 5 3 4 1 1 1 1 1 5 2 2 3 2 3 1 2 4 1 3 2 1 2 4 2 1 1 2 1 3 2 1 0 2 1 3 2 1 2 4 2 5 0 4 4 1 1 4 1 1 3 0 5 3 4 2 3 3 2 1 1 1 6 4 4 1 0 4 2 1 1 3 0 3 1 4 4 3 1 5 2 2 0 0 3 3 3 2 0 4 6 2 2 1 4 6 3 1 4 3 3 3 4 2 4 2 6 2 5 0 4 1 1 3 5 1 3 2 2 4 5 2 3 1 3 4 2 2 2 3 3 3 2 2 1 3 5 3 0 0 3 2 2 2 2 2 5 3 7 1 4 4 2 1 3 3 2 2 4 3 4 3 2 3 3 2 1 3 5 2 3 3 4 1 1 4 3 3 5 3 1 3 3 3 1 3 4 2 3 3 3 5 1 2 3 3 4 2 0 0 3 3 3 1 2 3 5 3 2 2 1 2 2 3 3 2 3 0 2 2 1 1 1 3 2 4 2 3 2 4 4 2 0 5 3 1 3 1 2 2 3 4 1 2 2 3 1 4 1 4 3 6 5 0 4 3 2 3 3 3 5 0 3 2 0 5 4 2 2 0 4 4 0 1 2 2 3 4 2 6 4 1 3 0 0 1 2 3 3 2 2 2 1 2 2 3 3 4 1 2 2 2 1 5 3 4 5 1 4 4 1 2 5 0 3 2 1 1 4 5 1 0 1 2 3 0 3 4 5 1 3 2 2 1 6 4 1 1 4 2 4 4 2 2 1 1 0 3 2 3 4 1 1 2 0 3 3 5 1 3 2 2 3 7 4 2 1 2 4 4 2 4 2 3 3 2 2 4 5 4 1 1 2 1 3 0 2 3 0 4 2 1 3 3 3 3 2 1 4 3 2 1 2 1 3 3 2 3 3 3 2 1 3 1 1 2 2 0 7 3 2 1 3 0 5 3 3 3 3 2 1 4 1 2 3 4 0 4 4 1 2 1 1 1 1 2 3 2 2 6 1 5 1 4 6 4 1 2 0 4 0 3 2 3 2 2 4 2 0 2 3 2 1 5 5 2 3 0 3 4 3 4 2 2 0 2 2 1 2 2 1 4 3 2 2 0 3 2 3 1 3 5 2 2 2 2 2 5 4 1 3 5 3 2 3 2 2 4 5 2 5 3 1 2 2 4 1 2 1 1 2 4 2 1 3 4 3 2 5 2 3 1 3 4 1 3 5 0 1 4 1 4 4 4 2 5 3 3 2 4 4 1 2 3 4 2 3 2 3 4 3 1 4 1 3 4 2 0 4 4 1 3 2 1 2 3 0 2 1 3 5 3 4 1 1 3 1 2 0 3 2 3 2 3 2 1 4 2 1 2 0 3 3 2 2 2 3 3 1 2 3 1 2 2 4 2 2 2 1 3 4 2 2 1 1 4 2 2 4 2 4 3 2 3 4 2 3 2 1 2 5 5 2 1 5 3 4 2 2 5 0 2 2 3 0 3 1 2 3 0 2 2 1\n"
     ]
    }
   ],
   "source": [
    "def zerolistmaker(n):\n",
    "    listofzeros = [0] * n\n",
    "    return listofzeros\n",
    "\n",
    "interests1= interests[0]\n",
    "\n",
    "alist=[]\n",
    "alist[0:len(interests1)]=zerolistmaker(len(interests1))\n",
    "glist=[]\n",
    "glist[0:len(interests1)]=zerolistmaker(len(interests1))\n",
    "clist=[]\n",
    "clist[0:len(interests1)]=zerolistmaker(len(interests1))\n",
    "tlist=[]\n",
    "tlist[0:len(interests1)]=zerolistmaker(len(interests1))\n",
    "\n",
    "for interest in interests:\n",
    "    for j in range(0,len(interest)):\n",
    "        if interest[j]=='A':\n",
    "            A_increment=1\n",
    "        else:\n",
    "            A_increment=0\n",
    "        alist[j]=alist[j]+A_increment\n",
    "        if interest[j]=='G':\n",
    "            G_increment=1\n",
    "        else:\n",
    "            G_increment=0\n",
    "        glist[j]=glist[j]+G_increment\n",
    "        if interest[j]=='C':\n",
    "            C_increment=1\n",
    "        else:\n",
    "            C_increment=0\n",
    "        clist[j]=clist[j]+C_increment\n",
    "        if interest[j]=='T':\n",
    "            T_increment=1\n",
    "        else:\n",
    "            T_increment=0\n",
    "        tlist[j]=tlist[j]+T_increment\n",
    "        \n",
    "consensus=[]\n",
    "\n",
    "for i in range(0,len(alist)):\n",
    "    if alist[i]==max(alist[i],tlist[i],clist[i],glist[i]):\n",
    "        consensus.append('A')\n",
    "    elif tlist[i]==max(alist[i],tlist[i],clist[i],glist[i]):\n",
    "        consensus.append('T')\n",
    "    elif clist[i]==max(alist[i],tlist[i],clist[i],glist[i]):\n",
    "        consensus.append('C')\n",
    "    elif glist[i]==max(alist[i],tlist[i],clist[i],glist[i]):\n",
    "        consensus.append('G')\n",
    "        \n",
    "print(''.join(map(str, consensus)))\n",
    "print(\"A: \"+' '.join(map(str, alist)))\n",
    "print(\"C: \"+' '.join(map(str, clist)))\n",
    "print(\"G: \"+' '.join(map(str, glist)))\n",
    "print(\"T: \"+' '.join(map(str, tlist)))"
   ]
  }
 ],
 "metadata": {
  "kernelspec": {
   "display_name": "Python 3 (ipykernel)",
   "language": "python",
   "name": "python3"
  },
  "language_info": {
   "codemirror_mode": {
    "name": "ipython",
    "version": 3
   },
   "file_extension": ".py",
   "mimetype": "text/x-python",
   "name": "python",
   "nbconvert_exporter": "python",
   "pygments_lexer": "ipython3",
   "version": "3.8.5"
  }
 },
 "nbformat": 4,
 "nbformat_minor": 5
}
