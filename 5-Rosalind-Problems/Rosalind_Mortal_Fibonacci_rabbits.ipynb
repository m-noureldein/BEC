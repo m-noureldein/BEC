{
 "cells": [
  {
   "cell_type": "markdown",
   "id": "44be8c7b",
   "metadata": {},
   "source": [
    "# Mortal Fibonacci Rabbits\n",
    "<https://rosalind.info/problems/fibd/>"
   ]
  },
  {
   "cell_type": "code",
   "execution_count": null,
   "id": "8eeb6713",
   "metadata": {},
   "outputs": [],
   "source": [
    "n=83\n",
    "m=17\n",
    "\n",
    "x=[]\n",
    "x[0:m]=zerolistmaker(m)\n",
    "x[0]=1\n",
    "\n",
    "for i in range(1,n):\n",
    "    h=x[0]\n",
    "    x[0]=sum(x)-x[0]\n",
    "    x[1:]=x[0:-1]\n",
    "    x[1]=h\n",
    "    \n",
    "sum(x)"
   ]
  }
 ],
 "metadata": {
  "kernelspec": {
   "display_name": "Python 3 (ipykernel)",
   "language": "python",
   "name": "python3"
  },
  "language_info": {
   "codemirror_mode": {
    "name": "ipython",
    "version": 3
   },
   "file_extension": ".py",
   "mimetype": "text/x-python",
   "name": "python",
   "nbconvert_exporter": "python",
   "pygments_lexer": "ipython3",
   "version": "3.8.5"
  }
 },
 "nbformat": 4,
 "nbformat_minor": 5
}
